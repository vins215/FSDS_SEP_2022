{
 "cells": [
  {
   "cell_type": "markdown",
   "id": "97f9adda",
   "metadata": {},
   "source": [
    "<H1>Programming Assignment 01 Solution"
   ]
  },
  {
   "cell_type": "markdown",
   "id": "be5b2d77",
   "metadata": {},
   "source": [
    "__1.\tWrite a Python program to print \"Hello Python\"?__"
   ]
  },
  {
   "cell_type": "code",
   "execution_count": 1,
   "id": "47b7a4b8",
   "metadata": {},
   "outputs": [
    {
     "name": "stdout",
     "output_type": "stream",
     "text": [
      "Hello Python\n"
     ]
    }
   ],
   "source": [
    "print('Hello Python')"
   ]
  },
  {
   "cell_type": "markdown",
   "id": "1fc9eaa1",
   "metadata": {},
   "source": [
    "__2. Write a Python program to do arithmetical operations addition and division.?__"
   ]
  },
  {
   "cell_type": "code",
   "execution_count": 2,
   "id": "f7e3d775",
   "metadata": {},
   "outputs": [
    {
     "name": "stdout",
     "output_type": "stream",
     "text": [
      "Enter value of a10\n",
      "Enter value of b5\n",
      "a + b =>  15\n",
      "a / b =>  2.0\n"
     ]
    }
   ],
   "source": [
    "a = input(\"Enter value of a:\"); \n",
    "b = input(\"Enter value of b:\");\n",
    "\n",
    "k = int(a) + int(b);\n",
    "l = int(a) / int(b);\n",
    "\n",
    "print(\"a + b => \", k)\n",
    "print(\"a / b => \", l)"
   ]
  },
  {
   "cell_type": "markdown",
   "id": "9e7c7648",
   "metadata": {},
   "source": [
    "__3. Write a Python program to find the area of a triangle?__"
   ]
  },
  {
   "cell_type": "code",
   "execution_count": 3,
   "id": "d309612d",
   "metadata": {},
   "outputs": [
    {
     "name": "stdout",
     "output_type": "stream",
     "text": [
      "Enter height of triangle: 12\n",
      "Enter base of triangle: 3\n",
      "\n",
      "Area of triangle -> 18.0\n"
     ]
    }
   ],
   "source": [
    "height = int(input('Enter height of triangle: '))\n",
    "base = int(input('Enter base of triangle: '))\n",
    "\n",
    "def areaOfTriangle(height, base):\n",
    "    print('\\nArea of triangle ->', 0.5*height*base)\n",
    "\n",
    "areaOfTriangle(height,base)"
   ]
  },
  {
   "cell_type": "markdown",
   "id": "032945b1",
   "metadata": {},
   "source": [
    "__4. Write a Python program to swap two variables?__"
   ]
  },
  {
   "cell_type": "code",
   "execution_count": 4,
   "id": "bae90efd",
   "metadata": {},
   "outputs": [
    {
     "name": "stdout",
     "output_type": "stream",
     "text": [
      "Enter First Number: 3\n",
      "Enter Second Number: 2\n",
      "After swapping ->  2 3\n"
     ]
    }
   ],
   "source": [
    "num_1 = int(input(\"Enter First Number: \"))\n",
    "num_2 = int(input(\"Enter Second Number: \"))\n",
    "\n",
    "def swapNumbers(a,b):\n",
    "    temp = a\n",
    "    a = b\n",
    "    b = temp\n",
    "    return a,b\n",
    "\n",
    "num_1, num_2 = swapNumbers(num_1, num_2)\n",
    "print('After swapping -> ',num_1,num_2)\n"
   ]
  },
  {
   "cell_type": "markdown",
   "id": "0558332a",
   "metadata": {},
   "source": [
    "__5. Write a Python program to generate a random number?__"
   ]
  },
  {
   "cell_type": "code",
   "execution_count": 5,
   "id": "f7949ba8",
   "metadata": {},
   "outputs": [
    {
     "name": "stdout",
     "output_type": "stream",
     "text": [
      "Random number ->  28508\n",
      "Random number ->  12\n"
     ]
    }
   ],
   "source": [
    "from random import randint\n",
    "\n",
    "def generateRandomNumber(start=0, end=100000):\n",
    "    print('Random number -> ',randint(start,end))\n",
    "\n",
    "# Generating random numbers without arguments    \n",
    "generateRandomNumber()\n",
    "\n",
    "# Generating random numbers with arguments    \n",
    "generateRandomNumber(0,100)"
   ]
  },
  {
   "cell_type": "code",
   "execution_count": null,
   "id": "aa0bc6d2",
   "metadata": {},
   "outputs": [],
   "source": []
  }
 ],
 "metadata": {
  "kernelspec": {
   "display_name": "Python 3 (ipykernel)",
   "language": "python",
   "name": "python3"
  },
  "language_info": {
   "codemirror_mode": {
    "name": "ipython",
    "version": 3
   },
   "file_extension": ".py",
   "mimetype": "text/x-python",
   "name": "python",
   "nbconvert_exporter": "python",
   "pygments_lexer": "ipython3",
   "version": "3.9.12"
  }
 },
 "nbformat": 4,
 "nbformat_minor": 5
}
