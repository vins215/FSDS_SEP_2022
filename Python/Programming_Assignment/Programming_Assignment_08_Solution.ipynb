{
 "cells": [
  {
   "cell_type": "markdown",
   "id": "afbc5209",
   "metadata": {},
   "source": [
    "<H1>Programming Assignment 08 Solution"
   ]
  },
  {
   "cell_type": "markdown",
   "id": "3b01631d",
   "metadata": {},
   "source": [
    "__1.\tWrite a Python Program to Add Two Matrices?__"
   ]
  },
  {
   "cell_type": "code",
   "execution_count": 5,
   "id": "2a531547",
   "metadata": {},
   "outputs": [
    {
     "name": "stdout",
     "output_type": "stream",
     "text": [
      "Please enter the matrices of a[[2,3,5],[1,1,1],[2,2,2]]\n",
      "Please enter the matrices of b[[4,3,5],[1,2,3],[3,2,1]]\n",
      "Output: [[6, 6, 10], [2, 3, 4], [5, 4, 3]]\n"
     ]
    }
   ],
   "source": [
    "def addMatrices():\n",
    "    try:\n",
    "        a=eval(input(\"Please enter the matrices of a\"))\n",
    "        b=eval(input(\"Please enter the matrices of b\"))\n",
    "        if len(a) == len(b):\n",
    "            out_matrix = []\n",
    "            for ele in range(len(a)):\n",
    "                if len(a[ele]) == len(b[ele]):\n",
    "                    out_matrix.append([])\n",
    "                    for sub_ele in range(len(a[ele])):\n",
    "                        out_matrix[ele].append(a[ele][sub_ele]+b[ele][sub_ele])\n",
    "                else:\n",
    "                    print('Both Matrices must contains same no of rows and columns') \n",
    "        else:\n",
    "            print('Both Matrices must contains same no of rows and columns')\n",
    "        print(f'Output: {out_matrix}')\n",
    "    except:\n",
    "        print(\"Please enter the marices in [[x1,x2,x3][y1,y2,y3]] format\")\n",
    "        addMatrices()\n",
    "\n",
    "addMatrices()"
   ]
  },
  {
   "cell_type": "markdown",
   "id": "b06d9419",
   "metadata": {},
   "source": [
    "__2.\tWrite a Python Program to Multiply Two Matrices?__"
   ]
  },
  {
   "cell_type": "code",
   "execution_count": 7,
   "id": "4c6a2798",
   "metadata": {},
   "outputs": [
    {
     "name": "stdout",
     "output_type": "stream",
     "text": [
      "Please enter the matrices of a[[2,3,5],[1,1,1],[2,2,2]]\n",
      "Please enter the matrices of b[[4,3,5],[1,2,3],[3,2,1]]\n"
     ]
    },
    {
     "data": {
      "text/plain": [
       "array([[26, 22, 24],\n",
       "       [ 8,  7,  9],\n",
       "       [16, 14, 18]])"
      ]
     },
     "execution_count": 7,
     "metadata": {},
     "output_type": "execute_result"
    }
   ],
   "source": [
    "import numpy as np\n",
    "\n",
    "def matMulti():\n",
    "    try:\n",
    "        a=eval(input(\"Please enter the matrices of a\"))\n",
    "        a=np.array(a)\n",
    "        b=eval(input(\"Please enter the matrices of b\"))\n",
    "        b=np.array(b)\n",
    "        return (a@b)\n",
    "    except:\n",
    "        print(\"Please enter the marices in [[x1,x2,x3][y1,y2,y3]] format\")\n",
    "        matMulti()\n",
    "matMulti()"
   ]
  },
  {
   "cell_type": "code",
   "execution_count": 8,
   "id": "62b8abdd",
   "metadata": {},
   "outputs": [
    {
     "name": "stdout",
     "output_type": "stream",
     "text": [
      "Please enter the matrices of a[[2,3,5],[1,1,1],[2,2,2]]\n",
      "Please enter the matrices of b[[4,3,5],[1,2,3],[3,2,1]]\n",
      "[[26, 22, 24], [8, 7, 9], [16, 14, 18]]\n"
     ]
    }
   ],
   "source": [
    "def matMulti():\n",
    "    try:\n",
    "        a=eval(input(\"Please enter the matrices of a\"))\n",
    "        b=eval(input(\"Please enter the matrices of b\"))\n",
    "        output = []\n",
    "        if len(a[0]) == len(b):\n",
    "            for ele in range(len(a[0])):\n",
    "                output.append([0 for ele in range(len(b[0]))])\n",
    "            for i in range(len(a)):\n",
    "                for j in range(len(b[0])):\n",
    "                    for k in range(len(b)):\n",
    "                        output[i][j] += a[i][k]*b[k][j]\n",
    "            print(output)     \n",
    "        else:\n",
    "            print('Matrix Multiplication is Not Possible')\n",
    "    except:\n",
    "        print(\"Please enter the marices in [[x1,x2,x3][y1,y2,y3]] format\")\n",
    "        matMulti()\n",
    "        \n",
    "        \n",
    "matMulti()"
   ]
  },
  {
   "cell_type": "markdown",
   "id": "21e5de30",
   "metadata": {},
   "source": [
    "__3.\tWrite a Python Program to Transpose a Matrix?__"
   ]
  },
  {
   "cell_type": "code",
   "execution_count": 1,
   "id": "f8f67e42",
   "metadata": {},
   "outputs": [
    {
     "name": "stdout",
     "output_type": "stream",
     "text": [
      "Please enter the matrices of a[[1,2,3],[4,5,6],[7,8,9]]\n"
     ]
    },
    {
     "data": {
      "text/plain": [
       "array([[1, 4, 7],\n",
       "       [2, 5, 8],\n",
       "       [3, 6, 9]])"
      ]
     },
     "execution_count": 1,
     "metadata": {},
     "output_type": "execute_result"
    }
   ],
   "source": [
    "import numpy as np\n",
    "\n",
    "def matTranspose():\n",
    "    try:\n",
    "        a=np.array(eval(input(\"Please enter the matrices of a\")))\n",
    "        return (a.transpose())\n",
    "    except:\n",
    "        print(\"Please enter the marices in [[x1,x2,x3][y1,y2,y3]] format\")\n",
    "        matTranspose()\n",
    "matTranspose()"
   ]
  },
  {
   "cell_type": "code",
   "execution_count": 2,
   "id": "7916ec4e",
   "metadata": {},
   "outputs": [
    {
     "name": "stdout",
     "output_type": "stream",
     "text": [
      "Please enter the matrices of a[[1,2,3],[4,5,6],[7,8,9]]\n",
      "[[1, 2, 3], [4, 5, 6], [7, 8, 9]] -> [[1, 4, 7], [2, 5, 8], [3, 6, 9]]\n"
     ]
    }
   ],
   "source": [
    "def generate_transpose():\n",
    "    a=eval(input(\"Please enter the matrices of a\"))\n",
    "    b = []\n",
    "    for ele in range(len(a[0])):\n",
    "        b.append([0 for i in range(len(a))])\n",
    "    for i in range(len(a)):\n",
    "        for j in range(len(a[i])):\n",
    "            b[j][i] = a[i][j]\n",
    "    print(f'{a} -> {b}')\n",
    "        \n",
    "generate_transpose()"
   ]
  },
  {
   "cell_type": "markdown",
   "id": "a7378556",
   "metadata": {},
   "source": [
    "__4.\tWrite a Python Program to Sort Words in Alphabetic Order?__"
   ]
  },
  {
   "cell_type": "code",
   "execution_count": 3,
   "id": "7ca40899",
   "metadata": {},
   "outputs": [
    {
     "name": "stdout",
     "output_type": "stream",
     "text": [
      "Enter a String: how are you a\n",
      "a are how you\n"
     ]
    }
   ],
   "source": [
    "def sortString():\n",
    "    in_string = input(\"Enter a String: \")\n",
    "    sorted_list = sorted(in_string.split(' '))\n",
    "    print(' '.join(sorted_list))\n",
    "\n",
    "sortString()"
   ]
  },
  {
   "cell_type": "markdown",
   "id": "e2467b63",
   "metadata": {},
   "source": [
    "__5.\tWrite a Python Program to Remove Punctuation From a String?__"
   ]
  },
  {
   "cell_type": "code",
   "execution_count": 4,
   "id": "4c4097b4",
   "metadata": {},
   "outputs": [
    {
     "name": "stdout",
     "output_type": "stream",
     "text": [
      "Enter a String: \"Full Stacks DS\" @ Ineuron \n",
      "Full Stacks DS  Ineuron \n"
     ]
    }
   ],
   "source": [
    "def removePunctuatuions():\n",
    "    punctuations = '''!()-[]{};:'\"\\,<>./?@#$%^&*_~'''\n",
    "    in_string = input('Enter a String: ')\n",
    "    out_string = ''\n",
    "    for ele in in_string:\n",
    "        if ele not in punctuations:\n",
    "            out_string += ele\n",
    "    print(out_string)\n",
    "removePunctuatuions()"
   ]
  },
  {
   "cell_type": "code",
   "execution_count": null,
   "id": "0bc21293",
   "metadata": {},
   "outputs": [],
   "source": []
  }
 ],
 "metadata": {
  "kernelspec": {
   "display_name": "Python 3 (ipykernel)",
   "language": "python",
   "name": "python3"
  },
  "language_info": {
   "codemirror_mode": {
    "name": "ipython",
    "version": 3
   },
   "file_extension": ".py",
   "mimetype": "text/x-python",
   "name": "python",
   "nbconvert_exporter": "python",
   "pygments_lexer": "ipython3",
   "version": "3.9.12"
  }
 },
 "nbformat": 4,
 "nbformat_minor": 5
}
