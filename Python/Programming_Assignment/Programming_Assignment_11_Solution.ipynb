{
 "cells": [
  {
   "cell_type": "markdown",
   "id": "fc641484",
   "metadata": {},
   "source": [
    "<H1>Programming Assignment 11 Solution"
   ]
  },
  {
   "cell_type": "markdown",
   "id": "b901ea85",
   "metadata": {},
   "source": [
    "__1.\tWrite a Python program to find words which are greater than given length k?__"
   ]
  },
  {
   "cell_type": "code",
   "execution_count": 5,
   "id": "07f38def",
   "metadata": {},
   "outputs": [
    {
     "name": "stdout",
     "output_type": "stream",
     "text": [
      "Enter the string: INeuron Full Stack Data Science\n",
      "Enter the length of the string: 4\n",
      "INeuron,Stack,Science\n"
     ]
    }
   ],
   "source": [
    "def checkLengthOfString():\n",
    "    s = input(\"Enter the string: \")\n",
    "    k = int(input('Enter the length of the string: '))\n",
    "    out_string = []\n",
    "    for string in s.split(\" \"):\n",
    "        if len(string) > k:\n",
    "            out_string.append(string)\n",
    "    print(','.join(out_string))\n",
    "\n",
    "checkLengthOfString()"
   ]
  },
  {
   "cell_type": "markdown",
   "id": "cadae5e0",
   "metadata": {},
   "source": [
    "__2.\tWrite a Python program for removing i-th character from a string?__"
   ]
  },
  {
   "cell_type": "code",
   "execution_count": 9,
   "id": "6e083b26",
   "metadata": {},
   "outputs": [
    {
     "name": "stdout",
     "output_type": "stream",
     "text": [
      "Enter the String: how are you\n",
      "Enter the ith Character: 3\n",
      "howare you\n"
     ]
    }
   ],
   "source": [
    "def removeCharacter():\n",
    "    s = input(\"Enter the String: \")\n",
    "    i = int(input(\"Enter the ith Character: \"))\n",
    "    out_string = ''\n",
    "    for ele in range(len(s)):\n",
    "        if ele != i:\n",
    "            out_string = out_string + s[ele]\n",
    "    print(out_string)\n",
    "    \n",
    "removeCharacter()"
   ]
  },
  {
   "cell_type": "markdown",
   "id": "d49fa42f",
   "metadata": {},
   "source": [
    "__3.\tWrite a Python program to split and join a string?__"
   ]
  },
  {
   "cell_type": "code",
   "execution_count": 11,
   "id": "a5b826d8",
   "metadata": {},
   "outputs": [
    {
     "name": "stdout",
     "output_type": "stream",
     "text": [
      "Enter the string: hi how are you\n",
      "Split String: ['hi', 'how', 'are', 'you']\n",
      "Join String: hi how are you\n"
     ]
    }
   ],
   "source": [
    "def splitJoinString():\n",
    "    s = input('Enter the string: ')\n",
    "    print(f\"Split String: {s.split(' ')}\")\n",
    "    print(f\"Join String: {' '.join(s.split(' '))}\")\n",
    "\n",
    "splitJoinString()"
   ]
  },
  {
   "cell_type": "markdown",
   "id": "09f49011",
   "metadata": {},
   "source": [
    "__4.\tWrite a Python to check if a given string is binary string or not?__"
   ]
  },
  {
   "cell_type": "code",
   "execution_count": 12,
   "id": "865b9bad",
   "metadata": {},
   "outputs": [
    {
     "name": "stdout",
     "output_type": "stream",
     "text": [
      "Enter the string: 1234\n",
      "1234 is not a binart string\n"
     ]
    }
   ],
   "source": [
    "def checkBinary():\n",
    "    s = input('Enter the string: ')\n",
    "    flag = 0\n",
    "    for ele in s:\n",
    "        if ele in ['0','1']:\n",
    "            flag = 1\n",
    "            continue\n",
    "        else:\n",
    "            flag = 0\n",
    "            break\n",
    "    statement = 'is a binary string' if flag == 1 else 'is not a binart string' \n",
    "    print(f'{s} {statement}')\n",
    "\n",
    "checkBinary()"
   ]
  },
  {
   "cell_type": "markdown",
   "id": "68447d74",
   "metadata": {},
   "source": [
    "__5.\tWrite a Python program to find uncommon words from two Strings?__"
   ]
  },
  {
   "cell_type": "code",
   "execution_count": 13,
   "id": "2eb694bc",
   "metadata": {},
   "outputs": [
    {
     "name": "stdout",
     "output_type": "stream",
     "text": [
      "Enter the String 1: mutable string\n",
      "Enter the String 2: immutable string\n",
      "{'mutable', 'immutable'}\n"
     ]
    }
   ],
   "source": [
    "def unCommonWords():\n",
    "    s1 = set(input(\"Enter the String 1: \").split(' '))\n",
    "    s2 = set(input(\"Enter the String 2: \").split(' '))\n",
    "    out_string = (s1.union(s2)).difference(s1.intersection(s2))\n",
    "    print(out_string)\n",
    "\n",
    "unCommonWords()"
   ]
  },
  {
   "cell_type": "markdown",
   "id": "09715f92",
   "metadata": {},
   "source": [
    "__6.\tWrite a Python to find all duplicate characters in string?__"
   ]
  },
  {
   "cell_type": "code",
   "execution_count": 15,
   "id": "8ad587b8",
   "metadata": {},
   "outputs": [
    {
     "name": "stdout",
     "output_type": "stream",
     "text": [
      "Enter the string: my name is \n",
      "Duplicate characters are: ['m', ' ']\n"
     ]
    }
   ],
   "source": [
    "def duplicateChars():\n",
    "    s = input('Enter the string: ')\n",
    "    non_dup = []\n",
    "    dup = []\n",
    "    for ele in s:\n",
    "        if ele not in non_dup:\n",
    "            non_dup.append(ele)\n",
    "        else:\n",
    "            dup.append(ele)\n",
    "    print(f'Duplicate characters are: {list(set(dup))}')\n",
    "        \n",
    "duplicateChars()"
   ]
  },
  {
   "cell_type": "markdown",
   "id": "1b8b2e8d",
   "metadata": {},
   "source": [
    "__7.\tWrite a Python Program to check if a string contains any special character?__"
   ]
  },
  {
   "cell_type": "code",
   "execution_count": 16,
   "id": "469f08ad",
   "metadata": {},
   "outputs": [
    {
     "name": "stdout",
     "output_type": "stream",
     "text": [
      "Enter the string: vinay@gmail.com\n",
      "There are 1 Speical Characters in vinay@gmail.com which are ['@']\n"
     ]
    }
   ],
   "source": [
    "def checkSpecialChar():\n",
    "    spl_chars = '[@_!#$%^&*()<>?/\\|}{~:]'\n",
    "    n = input('Enter the string: ')\n",
    "    count = 0\n",
    "    char_list = []\n",
    "    for ele in n:\n",
    "        if ele in spl_chars:\n",
    "            char_list.append(ele)\n",
    "            count = count+1\n",
    "    print(f'There are {count} Speical Characters in {n} which are {char_list}')\n",
    "            \n",
    "        \n",
    "checkSpecialChar()"
   ]
  },
  {
   "cell_type": "code",
   "execution_count": null,
   "id": "a2a66b62",
   "metadata": {},
   "outputs": [],
   "source": []
  }
 ],
 "metadata": {
  "kernelspec": {
   "display_name": "Python 3 (ipykernel)",
   "language": "python",
   "name": "python3"
  },
  "language_info": {
   "codemirror_mode": {
    "name": "ipython",
    "version": 3
   },
   "file_extension": ".py",
   "mimetype": "text/x-python",
   "name": "python",
   "nbconvert_exporter": "python",
   "pygments_lexer": "ipython3",
   "version": "3.9.13"
  }
 },
 "nbformat": 4,
 "nbformat_minor": 5
}
