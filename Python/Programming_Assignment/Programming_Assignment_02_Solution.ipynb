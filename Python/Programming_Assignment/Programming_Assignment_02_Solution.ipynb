{
 "cells": [
  {
   "cell_type": "markdown",
   "id": "2a6fca7f",
   "metadata": {},
   "source": [
    "<H1>Programming Assignment 02 Solution"
   ]
  },
  {
   "cell_type": "markdown",
   "id": "a40117ac",
   "metadata": {},
   "source": [
    "__1.\tWrite a Python program to convert kilometers to miles?__"
   ]
  },
  {
   "cell_type": "code",
   "execution_count": 1,
   "id": "1bd3aad8",
   "metadata": {},
   "outputs": [
    {
     "name": "stdout",
     "output_type": "stream",
     "text": [
      "Enter Kilometer30\n",
      "30 km = 18.641099999999998 miles\n"
     ]
    }
   ],
   "source": [
    "a = input(\"Enter Kilometer\")\n",
    "miles = int(a) * 0.62137;\n",
    "print(a, \"km =\", miles, \"miles\")"
   ]
  },
  {
   "cell_type": "markdown",
   "id": "bf8b77ef",
   "metadata": {},
   "source": [
    "__2.\tWrite a Python program to convert Celsius to Fahrenheit?__"
   ]
  },
  {
   "cell_type": "code",
   "execution_count": 3,
   "id": "f9ef24f0",
   "metadata": {},
   "outputs": [
    {
     "name": "stdout",
     "output_type": "stream",
     "text": [
      "Enter Celsius : 100\n",
      "100 Celsius = 37.77777777777778 Fahrenheit\n"
     ]
    }
   ],
   "source": [
    "a = input(\"Enter Celsius : \")\n",
    "f = (int(a) - 32) * 5/9;\n",
    "print(a, \"Celsius =\", f, \"Fahrenheit\")"
   ]
  },
  {
   "cell_type": "markdown",
   "id": "bc364845",
   "metadata": {},
   "source": [
    "__3.\tWrite a Python program to display calendar?__"
   ]
  },
  {
   "cell_type": "code",
   "execution_count": 5,
   "id": "8b40be6d",
   "metadata": {},
   "outputs": [
    {
     "name": "stdout",
     "output_type": "stream",
     "text": [
      "   November 2022\n",
      "Mo Tu We Th Fr Sa Su\n",
      "    1  2  3  4  5  6\n",
      " 7  8  9 10 11 12 13\n",
      "14 15 16 17 18 19 20\n",
      "21 22 23 24 25 26 27\n",
      "28 29 30\n",
      "\n"
     ]
    }
   ],
   "source": [
    "import calendar\n",
    "\n",
    "yy = 2022 \n",
    "mm = 11   \n",
    "\n",
    "print(calendar.month(yy, mm))"
   ]
  },
  {
   "cell_type": "markdown",
   "id": "8d937264",
   "metadata": {},
   "source": [
    "__4.\tWrite a Python program to solve quadratic equation?__"
   ]
  },
  {
   "cell_type": "code",
   "execution_count": 6,
   "id": "8daae3b6",
   "metadata": {},
   "outputs": [
    {
     "name": "stdout",
     "output_type": "stream",
     "text": [
      "Enter the value of a : 1\n",
      "Enter the value of b : 2\n",
      "Enter the value of c : 3\n",
      "The solution are (-1-1.4142135623730951j) and (-1+1.4142135623730951j)\n"
     ]
    }
   ],
   "source": [
    "import cmath\n",
    "\n",
    "a = int(input(\"Enter the value of a : \"))\n",
    "b = int(input(\"Enter the value of b : \"))\n",
    "c = int(input(\"Enter the value of c : \"))\n",
    "\n",
    "# calculate the discriminant\n",
    "d = (b**2) - (4*a*c)\n",
    "\n",
    "# find two solutions\n",
    "sol1 = (-b-cmath.sqrt(d))/(2*a)\n",
    "sol2 = (-b+cmath.sqrt(d))/(2*a)\n",
    "\n",
    "print('The solution are {0} and {1}'.format(sol1,sol2))"
   ]
  },
  {
   "cell_type": "markdown",
   "id": "5daa8d6e",
   "metadata": {},
   "source": [
    "__5.\tWrite a Python program to swap two variables without temp variable?__"
   ]
  },
  {
   "cell_type": "code",
   "execution_count": 7,
   "id": "099ca989",
   "metadata": {},
   "outputs": [
    {
     "name": "stdout",
     "output_type": "stream",
     "text": [
      "Enter x: 4\n",
      "Enter y: 5\n",
      "x = 5\n",
      "y = 4\n"
     ]
    }
   ],
   "source": [
    "x = input(\"Enter x: \")\n",
    "y = input(\"Enter y: \")\n",
    "\n",
    "x, y = y, x\n",
    "print(\"x =\", x)\n",
    "print(\"y =\", y)"
   ]
  },
  {
   "cell_type": "code",
   "execution_count": null,
   "id": "763fa21f",
   "metadata": {},
   "outputs": [],
   "source": []
  }
 ],
 "metadata": {
  "kernelspec": {
   "display_name": "Python 3 (ipykernel)",
   "language": "python",
   "name": "python3"
  },
  "language_info": {
   "codemirror_mode": {
    "name": "ipython",
    "version": 3
   },
   "file_extension": ".py",
   "mimetype": "text/x-python",
   "name": "python",
   "nbconvert_exporter": "python",
   "pygments_lexer": "ipython3",
   "version": "3.9.12"
  }
 },
 "nbformat": 4,
 "nbformat_minor": 5
}
