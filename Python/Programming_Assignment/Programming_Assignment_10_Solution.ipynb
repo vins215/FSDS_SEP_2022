{
 "cells": [
  {
   "cell_type": "markdown",
   "id": "5a2413c3",
   "metadata": {},
   "source": [
    "<H1>Programming Assignment 10 Solution"
   ]
  },
  {
   "cell_type": "markdown",
   "id": "bc40bd8b",
   "metadata": {},
   "source": [
    "__1.\tWrite a Python program to find sum of elements in list?__"
   ]
  },
  {
   "cell_type": "code",
   "execution_count": 2,
   "id": "8d709758",
   "metadata": {},
   "outputs": [
    {
     "name": "stdout",
     "output_type": "stream",
     "text": [
      "Enter the No of Entries in a List: 4\n",
      "Enter a element: 1\n",
      "Enter a element: 2\n",
      "Enter a element: 3\n",
      "Enter a element: 4\n",
      "Sum of Elements: 10\n"
     ]
    }
   ],
   "source": [
    "def sumofList():\n",
    "    n = int(input('Enter the No of Entries in a List: '))\n",
    "    l = []\n",
    "    for i in range(n):\n",
    "        l.append(int(input('Enter a element: ')))\n",
    "    print(f'Sum of Elements: {sum(l)}')\n",
    "\n",
    "sumofList()"
   ]
  },
  {
   "cell_type": "markdown",
   "id": "e3e92534",
   "metadata": {},
   "source": [
    "__2.\tWrite a Python program to  Multiply all numbers in the list?__"
   ]
  },
  {
   "cell_type": "code",
   "execution_count": 3,
   "id": "a9bd86b3",
   "metadata": {},
   "outputs": [
    {
     "name": "stdout",
     "output_type": "stream",
     "text": [
      "Enter the No of Entries in a List: 4\n",
      "Enter a element: 1\n",
      "Enter a element: 2\n",
      "Enter a element: 3\n",
      "Enter a element: 4\n",
      "24\n"
     ]
    }
   ],
   "source": [
    "def mulofList():\n",
    "    n = int(input('Enter the No of Entries in a List: '))\n",
    "    l = []\n",
    "    mul = 1\n",
    "    for i in range(n):\n",
    "        l.append(int(input('Enter a element: ')))\n",
    "    for i in l:\n",
    "        mul = mul * i\n",
    "    print(mul)\n",
    "\n",
    "mulofList()"
   ]
  },
  {
   "cell_type": "markdown",
   "id": "a1ab01a5",
   "metadata": {},
   "source": [
    "__3.\tWrite a Python program to find smallest number in a list?__"
   ]
  },
  {
   "cell_type": "code",
   "execution_count": 4,
   "id": "ca6bc191",
   "metadata": {},
   "outputs": [
    {
     "name": "stdout",
     "output_type": "stream",
     "text": [
      "Enter the No of elements in a list: 4\n",
      "Enter a Element: 1\n",
      "Enter a Element: 2\n",
      "Enter a Element: 3\n",
      "Enter a Element: 4\n",
      "The Smallest Element in [1, 2, 3, 4] is 1\n"
     ]
    }
   ],
   "source": [
    "def smallEleInList():\n",
    "    n = int(input('Enter the No of elements in a list: '))\n",
    "    l = []\n",
    "    for i in range(n):\n",
    "        l.append(int(input('Enter a Element: ')))\n",
    "    print(f'The Smallest Element in {l} is {sorted(l)[0]}')\n",
    "smallEleInList()"
   ]
  },
  {
   "cell_type": "markdown",
   "id": "93bb0d11",
   "metadata": {},
   "source": [
    "__4.\tWrite a Python program to find largest number in a list?__"
   ]
  },
  {
   "cell_type": "code",
   "execution_count": 5,
   "id": "f52bbd71",
   "metadata": {},
   "outputs": [
    {
     "name": "stdout",
     "output_type": "stream",
     "text": [
      "Enter the No of elements in a list: 4\n",
      "Enter a Element: 1\n",
      "Enter a Element: 2\n",
      "Enter a Element: 3\n",
      "Enter a Element: 4\n",
      "The Largest Element in [1, 2, 3, 4] is 4\n"
     ]
    }
   ],
   "source": [
    "def largestEleInList():\n",
    "    n = int(input('Enter the No of elements in a list: '))\n",
    "    l = []\n",
    "    for i in range(n):\n",
    "        l.append(int(input('Enter a Element: ')))\n",
    "    print(f'The Largest Element in {l} is {sorted(l, reverse=True)[0]}')\n",
    "\n",
    "largestEleInList()"
   ]
  },
  {
   "cell_type": "markdown",
   "id": "bd1c0bd2",
   "metadata": {},
   "source": [
    "__5.\tWrite a Python program to find second largest number in a list?__"
   ]
  },
  {
   "cell_type": "code",
   "execution_count": 6,
   "id": "e56fd8f1",
   "metadata": {},
   "outputs": [
    {
     "name": "stdout",
     "output_type": "stream",
     "text": [
      "Enter the No of elements in a list: 4\n",
      "Enter a Element: 1\n",
      "Enter a Element: 2\n",
      "Enter a Element: 3\n",
      "Enter a Element: 4\n",
      "The Largest Element in [1, 2, 3, 4] is 3\n"
     ]
    }
   ],
   "source": [
    "def SecondlargestEleInList():\n",
    "    n = int(input('Enter the No of elements in a list: '))\n",
    "    l = []\n",
    "    for i in range(n):\n",
    "        l.append(int(input('Enter a Element: ')))\n",
    "    print(f'The Largest Element in {l} is {sorted(l, reverse=True)[1]}')\n",
    "\n",
    "SecondlargestEleInList()"
   ]
  },
  {
   "cell_type": "markdown",
   "id": "3f8a2453",
   "metadata": {},
   "source": [
    "__6.\tWrite a Python program to find N largest elements from a list?__"
   ]
  },
  {
   "cell_type": "code",
   "execution_count": 8,
   "id": "a35ceab7",
   "metadata": {},
   "outputs": [
    {
     "name": "stdout",
     "output_type": "stream",
     "text": [
      "Enter the No of elements in a list: 8\n",
      "Enter a Element: 1\n",
      "Enter a Element: 2\n",
      "Enter a Element: 3\n",
      "Enter a Element: 4\n",
      "Enter a Element: 5\n",
      "Enter a Element: 6\n",
      "Enter a Element: 7\n",
      "Enter a Element: 8\n",
      "Enter the number of largest number till where4\n",
      "The Largest Element is [8, 7, 6, 5]\n"
     ]
    }
   ],
   "source": [
    "def NlargestEleInList():\n",
    "    n = int(input('Enter the No of elements in a list: '))\n",
    "    l = []\n",
    "    for i in range(n):\n",
    "        l.append(int(input('Enter a Element: ')))\n",
    "    k=int(input(\"Enter the number of largest number till where\"))\n",
    "    print(f'The Largest Element is {sorted(l, reverse=True)[0:k]}')\n",
    "\n",
    "NlargestEleInList()"
   ]
  },
  {
   "cell_type": "markdown",
   "id": "63727d7c",
   "metadata": {},
   "source": [
    "__7.\tWrite a Python program to print even numbers in a list?__"
   ]
  },
  {
   "cell_type": "code",
   "execution_count": 9,
   "id": "0fda4802",
   "metadata": {},
   "outputs": [
    {
     "name": "stdout",
     "output_type": "stream",
     "text": [
      "Enter the No of elements in a list: 7\n",
      "Enter a Element: 1\n",
      "Enter a Element: 2\n",
      "Enter a Element: 3\n",
      "Enter a Element: 4\n",
      "Enter a Element: 5\n",
      "Enter a Element: 6\n",
      "Enter a Element: 7\n",
      "The Even Elements are [2, 4, 6]\n"
     ]
    }
   ],
   "source": [
    "def evenNoInList():\n",
    "    n = int(input('Enter the No of elements in a list: '))\n",
    "    l = []\n",
    "    even_list = []\n",
    "    for i in range(n):\n",
    "        l.append(int(input('Enter a Element: ')))\n",
    "    for i in l:\n",
    "        if i%2 == 0:\n",
    "            even_list.append(i)\n",
    "    print(f'The Even Elements are {even_list}')\n",
    "\n",
    "evenNoInList()"
   ]
  },
  {
   "cell_type": "markdown",
   "id": "2f7a0e2e",
   "metadata": {},
   "source": [
    "__8.\tWrite a Python program to print odd numbers in a List?__"
   ]
  },
  {
   "cell_type": "code",
   "execution_count": 10,
   "id": "47fc43b1",
   "metadata": {},
   "outputs": [
    {
     "name": "stdout",
     "output_type": "stream",
     "text": [
      "Enter the No of elements in a list: 7\n",
      "Enter a Element: 1\n",
      "Enter a Element: 2\n",
      "Enter a Element: 3\n",
      "Enter a Element: 4\n",
      "Enter a Element: 5\n",
      "Enter a Element: 6\n",
      "Enter a Element: 7\n",
      "The Even Elements are [1, 3, 5, 7]\n"
     ]
    }
   ],
   "source": [
    "def OddNoInList():\n",
    "    n = int(input('Enter the No of elements in a list: '))\n",
    "    l = []\n",
    "    odd_list = []\n",
    "    for i in range(n):\n",
    "        l.append(int(input('Enter a Element: ')))\n",
    "    for i in l:\n",
    "        if i%2 != 0:\n",
    "            odd_list.append(i)\n",
    "    print(f'The Even Elements are {odd_list}')\n",
    "    \n",
    "OddNoInList()"
   ]
  },
  {
   "cell_type": "markdown",
   "id": "6b6ec326",
   "metadata": {},
   "source": [
    "__9.\tWrite a Python program to Remove empty List from List?__"
   ]
  },
  {
   "cell_type": "code",
   "execution_count": 13,
   "id": "bde3b3e7",
   "metadata": {},
   "outputs": [
    {
     "name": "stdout",
     "output_type": "stream",
     "text": [
      "Enter all elements of the list:  [1,2,3,4,5,[],6,7,8,9,0]\n",
      "There is an Empty list in [1, 2, 3, 4, 5, [], 6, 7, 8, 9, 0] at Position 5\n",
      "The List after removing [] is [1, 2, 3, 4, 5, 6, 7, 8, 9, 0]\n"
     ]
    }
   ],
   "source": [
    "def checkEmptyList():\n",
    "    l = eval(input('Enter all elements of the list: '))\n",
    "    if [] in l:\n",
    "        print(f'There is an Empty list in {l} at Position {l.index([])}')\n",
    "        l.remove([])\n",
    "        print(f'The List after removing [] is {l}')\n",
    "    else:\n",
    "        print(f'There is no [] List in the list {l}')\n",
    "        \n",
    "checkEmptyList()"
   ]
  },
  {
   "cell_type": "markdown",
   "id": "16ada1ce",
   "metadata": {},
   "source": [
    "__10.\tWrite a Python program to Cloning or Copying a list?__"
   ]
  },
  {
   "cell_type": "code",
   "execution_count": 16,
   "id": "b75e9118",
   "metadata": {},
   "outputs": [
    {
     "name": "stdout",
     "output_type": "stream",
     "text": [
      "Enter a list[1,2,3,4]\n",
      "[1, 2, 3, 4] 2392942294080\n",
      "[1, 2, 3, 4] 2392942194304\n"
     ]
    }
   ],
   "source": [
    "import copy\n",
    "\n",
    "def cloneList():\n",
    "    l = eval(input('Enter a list'))\n",
    "    print(l, id(l))\n",
    "    cloned_list = l.copy()\n",
    "    print(cloned_list, id(cloned_list))\n",
    "\n",
    "cloneList()"
   ]
  },
  {
   "cell_type": "code",
   "execution_count": null,
   "id": "23d97a1d",
   "metadata": {},
   "outputs": [],
   "source": []
  }
 ],
 "metadata": {
  "kernelspec": {
   "display_name": "Python 3 (ipykernel)",
   "language": "python",
   "name": "python3"
  },
  "language_info": {
   "codemirror_mode": {
    "name": "ipython",
    "version": 3
   },
   "file_extension": ".py",
   "mimetype": "text/x-python",
   "name": "python",
   "nbconvert_exporter": "python",
   "pygments_lexer": "ipython3",
   "version": "3.9.12"
  }
 },
 "nbformat": 4,
 "nbformat_minor": 5
}
