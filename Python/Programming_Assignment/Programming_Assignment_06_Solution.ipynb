{
 "cells": [
  {
   "cell_type": "markdown",
   "id": "903d1dba",
   "metadata": {},
   "source": [
    "<H1>Programming Assignment 06 Solution"
   ]
  },
  {
   "cell_type": "markdown",
   "id": "e189aac2",
   "metadata": {},
   "source": [
    "__1.\tWrite a Python Program to Display Fibonacci Sequence Using Recursion?__"
   ]
  },
  {
   "cell_type": "code",
   "execution_count": 1,
   "id": "c6f12cff",
   "metadata": {},
   "outputs": [
    {
     "name": "stdout",
     "output_type": "stream",
     "text": [
      "Enter the length of Series: 10\n",
      "0, 1, 3, 5, 8, 13, 21, 34, 55, 89, 144, 233, "
     ]
    }
   ],
   "source": [
    "def genFibonacci(n,a,b):\n",
    "    if n == 0:\n",
    "        return 1\n",
    "    else:\n",
    "        result = a+b\n",
    "        print(result, end=', ')\n",
    "        genFibonacci(n-1,b,result)\n",
    "in_num = int(input('Enter the length of Series: '))\n",
    "print('0, 1',end=', ')\n",
    "genFibonacci(in_num,1,2)"
   ]
  },
  {
   "cell_type": "markdown",
   "id": "f1e9dc47",
   "metadata": {},
   "source": [
    "__2.\tWrite a Python Program to Find Factorial of Number Using Recursion?__"
   ]
  },
  {
   "cell_type": "code",
   "execution_count": 2,
   "id": "3f78a1ca",
   "metadata": {},
   "outputs": [
    {
     "name": "stdout",
     "output_type": "stream",
     "text": [
      "Enter a number: 4\n",
      "The Factorial of 4 is 24\n"
     ]
    }
   ],
   "source": [
    "def factorial(num):\n",
    "    if (num < 1):\n",
    "        return 1\n",
    "    else:\n",
    "        return num*factorial(num-1)\n",
    "num = int(input('Enter a number: '))\n",
    "value = factorial(num)\n",
    "print(f'The Factorial of {num} is {value}')"
   ]
  },
  {
   "cell_type": "markdown",
   "id": "6cfb6dc7",
   "metadata": {},
   "source": [
    "__3.\tWrite a Python Program to calculate your Body Mass Index?__"
   ]
  },
  {
   "cell_type": "code",
   "execution_count": 3,
   "id": "9d7c9781",
   "metadata": {},
   "outputs": [
    {
     "name": "stdout",
     "output_type": "stream",
     "text": [
      "Input your height in Feet: 6\n",
      "Input your weight in Kilogram: 78\n",
      "Your body mass index is:  2.17\n"
     ]
    }
   ],
   "source": [
    "height = float(input(\"Input your height in Feet: \"))\n",
    "weight = float(input(\"Input your weight in Kilogram: \"))\n",
    "print(\"Your body mass index is: \", round(weight / (height * height), 2))"
   ]
  },
  {
   "cell_type": "markdown",
   "id": "a222a366",
   "metadata": {},
   "source": [
    "__4.\tWrite a Python Program to calculate the natural logarithm of any number?__"
   ]
  },
  {
   "cell_type": "code",
   "execution_count": 4,
   "id": "fdec0201",
   "metadata": {},
   "outputs": [
    {
     "name": "stdout",
     "output_type": "stream",
     "text": [
      "Enter a Number:3\n",
      "1.0986122886681098\n"
     ]
    }
   ],
   "source": [
    "import math\n",
    "def genNatLog():\n",
    "    num = int(input(\"Enter a Number:\"))\n",
    "    print(math.log(num))\n",
    "\n",
    "genNatLog()"
   ]
  },
  {
   "cell_type": "markdown",
   "id": "358b97ef",
   "metadata": {},
   "source": [
    "__5.\tWrite a Python Program for cube sum of first n natural numbers?__"
   ]
  },
  {
   "cell_type": "code",
   "execution_count": 5,
   "id": "34408a04",
   "metadata": {},
   "outputs": [
    {
     "name": "stdout",
     "output_type": "stream",
     "text": [
      "Enter the no of Natural Numbers: 4\n",
      "The Cube Sum of First 4 Natural Numbers is 100.0\n"
     ]
    }
   ],
   "source": [
    "def cubeOfNaturalNumbers():\n",
    "    num = int(input(\"Enter the no of Natural Numbers: \"))\n",
    "    result = pow(((num * (num +1))/2),2)\n",
    "    print(f'The Cube Sum of First {num} Natural Numbers is {result}')\n",
    "\n",
    "cubeOfNaturalNumbers()"
   ]
  },
  {
   "cell_type": "code",
   "execution_count": null,
   "id": "e3764f06",
   "metadata": {},
   "outputs": [],
   "source": []
  }
 ],
 "metadata": {
  "kernelspec": {
   "display_name": "Python 3 (ipykernel)",
   "language": "python",
   "name": "python3"
  },
  "language_info": {
   "codemirror_mode": {
    "name": "ipython",
    "version": 3
   },
   "file_extension": ".py",
   "mimetype": "text/x-python",
   "name": "python",
   "nbconvert_exporter": "python",
   "pygments_lexer": "ipython3",
   "version": "3.9.12"
  }
 },
 "nbformat": 4,
 "nbformat_minor": 5
}
