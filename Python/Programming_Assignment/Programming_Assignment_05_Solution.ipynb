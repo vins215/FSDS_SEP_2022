{
 "cells": [
  {
   "cell_type": "markdown",
   "id": "3a38c5dc",
   "metadata": {},
   "source": [
    "<H1>Programming Assignment 05 Solution"
   ]
  },
  {
   "cell_type": "markdown",
   "id": "2953ae2e",
   "metadata": {},
   "source": [
    "__1.\tWrite a Python Program to Find LCM?__"
   ]
  },
  {
   "cell_type": "code",
   "execution_count": 2,
   "id": "97823d72",
   "metadata": {},
   "outputs": [
    {
     "name": "stdout",
     "output_type": "stream",
     "text": [
      "Enter first number: 12\n",
      "Enter second number: 9\n",
      "The L.C.M. of 12 and 9 is 36\n"
     ]
    }
   ],
   "source": [
    "def calculate_lcm(x, y):   \n",
    "    if x > y:  \n",
    "        greater = x  \n",
    "    else:  \n",
    "        greater = y  \n",
    "    while(True):  \n",
    "        if((greater % x == 0) and (greater % y == 0)):  \n",
    "            lcm = greater  \n",
    "            break  \n",
    "        greater += 1  \n",
    "    return lcm    \n",
    " \n",
    "num1 = int(input(\"Enter first number: \"))  \n",
    "num2 = int(input(\"Enter second number: \"))  \n",
    "\n",
    "print(\"The L.C.M. of\", num1,\"and\", num2,\"is\", calculate_lcm(num1, num2))  "
   ]
  },
  {
   "cell_type": "markdown",
   "id": "7fdc2172",
   "metadata": {},
   "source": [
    "__2.\tWrite a Python Program to Find HCF?__"
   ]
  },
  {
   "cell_type": "code",
   "execution_count": 4,
   "id": "55b10fa9",
   "metadata": {},
   "outputs": [
    {
     "name": "stdout",
     "output_type": "stream",
     "text": [
      "Enter first number: 12\n",
      "Enter second number: 1\n",
      "The H.C.F. of 12 and 1 is 12\n"
     ]
    }
   ],
   "source": [
    "def compute_hcf(x, y):\n",
    "\n",
    "    if x > y:\n",
    "        smaller = y\n",
    "    else:\n",
    "        smaller = x\n",
    "    for i in range(1, smaller+1):\n",
    "        if((x % i == 0) and (y % i == 0)):\n",
    "            hcf = i \n",
    "    return hcf\n",
    "\n",
    "x = int(input(\"Enter first number: \"))  \n",
    "y= int(input(\"Enter second number: \"))  \n",
    "\n",
    "print(\"The H.C.F. of\", x,\"and\", y,\"is\", calculate_lcm(x, y)  )"
   ]
  },
  {
   "cell_type": "markdown",
   "id": "2df08837",
   "metadata": {},
   "source": [
    "__3.\tWrite a Python Program to Convert Decimal to Binary, Octal and Hexadecimal?__"
   ]
  },
  {
   "cell_type": "code",
   "execution_count": 5,
   "id": "1630606a",
   "metadata": {},
   "outputs": [
    {
     "name": "stdout",
     "output_type": "stream",
     "text": [
      "Enter a Number: 12\n",
      "Binary Number -> 0b1100\n",
      "Octal Number -> 0o14\n",
      "Hexadecimal Number -> 0xc\n"
     ]
    }
   ],
   "source": [
    "def DecimalToOther():\n",
    "    num = int(input('Enter a Number: '))\n",
    "    print(f'Binary Number -> {bin(num)}')\n",
    "    print(f'Octal Number -> {oct(num)}')    \n",
    "    print(f'Hexadecimal Number -> {hex(num)}')    \n",
    "\n",
    "DecimalToOther()"
   ]
  },
  {
   "cell_type": "markdown",
   "id": "4feebd52",
   "metadata": {},
   "source": [
    "__4.\tWrite a Python Program To Find ASCII value of a character?__"
   ]
  },
  {
   "cell_type": "code",
   "execution_count": 6,
   "id": "b4530a47",
   "metadata": {},
   "outputs": [
    {
     "name": "stdout",
     "output_type": "stream",
     "text": [
      "Enter a Character: 2\n",
      "Ascii Character of 2 is 50\n"
     ]
    }
   ],
   "source": [
    "def charToAscii():\n",
    "    char = input('Enter a Character: ')\n",
    "    if len(char) > 1:\n",
    "        print('Please Enter a Single Character')\n",
    "    else:\n",
    "        print(f'Ascii Character of {char} is {ord(char)}')\n",
    "\n",
    "charToAscii()"
   ]
  },
  {
   "cell_type": "markdown",
   "id": "a98b8191",
   "metadata": {},
   "source": [
    "__5.\tWrite a Python Program to Make a Simple Calculator with 4 basic mathematical operations?__"
   ]
  },
  {
   "cell_type": "code",
   "execution_count": 7,
   "id": "6d1a92a1",
   "metadata": {},
   "outputs": [
    {
     "name": "stdout",
     "output_type": "stream",
     "text": [
      "Select a Arithmetic Operation:         \n",
      "1.Addition(+)        \n",
      "2.Division(-)        \n",
      "2.Multiplication(*)        \n",
      "4.Division(/)        \n",
      "3.Stop(0)\n",
      "\n",
      "Enter a arithmetic operation -> 1\n",
      "Please enter a valid operator\n",
      "Enter a arithmetic operation -> *\n",
      "\n",
      "Enter 1st Number: 2\n",
      "Enter 2nd Number: 1\n",
      "2*1=2\n",
      "\n",
      "Enter a arithmetic operation -> +\n",
      "\n",
      "Enter 1st Number: 2\n",
      "Enter 2nd Number: 2\n",
      "2+2=4\n",
      "\n",
      "Enter a arithmetic operation -> -\n",
      "\n",
      "Enter 1st Number: 1\n",
      "Enter 2nd Number: 2\n",
      "1-2=-1\n",
      "\n",
      "Enter a arithmetic operation -> 0\n",
      "Program Stopped successfully\n"
     ]
    }
   ],
   "source": [
    "import operator\n",
    "\n",
    "ops = { \"+\": operator.add, \"-\": operator.sub, \"*\":operator.mul, \"/\":operator.truediv } \n",
    "\n",
    "print('Select a Arithmetic Operation: \\\n",
    "        \\n1.Addition(+)\\\n",
    "        \\n2.Division(-)\\\n",
    "        \\n3.Multiplication(*)\\\n",
    "        \\n4.Division(/)\\\n",
    "        \\n50\n",
    "      .Stop(0)\\n')\n",
    "   \n",
    "\n",
    "while True:\n",
    "    operator = input('Enter a arithmetic operation -> ')\n",
    "    if operator == '0':\n",
    "        print(\"Program Stopped successfully\")\n",
    "        break\n",
    "    elif operator not in ['+','-','*','/']:\n",
    "        print(\"Please enter a valid operator\")\n",
    "    else:\n",
    "        num_1 = int(input('\\nEnter 1st Number: '))\n",
    "        num_2 = int(input('Enter 2nd Number: '))\n",
    "        print(f'{num_1}{operator}{num_2}={ops[operator](num_1,num_2)}\\n')"
   ]
  }
 ],
 "metadata": {
  "kernelspec": {
   "display_name": "Python 3 (ipykernel)",
   "language": "python",
   "name": "python3"
  },
  "language_info": {
   "codemirror_mode": {
    "name": "ipython",
    "version": 3
   },
   "file_extension": ".py",
   "mimetype": "text/x-python",
   "name": "python",
   "nbconvert_exporter": "python",
   "pygments_lexer": "ipython3",
   "version": "3.9.12"
  }
 },
 "nbformat": 4,
 "nbformat_minor": 5
}
