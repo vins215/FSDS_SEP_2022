{
 "cells": [
  {
   "cell_type": "markdown",
   "id": "5b30c6e6",
   "metadata": {},
   "source": [
    "<H1>Programming Assignment 12 Solution"
   ]
  },
  {
   "cell_type": "markdown",
   "id": "17bb2de9",
   "metadata": {},
   "source": [
    "__1.\tWrite a Python program to Extract Unique values dictionary values?__"
   ]
  },
  {
   "cell_type": "code",
   "execution_count": 4,
   "id": "37e4f650",
   "metadata": {},
   "outputs": [
    {
     "name": "stdout",
     "output_type": "stream",
     "text": [
      "dict_values(['Karnataka', 'Mumbai', 'Delhi', 'Maharashtra', 'Kashmir', 'Karnataka', 'Mumbai'])\n",
      "Unique Values: ['Kashmir', 'Mumbai', 'Maharashtra', 'Karnataka', 'Delhi']\n"
     ]
    }
   ],
   "source": [
    "d = {1:'Karnataka',2:'Mumbai',3:'Delhi',4:'Maharashtra',5:'Kashmir',6:'Karnataka',7:'Mumbai'}\n",
    "print(d.values())\n",
    "print(f'Unique Values: {list(set(d.values()))}')"
   ]
  },
  {
   "cell_type": "markdown",
   "id": "2f83b186",
   "metadata": {},
   "source": [
    "__2.\tWrite a Python program to find the sum of all items in a dictionary?__"
   ]
  },
  {
   "cell_type": "code",
   "execution_count": 5,
   "id": "0385a0ad",
   "metadata": {},
   "outputs": [
    {
     "name": "stdout",
     "output_type": "stream",
     "text": [
      "Sum of All items:  300\n"
     ]
    }
   ],
   "source": [
    "d = {'Apple':10,'Mango':20,'Banana':30,'Guava':40,'PineApple':200}\n",
    "print('Sum of All items: ',sum(d.values()))"
   ]
  },
  {
   "cell_type": "markdown",
   "id": "b090f54d",
   "metadata": {},
   "source": [
    "__3.\tWrite a Python program to Merging two Dictionaries?__"
   ]
  },
  {
   "cell_type": "code",
   "execution_count": 8,
   "id": "924ab3d2",
   "metadata": {},
   "outputs": [
    {
     "name": "stdout",
     "output_type": "stream",
     "text": [
      "{'Subject': 'Science', 'Branches': ['Physics', 'Chemistry', 'Biology']}\n"
     ]
    }
   ],
   "source": [
    "Sub_details = {\n",
    "    'Subject':'Science'\n",
    "}\n",
    "Branch = {\n",
    "    'Branches':['Physics','Chemistry','Biology']\n",
    "}\n",
    "Sub_details.update(Branch)\n",
    "print(Sub_details)"
   ]
  },
  {
   "cell_type": "markdown",
   "id": "4488aead",
   "metadata": {},
   "source": [
    "__4.\tWrite a Python program to convert key-values list to flat dictionary?__"
   ]
  },
  {
   "cell_type": "code",
   "execution_count": 9,
   "id": "63d952b3",
   "metadata": {},
   "outputs": [
    {
     "data": {
      "text/plain": [
       "{'A': 10,\n",
       " 'B': 20,\n",
       " 'C': 30,\n",
       " 'D': 40,\n",
       " 'E': 50,\n",
       " 'F': 60,\n",
       " 'G': 70,\n",
       " 'H': 80,\n",
       " 'I': 90,\n",
       " 'J': 100}"
      ]
     },
     "execution_count": 9,
     "metadata": {},
     "output_type": "execute_result"
    }
   ],
   "source": [
    "in_list = [('A',10),('B',20),('C',30),('D',40),('E',50),('F',60),('G',70),('H',80),('I',90),('J',100)]\n",
    "\n",
    "dict(in_list)"
   ]
  },
  {
   "cell_type": "markdown",
   "id": "0f2c9693",
   "metadata": {},
   "source": [
    "__5.\tWrite a Python program to insertion at the beginning in OrderedDict?__"
   ]
  },
  {
   "cell_type": "code",
   "execution_count": 11,
   "id": "a854e444",
   "metadata": {},
   "outputs": [
    {
     "name": "stdout",
     "output_type": "stream",
     "text": [
      "dict_one OrderedDict([('Tesla', 'SpaceX'), ('Apple', 'Iphone'), ('Microsoft', 'Windows'), ('Google', 'chrome')])\n"
     ]
    }
   ],
   "source": [
    "from collections import OrderedDict\n",
    "dict_one = OrderedDict({'Apple':'Iphone','Microsoft':'Windows','Google':'chrome'})\n",
    "dict_two = {'Tesla':'SpaceX'}\n",
    "dict_one.update(dict_two)\n",
    "dict_one.move_to_end('Tesla',last=False)\n",
    "print('dict_one',dict_one)"
   ]
  },
  {
   "cell_type": "markdown",
   "id": "8dcaeac5",
   "metadata": {},
   "source": [
    "__6.\tWrite a Python program to check order of character in string using OrderedDict()?__"
   ]
  },
  {
   "cell_type": "code",
   "execution_count": 16,
   "id": "3b38990a",
   "metadata": {},
   "outputs": [
    {
     "name": "stdout",
     "output_type": "stream",
     "text": [
      "{'a': 1000, 'f': 200, 'd': 300, 'c': 400, 'b': 500, 'e': 600}\n",
      "OrderedDict([('a', 1000), ('b', 500), ('c', 400), ('d', 300), ('e', 600), ('f', 200)])\n"
     ]
    }
   ],
   "source": [
    "from collections import OrderedDict\n",
    "\n",
    "initial_list = {'a': 1000, 'f': 200, 'd': 300, 'c': 400, 'b': 500, 'e': 600}\n",
    "print(initial_list)\n",
    "\n",
    "final_list = OrderedDict(dict(sorted(initial_list.items())))\n",
    "print(final_list)"
   ]
  },
  {
   "cell_type": "markdown",
   "id": "00d5c8c6",
   "metadata": {},
   "source": [
    "__7.\tWrite a Python program to sort Python Dictionaries by Key or Value?__"
   ]
  },
  {
   "cell_type": "code",
   "execution_count": 17,
   "id": "9050c136",
   "metadata": {},
   "outputs": [
    {
     "name": "stdout",
     "output_type": "stream",
     "text": [
      "{'Banana': 60, 'Grape': 13, 'Mango': 100, 'PineApple': 22}\n",
      "{'Grape': 13, 'PineApple': 22, 'Banana': 60, 'Mango': 100}\n"
     ]
    }
   ],
   "source": [
    "d_items = {'Mango':100,'PineApple':22,'Banana':60,'Grape':13}\n",
    "\n",
    "def sort_dict(in_dict,sort_type):\n",
    "    if sort_type == 'key':\n",
    "        print(dict(sorted(in_dict.items(), key=lambda x:x[0], reverse=False)))\n",
    "    else:\n",
    "        print(dict(sorted(in_dict.items(), key=lambda x:x[1], reverse=False)))\n",
    "        \n",
    "sort_dict(d_items,'key')        \n",
    "sort_dict(d_items,'value')"
   ]
  },
  {
   "cell_type": "code",
   "execution_count": null,
   "id": "87e25fc3",
   "metadata": {},
   "outputs": [],
   "source": []
  }
 ],
 "metadata": {
  "kernelspec": {
   "display_name": "Python 3 (ipykernel)",
   "language": "python",
   "name": "python3"
  },
  "language_info": {
   "codemirror_mode": {
    "name": "ipython",
    "version": 3
   },
   "file_extension": ".py",
   "mimetype": "text/x-python",
   "name": "python",
   "nbconvert_exporter": "python",
   "pygments_lexer": "ipython3",
   "version": "3.9.13"
  }
 },
 "nbformat": 4,
 "nbformat_minor": 5
}
