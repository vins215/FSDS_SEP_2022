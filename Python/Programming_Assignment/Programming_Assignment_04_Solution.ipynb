{
 "cells": [
  {
   "cell_type": "markdown",
   "id": "64344c46",
   "metadata": {},
   "source": [
    "<H1>Programming Assignment 04 Solution"
   ]
  },
  {
   "cell_type": "markdown",
   "id": "fae09a56",
   "metadata": {},
   "source": [
    "__1.\tWrite a Python Program to Find the Factorial of a Number?__"
   ]
  },
  {
   "cell_type": "code",
   "execution_count": 1,
   "id": "f382538c",
   "metadata": {},
   "outputs": [
    {
     "name": "stdout",
     "output_type": "stream",
     "text": [
      "Enter a number: 4\n",
      "The Factorial of 4 is 24\n"
     ]
    }
   ],
   "source": [
    "def factorial(num):\n",
    "    if (num < 1):\n",
    "        return 1\n",
    "    else:\n",
    "        return num*factorial(num-1)\n",
    "num = int(input('Enter a number: '))\n",
    "value = factorial(num)\n",
    "print(f'The Factorial of {num} is {value}')"
   ]
  },
  {
   "cell_type": "markdown",
   "id": "be16e506",
   "metadata": {},
   "source": [
    "__2.\tWrite a Python Program to Display the multiplication Table?__"
   ]
  },
  {
   "cell_type": "code",
   "execution_count": 2,
   "id": "ed30d35a",
   "metadata": {},
   "outputs": [
    {
     "name": "stdout",
     "output_type": "stream",
     "text": [
      "Enter a number: 5\n",
      "Enter no of entries: 10\n",
      "5 X 1 = 5\n",
      "5 X 2 = 10\n",
      "5 X 3 = 15\n",
      "5 X 4 = 20\n",
      "5 X 5 = 25\n",
      "5 X 6 = 30\n",
      "5 X 7 = 35\n",
      "5 X 8 = 40\n",
      "5 X 9 = 45\n",
      "5 X 10 = 50\n"
     ]
    }
   ],
   "source": [
    "def generateTable(base,entries):\n",
    "    for x in range(1,entries+1):\n",
    "        print(f'{base} X {x} = {base*x}')\n",
    "\n",
    "num = int(input('Enter a number: '))\n",
    "values = int(input('Enter no of entries: '))\n",
    "generateTable(num,values)"
   ]
  },
  {
   "cell_type": "markdown",
   "id": "b8b17662",
   "metadata": {},
   "source": [
    "__3.\tWrite a Python Program to Print the Fibonacci sequence?__"
   ]
  },
  {
   "cell_type": "code",
   "execution_count": 5,
   "id": "3f6e82b6",
   "metadata": {},
   "outputs": [
    {
     "name": "stdout",
     "output_type": "stream",
     "text": [
      "10\n",
      "Fibonacci Series: 0 1 1 2 3 5 8 13 21 34 \n"
     ]
    }
   ],
   "source": [
    "num =int(input(\"Enter the number of fibonacci series \"))\n",
    "n1, n2 = 0, 1\n",
    "print(\"Fibonacci Series:\", n1, n2, end=\" \")\n",
    "for i in range(2, num):\n",
    "    n3 = n1 + n2\n",
    "    n1 = n2\n",
    "    n2 = n3\n",
    "    print(n3, end=\" \")\n",
    "\n",
    "print()"
   ]
  },
  {
   "cell_type": "markdown",
   "id": "633cf5ff",
   "metadata": {},
   "source": [
    "__4.\tWrite a Python Program to Check Armstrong Number?__"
   ]
  },
  {
   "cell_type": "code",
   "execution_count": 7,
   "id": "0d52c073",
   "metadata": {},
   "outputs": [
    {
     "name": "stdout",
     "output_type": "stream",
     "text": [
      "Enter a number: 12\n",
      "12 is a Not Armstrong Number\n"
     ]
    }
   ],
   "source": [
    "def checkArmstrongNumber():\n",
    "    num = input('Enter a number: ')\n",
    "    sum = 0\n",
    "    for char in range(len(num)):\n",
    "        sum = sum + pow(int(num[char]),3)\n",
    "    if sum == int(num):\n",
    "        print(f'{num} is a Armstrong Number')\n",
    "    else:\n",
    "        print(f'{num} is a Not Armstrong Number')\n",
    "\n",
    "checkArmstrongNumber()"
   ]
  },
  {
   "cell_type": "markdown",
   "id": "7ecef625",
   "metadata": {},
   "source": [
    "__5.\tWrite a Python Program to Find Armstrong Number in an Interval?__"
   ]
  },
  {
   "cell_type": "code",
   "execution_count": 14,
   "id": "67783f09",
   "metadata": {},
   "outputs": [
    {
     "name": "stdout",
     "output_type": "stream",
     "text": [
      "Enter a : 10\n",
      "Enter b : 1000\n",
      "Armstrong Numbers are: [153, 370, 371, 407] "
     ]
    }
   ],
   "source": [
    "def isArmstrong(n):\n",
    "    temp, sum = str(n), 0;\n",
    "    for i in temp:\n",
    "        sum += int(i) * int(i) * int(i)\n",
    "    return sum == n;\n",
    "\n",
    "k = int(input(\"Enter a : \"))\n",
    "l = int(input(\"Enter b : \"))\n",
    "x=[]\n",
    "\n",
    "for i in range(k, l):\n",
    "    if isArmstrong(i) == True:\n",
    "        x.append(i)\n",
    "print(\"Armstrong Numbers are:\",x , end=\" \" )\n",
    "        "
   ]
  },
  {
   "cell_type": "markdown",
   "id": "ecdfe73a",
   "metadata": {},
   "source": [
    "__6.\tWrite a Python Program to Find the Sum of Natural Numbers?__"
   ]
  },
  {
   "cell_type": "code",
   "execution_count": 15,
   "id": "379087d6",
   "metadata": {},
   "outputs": [
    {
     "name": "stdout",
     "output_type": "stream",
     "text": [
      "Enter a number: 2\n",
      "Sum of 2 natural numbers is 3.0\n"
     ]
    }
   ],
   "source": [
    "def sumOfNaturalNumbers(num):\n",
    "    sum = num*((num+1)/2)\n",
    "    print(f'Sum of {num} natural numbers is {sum}')\n",
    "    \n",
    "num = int(input('Enter a number: '))\n",
    "sumOfNaturalNumbers(num)"
   ]
  },
  {
   "cell_type": "code",
   "execution_count": null,
   "id": "9c3ca81d",
   "metadata": {},
   "outputs": [],
   "source": []
  }
 ],
 "metadata": {
  "kernelspec": {
   "display_name": "Python 3 (ipykernel)",
   "language": "python",
   "name": "python3"
  },
  "language_info": {
   "codemirror_mode": {
    "name": "ipython",
    "version": 3
   },
   "file_extension": ".py",
   "mimetype": "text/x-python",
   "name": "python",
   "nbconvert_exporter": "python",
   "pygments_lexer": "ipython3",
   "version": "3.9.12"
  }
 },
 "nbformat": 4,
 "nbformat_minor": 5
}
