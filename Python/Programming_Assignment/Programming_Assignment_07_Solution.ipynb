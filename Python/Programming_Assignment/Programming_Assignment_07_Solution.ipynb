{
 "cells": [
  {
   "cell_type": "markdown",
   "id": "05460a0d",
   "metadata": {},
   "source": [
    "<H1>Programming Assignment 07 Solution"
   ]
  },
  {
   "cell_type": "markdown",
   "id": "6fd3f92b",
   "metadata": {},
   "source": [
    "__1.\tWrite a Python Program to find sum of array?__"
   ]
  },
  {
   "cell_type": "code",
   "execution_count": 8,
   "id": "cfcc277d",
   "metadata": {},
   "outputs": [
    {
     "name": "stdout",
     "output_type": "stream",
     "text": [
      "Enter the Array: 1,2,3,4,5,6\n",
      "The sum of (1, 2, 3, 4, 5, 6) is 21\n"
     ]
    }
   ],
   "source": [
    "def sumOfArray():\n",
    "    arr = eval(input(\"Enter the Array: \"))\n",
    "    print(f'The sum of {arr} is {sum(arr)}')\n",
    "\n",
    "sumOfArray()"
   ]
  },
  {
   "cell_type": "markdown",
   "id": "57481e42",
   "metadata": {},
   "source": [
    "__2.\tWrite a Python Program to find largest element in an array?__"
   ]
  },
  {
   "cell_type": "code",
   "execution_count": 9,
   "id": "3d31762e",
   "metadata": {},
   "outputs": [
    {
     "name": "stdout",
     "output_type": "stream",
     "text": [
      "Enter the Array: 1,2,3,4,5,6,7\n",
      "The Largest Element in (1, 2, 3, 4, 5, 6, 7) is 7\n"
     ]
    }
   ],
   "source": [
    "def largestElement():\n",
    "    arr = eval(input(\"Enter the Array: \"))\n",
    "    print(f\"The Largest Element in {arr} is {max(arr)}\")\n",
    "    \n",
    "largestElement()"
   ]
  },
  {
   "cell_type": "markdown",
   "id": "715cd2ca",
   "metadata": {},
   "source": [
    "__3.\tWrite a Python Program for array rotation?__"
   ]
  },
  {
   "cell_type": "code",
   "execution_count": 11,
   "id": "2597e170",
   "metadata": {},
   "outputs": [
    {
     "name": "stdout",
     "output_type": "stream",
     "text": [
      "1,2,3,4,5,6\n",
      "2\n"
     ]
    },
    {
     "data": {
      "text/plain": [
       "[3, 4, 5, 6, 1, 2]"
      ]
     },
     "execution_count": 11,
     "metadata": {},
     "output_type": "execute_result"
    }
   ],
   "source": [
    "def rotateArray():\n",
    "    a=list(eval(input()))\n",
    "    d=eval(input())\n",
    "    n=len(a)\n",
    "    a[:]=a[d:n]+a[0:d]\n",
    "    return a\n",
    "\n",
    "rotateArray()"
   ]
  },
  {
   "cell_type": "markdown",
   "id": "59c9bec8",
   "metadata": {},
   "source": [
    "__4.\tWrite a Python Program to Split the array and add the first part to the end__"
   ]
  },
  {
   "cell_type": "code",
   "execution_count": 16,
   "id": "416b10bf",
   "metadata": {},
   "outputs": [
    {
     "name": "stdout",
     "output_type": "stream",
     "text": [
      "1,2,3,4,5,6\n"
     ]
    },
    {
     "data": {
      "text/plain": [
       "[4, 5, 6, 1, 2, 3]"
      ]
     },
     "execution_count": 16,
     "metadata": {},
     "output_type": "execute_result"
    }
   ],
   "source": [
    "def split():\n",
    "    a=eval(input())\n",
    "    temp = []\n",
    "    n = int(len(a)/2)\n",
    "\n",
    "    m =  int(len(a))\n",
    "    temp[:]=a[n:m]+a[:n]\n",
    "    return temp\n",
    " \n",
    "split()"
   ]
  },
  {
   "cell_type": "markdown",
   "id": "a61a427a",
   "metadata": {},
   "source": [
    "__5.\tWrite a Python Program to check if given array is Monotonic?__"
   ]
  },
  {
   "cell_type": "code",
   "execution_count": 17,
   "id": "efdfaa40",
   "metadata": {},
   "outputs": [
    {
     "name": "stdout",
     "output_type": "stream",
     "text": [
      "Enter the Array: 1,2,3,4,5\n",
      "Array (1, 2, 3, 4, 5) is Monotonic\n"
     ]
    }
   ],
   "source": [
    "def checkMonotonic():\n",
    "    arr = eval(input(\"Enter the Array: \"))\n",
    "    if(all(arr[i]<=arr[i+1] for i in range(len(arr)-1)) or all(arr[i]>=arr[i+1] for i in range(len(arr)-1))):\n",
    "        print(f'Array {arr} is Monotonic')\n",
    "    else:\n",
    "        print(f'Array {arr} is Not Monotonic')\n",
    "\n",
    "checkMonotonic()"
   ]
  },
  {
   "cell_type": "code",
   "execution_count": null,
   "id": "c7a9820a",
   "metadata": {},
   "outputs": [],
   "source": []
  }
 ],
 "metadata": {
  "kernelspec": {
   "display_name": "Python 3 (ipykernel)",
   "language": "python",
   "name": "python3"
  },
  "language_info": {
   "codemirror_mode": {
    "name": "ipython",
    "version": 3
   },
   "file_extension": ".py",
   "mimetype": "text/x-python",
   "name": "python",
   "nbconvert_exporter": "python",
   "pygments_lexer": "ipython3",
   "version": "3.9.12"
  }
 },
 "nbformat": 4,
 "nbformat_minor": 5
}
