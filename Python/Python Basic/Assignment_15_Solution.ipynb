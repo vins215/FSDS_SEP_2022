{
 "cells": [
  {
   "cell_type": "markdown",
   "id": "e51ba709",
   "metadata": {},
   "source": [
    "<H1>Assignment 15 Solutiom"
   ]
  },
  {
   "cell_type": "markdown",
   "id": "ec9428e7",
   "metadata": {},
   "source": [
    "__1.How many seconds are in an hour? Use the interactive interpreter as a calculator and multiply the number of seconds in a minute (60) by the number of minutes in an hour (also 60).__"
   ]
  },
  {
   "cell_type": "code",
   "execution_count": 1,
   "id": "7c960782",
   "metadata": {},
   "outputs": [
    {
     "name": "stdout",
     "output_type": "stream",
     "text": [
      "3600\n"
     ]
    }
   ],
   "source": [
    "print(60*60)"
   ]
  },
  {
   "cell_type": "markdown",
   "id": "3a580a31",
   "metadata": {},
   "source": [
    "__2. Assign the result from the previous task (seconds in an hour) to a variable called seconds_per_hour.__"
   ]
  },
  {
   "cell_type": "code",
   "execution_count": 2,
   "id": "d306fb39",
   "metadata": {},
   "outputs": [
    {
     "name": "stdout",
     "output_type": "stream",
     "text": [
      "3600\n"
     ]
    }
   ],
   "source": [
    "seconds_per_hour = 60*60\n",
    "print(seconds_per_hour)\n"
   ]
  },
  {
   "cell_type": "markdown",
   "id": "717cbde1",
   "metadata": {},
   "source": [
    "__3. How many seconds do you think there are in a day? Make use of the variables seconds per hour and minutes per hour.__"
   ]
  },
  {
   "cell_type": "code",
   "execution_count": 4,
   "id": "8a53d844",
   "metadata": {},
   "outputs": [
    {
     "name": "stdout",
     "output_type": "stream",
     "text": [
      "86400\n"
     ]
    }
   ],
   "source": [
    "minutes_per_hour = 60\n",
    "print(seconds_per_hour*24)\n"
   ]
  },
  {
   "cell_type": "markdown",
   "id": "75f8e1d7",
   "metadata": {},
   "source": [
    "__4. Calculate seconds per day again, but this time save the result in a variable called seconds_per_day__"
   ]
  },
  {
   "cell_type": "code",
   "execution_count": 6,
   "id": "609d0920",
   "metadata": {},
   "outputs": [
    {
     "name": "stdout",
     "output_type": "stream",
     "text": [
      "86400\n"
     ]
    }
   ],
   "source": [
    "seconds_per_day = 24*60*60\n",
    "print(seconds_per_day)\n"
   ]
  },
  {
   "cell_type": "markdown",
   "id": "8f061c66",
   "metadata": {},
   "source": [
    "__5. Divide seconds_per_day by seconds_per_hour. Use floating-point (/) division.__"
   ]
  },
  {
   "cell_type": "code",
   "execution_count": 7,
   "id": "cf449a6c",
   "metadata": {},
   "outputs": [
    {
     "name": "stdout",
     "output_type": "stream",
     "text": [
      "24.0\n"
     ]
    }
   ],
   "source": [
    "print(seconds_per_day/seconds_per_hour)"
   ]
  },
  {
   "cell_type": "markdown",
   "id": "43b3ab87",
   "metadata": {},
   "source": [
    "__6. Divide seconds_per_day by seconds_per_hour, using integer (//) division. Did this number agree with the floating-point value from the previous question, aside from the final .0?__"
   ]
  },
  {
   "cell_type": "code",
   "execution_count": 16,
   "id": "2bbf1814",
   "metadata": {},
   "outputs": [
    {
     "name": "stdout",
     "output_type": "stream",
     "text": [
      "24\n",
      "<class 'float'>\n",
      "<class 'int'>\n"
     ]
    }
   ],
   "source": [
    "print(seconds_per_day//seconds_per_hour, end='\\n')\n",
    "print(type(seconds_per_day/seconds_per_hour))\n",
    "print(type(seconds_per_day//seconds_per_hour))\n"
   ]
  },
  {
   "cell_type": "markdown",
   "id": "49c0107a",
   "metadata": {},
   "source": [
    "__7. Write a generator, genPrimes, that returns the sequence of prime numbers on successive calls to its next() method: 2, 3, 5, 7, 11, ...__"
   ]
  },
  {
   "cell_type": "code",
   "execution_count": 17,
   "id": "f9021c7b",
   "metadata": {},
   "outputs": [
    {
     "name": "stdout",
     "output_type": "stream",
     "text": [
      "Enter Num : 5\n",
      "Next num :  7\n"
     ]
    }
   ],
   "source": [
    "n = int(input(\"Enter Num : \"))\n",
    "i = n\n",
    "\n",
    "while True : \n",
    "    i+=1    \n",
    "    ok = False \n",
    "    for j in range(2, i-1): \n",
    "        if(i % j == 0) : \n",
    "            break;\n",
    "    else:\n",
    "        print(\"Next num : \", i)\n",
    "        break;\n"
   ]
  },
  {
   "cell_type": "code",
   "execution_count": null,
   "id": "ec2af204",
   "metadata": {},
   "outputs": [],
   "source": []
  }
 ],
 "metadata": {
  "kernelspec": {
   "display_name": "Python 3 (ipykernel)",
   "language": "python",
   "name": "python3"
  },
  "language_info": {
   "codemirror_mode": {
    "name": "ipython",
    "version": 3
   },
   "file_extension": ".py",
   "mimetype": "text/x-python",
   "name": "python",
   "nbconvert_exporter": "python",
   "pygments_lexer": "ipython3",
   "version": "3.9.13"
  }
 },
 "nbformat": 4,
 "nbformat_minor": 5
}
