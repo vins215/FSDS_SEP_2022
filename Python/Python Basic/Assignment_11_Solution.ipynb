{
 "cells": [
  {
   "cell_type": "markdown",
   "id": "fb87409d",
   "metadata": {},
   "source": [
    "<H1>Assignment 11 Solution"
   ]
  },
  {
   "cell_type": "markdown",
   "id": "3c7e53f3",
   "metadata": {},
   "source": [
    "__1. Create an assert statement that throws an AssertionError if the variable spam is a negative integer.__"
   ]
  },
  {
   "cell_type": "code",
   "execution_count": 2,
   "id": "2ab9da5e",
   "metadata": {},
   "outputs": [
    {
     "name": "stdout",
     "output_type": "stream",
     "text": [
      "-2\n"
     ]
    },
    {
     "ename": "AssertionError",
     "evalue": "",
     "output_type": "error",
     "traceback": [
      "\u001b[1;31m---------------------------------------------------------------------------\u001b[0m",
      "\u001b[1;31mAssertionError\u001b[0m                            Traceback (most recent call last)",
      "Input \u001b[1;32mIn [2]\u001b[0m, in \u001b[0;36m<cell line: 2>\u001b[1;34m()\u001b[0m\n\u001b[0;32m      1\u001b[0m spam \u001b[38;5;241m=\u001b[39m\u001b[38;5;28mint\u001b[39m(\u001b[38;5;28minput\u001b[39m())\n\u001b[1;32m----> 2\u001b[0m \u001b[38;5;28;01massert\u001b[39;00m spam \u001b[38;5;241m>\u001b[39m\u001b[38;5;241m=\u001b[39m\u001b[38;5;241m0\u001b[39m\n",
      "\u001b[1;31mAssertionError\u001b[0m: "
     ]
    }
   ],
   "source": [
    "spam =int(input())\n",
    "assert spam >=0"
   ]
  },
  {
   "cell_type": "markdown",
   "id": "7503c64c",
   "metadata": {},
   "source": [
    "__2. Write an assert statement that triggers an AssertionError if the variables eggs and bacon contain strings that are the same as each other, even if their cases are different (that is, 'hello' and 'hello' are considered the same, and 'goodbye' and 'GOODbye' are also considered the same).__"
   ]
  },
  {
   "cell_type": "code",
   "execution_count": 3,
   "id": "531540a4",
   "metadata": {},
   "outputs": [
    {
     "name": "stdout",
     "output_type": "stream",
     "text": [
      "Enter egg :hello\n",
      "Enter bacon :HELLO\n"
     ]
    },
    {
     "ename": "AssertionError",
     "evalue": "",
     "output_type": "error",
     "traceback": [
      "\u001b[1;31m---------------------------------------------------------------------------\u001b[0m",
      "\u001b[1;31mAssertionError\u001b[0m                            Traceback (most recent call last)",
      "Input \u001b[1;32mIn [3]\u001b[0m, in \u001b[0;36m<cell line: 6>\u001b[1;34m()\u001b[0m\n\u001b[0;32m      1\u001b[0m egg \u001b[38;5;241m=\u001b[39m \u001b[38;5;28minput\u001b[39m(\u001b[38;5;124m\"\u001b[39m\u001b[38;5;124mEnter egg :\u001b[39m\u001b[38;5;124m\"\u001b[39m)\n\u001b[0;32m      2\u001b[0m bacon \u001b[38;5;241m=\u001b[39m \u001b[38;5;28minput\u001b[39m(\u001b[38;5;124m\"\u001b[39m\u001b[38;5;124mEnter bacon :\u001b[39m\u001b[38;5;124m\"\u001b[39m)\n\u001b[1;32m----> 6\u001b[0m \u001b[38;5;28;01massert\u001b[39;00m egg\u001b[38;5;241m.\u001b[39mlower() \u001b[38;5;241m!=\u001b[39m  bacon\u001b[38;5;241m.\u001b[39mlower()\n",
      "\u001b[1;31mAssertionError\u001b[0m: "
     ]
    }
   ],
   "source": [
    "egg = input(\"Enter egg :\")\n",
    "bacon = input(\"Enter bacon :\")\n",
    "\n",
    "\n",
    "\n",
    "assert egg.lower() !=  bacon.lower()"
   ]
  },
  {
   "cell_type": "markdown",
   "id": "3de6f631",
   "metadata": {},
   "source": [
    "__3. Create an assert statement that throws an AssertionError every time.__"
   ]
  },
  {
   "cell_type": "code",
   "execution_count": 5,
   "id": "fa13b1e0",
   "metadata": {},
   "outputs": [
    {
     "ename": "AssertionError",
     "evalue": "Always Shows Assertion Error",
     "output_type": "error",
     "traceback": [
      "\u001b[1;31m---------------------------------------------------------------------------\u001b[0m",
      "\u001b[1;31mAssertionError\u001b[0m                            Traceback (most recent call last)",
      "Input \u001b[1;32mIn [5]\u001b[0m, in \u001b[0;36m<cell line: 3>\u001b[1;34m()\u001b[0m\n\u001b[0;32m      1\u001b[0m \u001b[38;5;28;01mdef\u001b[39;00m \u001b[38;5;21massert_always\u001b[39m():\n\u001b[0;32m      2\u001b[0m     \u001b[38;5;28;01massert\u001b[39;00m \u001b[38;5;28;01mFalse\u001b[39;00m, \u001b[38;5;124m'\u001b[39m\u001b[38;5;124mAlways Shows Assertion Error\u001b[39m\u001b[38;5;124m'\u001b[39m\n\u001b[1;32m----> 3\u001b[0m \u001b[43massert_always\u001b[49m\u001b[43m(\u001b[49m\u001b[43m)\u001b[49m\n",
      "Input \u001b[1;32mIn [5]\u001b[0m, in \u001b[0;36massert_always\u001b[1;34m()\u001b[0m\n\u001b[0;32m      1\u001b[0m \u001b[38;5;28;01mdef\u001b[39;00m \u001b[38;5;21massert_always\u001b[39m():\n\u001b[1;32m----> 2\u001b[0m     \u001b[38;5;28;01massert\u001b[39;00m \u001b[38;5;28;01mFalse\u001b[39;00m, \u001b[38;5;124m'\u001b[39m\u001b[38;5;124mAlways Shows Assertion Error\u001b[39m\u001b[38;5;124m'\u001b[39m\n",
      "\u001b[1;31mAssertionError\u001b[0m: Always Shows Assertion Error"
     ]
    }
   ],
   "source": [
    "def assert_always():\n",
    "    assert False, 'Always Shows Assertion Error'\n",
    "assert_always()"
   ]
  },
  {
   "cell_type": "markdown",
   "id": "7736c065",
   "metadata": {},
   "source": [
    "__4. What are the two lines that must be present in your software in order to call logging.debug()?__"
   ]
  },
  {
   "cell_type": "code",
   "execution_count": 6,
   "id": "c04a05c8",
   "metadata": {},
   "outputs": [],
   "source": [
    "import logging\n",
    "logging.basicConfig(filename = 'application_log.txt',level=logging.DEBUG, format=' %(asctime)s - %(levelname)s - %(message)s')"
   ]
  },
  {
   "cell_type": "markdown",
   "id": "50e2f3d9",
   "metadata": {},
   "source": [
    "__5. What are the two lines that your program must have in order to have logging.debug() send a logging message to a file named programLog.txt?__"
   ]
  },
  {
   "cell_type": "code",
   "execution_count": 7,
   "id": "9ed14605",
   "metadata": {},
   "outputs": [],
   "source": [
    "import logging\n",
    "logging.basicConfig(filename = 'application_log.txt',level=logging.DEBUG, format=' %(asctime)s - %(levelname)s - %(message)s')\n",
    "logging.debug(\"Data Inserted Successfully\")\n",
    "logging.debug('Connection Closed Successfully')"
   ]
  },
  {
   "cell_type": "code",
   "execution_count": 8,
   "id": "6c0767e8",
   "metadata": {},
   "outputs": [
    {
     "name": "stdout",
     "output_type": "stream",
     "text": [
      " 2022-11-10 00:03:21,764 - DEBUG - Data Inserted Successfully\n",
      "\n",
      " 2022-11-10 00:03:21,764 - DEBUG - Connection Closed Successfully\n",
      "\n"
     ]
    }
   ],
   "source": [
    "file = open(\"./application_log.txt\",\"r\")\n",
    "for record in file.readlines():\n",
    "    print(record)"
   ]
  },
  {
   "cell_type": "markdown",
   "id": "72458d2b",
   "metadata": {},
   "source": [
    "__6. What are the five levels of logging?__"
   ]
  },
  {
   "cell_type": "markdown",
   "id": "6d4dea67",
   "metadata": {},
   "source": [
    "The Five levels of Logging provided by python's logging module are CRITICAL(50), ERROR(40), WARNING(30), INFO(20, DEBUG(10), NOTSET(0)"
   ]
  },
  {
   "cell_type": "markdown",
   "id": "8ef806e9",
   "metadata": {},
   "source": [
    "__7. What line of code would you add to your software to disable all logging messages?__"
   ]
  },
  {
   "cell_type": "code",
   "execution_count": 10,
   "id": "c928be0d",
   "metadata": {},
   "outputs": [],
   "source": [
    "logging.disable = True"
   ]
  },
  {
   "cell_type": "markdown",
   "id": "640e2c07",
   "metadata": {},
   "source": [
    "__8.Why is using logging messages better than using print() to display the same message?__"
   ]
  },
  {
   "cell_type": "markdown",
   "id": "95f61026",
   "metadata": {},
   "source": [
    "Post devlopment of your code, it can disabled logging messages without removing the logging function, whereas you need to manually remove print() statements, which is tedious activity. and also print is used when you want to display any particular message or help whereas logging is used to record all events like error, info, debug messages, timestamps."
   ]
  },
  {
   "cell_type": "markdown",
   "id": "bcafeb91",
   "metadata": {},
   "source": [
    "__9. What are the differences between the Step Over, Step In, and Step Out buttons in the debugger?__"
   ]
  },
  {
   "cell_type": "markdown",
   "id": "1378afaf",
   "metadata": {},
   "source": [
    "The Differences between Step Over, Step In, Step Out buttons in debugger are:  \n",
    "\n",
    "Step in - Step In button will cause the debugger to execute the next line of code and then pause again.  \n",
    "Step Over - Step Over button will execute the next line of code, similar to the Step In button. However, if the next line of code is a function call, the Step Over button will “step over” the code in the function. The function’s code will be executed at full speed, and the debugger will pause as soon as the function call returns.  \n",
    "Step out - Step Out button will cause the debugger to execute lines of code at full speed until it returns from the   current function."
   ]
  },
  {
   "cell_type": "markdown",
   "id": "fc99c48f",
   "metadata": {},
   "source": [
    "__10.After you click Continue, when will the debugger stop ?__"
   ]
  },
  {
   "cell_type": "markdown",
   "id": "486cd129",
   "metadata": {},
   "source": [
    " This will cause the program to continue running normally, without pausing for debugging untill it terminates or reaches a breakpoint."
   ]
  },
  {
   "cell_type": "markdown",
   "id": "48a46ed9",
   "metadata": {},
   "source": [
    "__11. What is the concept of a breakpoint?__"
   ]
  },
  {
   "cell_type": "markdown",
   "id": "369b6886",
   "metadata": {},
   "source": [
    "Breakpoint is a setting on a line of code that causes the debugger to pause when the program execution reaches the line"
   ]
  },
  {
   "cell_type": "code",
   "execution_count": null,
   "id": "e37f95b2",
   "metadata": {},
   "outputs": [],
   "source": []
  }
 ],
 "metadata": {
  "kernelspec": {
   "display_name": "Python 3 (ipykernel)",
   "language": "python",
   "name": "python3"
  },
  "language_info": {
   "codemirror_mode": {
    "name": "ipython",
    "version": 3
   },
   "file_extension": ".py",
   "mimetype": "text/x-python",
   "name": "python",
   "nbconvert_exporter": "python",
   "pygments_lexer": "ipython3",
   "version": "3.9.12"
  }
 },
 "nbformat": 4,
 "nbformat_minor": 5
}
