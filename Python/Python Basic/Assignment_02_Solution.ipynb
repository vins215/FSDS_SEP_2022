{
 "cells": [
  {
   "cell_type": "markdown",
   "id": "07dbf7f2",
   "metadata": {},
   "source": [
    "<H1>Assignment 02 Solution</H1>\n",
    "\n",
    "<H4>Name:Vinay C Shekhar</H4>\n",
    "<H4>Email:vinaychsekhar215@gmail.com</H4>"
   ]
  },
  {
   "cell_type": "markdown",
   "id": "c79c5ddd",
   "metadata": {},
   "source": [
    "__1.What are the two values of the Boolean data type? How do you write them?__"
   ]
  },
  {
   "cell_type": "markdown",
   "id": "91a82826",
   "metadata": {},
   "source": [
    "__Solution:__  \n",
    "True and False are two values of the boolen data types"
   ]
  },
  {
   "cell_type": "code",
   "execution_count": 1,
   "id": "c3f48fbb",
   "metadata": {},
   "outputs": [
    {
     "name": "stdout",
     "output_type": "stream",
     "text": [
      "True <class 'bool'>\n",
      "False <class 'bool'>\n"
     ]
    }
   ],
   "source": [
    "a=True\n",
    "b=False\n",
    "print(a,type(a))\n",
    "print(b,type(b))"
   ]
  },
  {
   "cell_type": "markdown",
   "id": "19f889dc",
   "metadata": {},
   "source": [
    "__2. What are the three different types of Boolean operators?__"
   ]
  },
  {
   "cell_type": "markdown",
   "id": "779f7d2d",
   "metadata": {},
   "source": [
    "__Solution:__  \n",
    "The three differnt types of Boolean operators in python are: or and not"
   ]
  },
  {
   "cell_type": "code",
   "execution_count": 4,
   "id": "51563a83",
   "metadata": {},
   "outputs": [
    {
     "name": "stdout",
     "output_type": "stream",
     "text": [
      "True\n",
      "True\n",
      "False\n"
     ]
    }
   ],
   "source": [
    "a=5\n",
    "b=10\n",
    "print(a>3 and b>7) # AND\n",
    "print(a>20 or b>9) # OR\n",
    "print(not(a>1)) # NOT"
   ]
  },
  {
   "cell_type": "markdown",
   "id": "b77be911",
   "metadata": {},
   "source": [
    "__3. Make a list of each Boolean operator's truth tables (i.e. every possible combination of Boolean values for the operator and what it evaluate ).__"
   ]
  },
  {
   "cell_type": "markdown",
   "id": "dfc678b9",
   "metadata": {},
   "source": [
    "__Solution:__  \n",
    "The Truth tables for the boolean tables are as follows:  \n",
    "\n",
    "Truth Table for \"and\" operaotor  \n",
    "True and True is True  \n",
    "True and False is False  \n",
    "False and True is False  \n",
    "False and False is False  \n",
    "\n",
    "Truth Table for \"or\" operaotor  \n",
    "True and True is True  \n",
    "True and False is True  \n",
    "False and True is True  \n",
    "False and False is False  \n",
    "\n",
    "Truth Table for \"not' operaotor  \n",
    "True not is False   \n",
    "False not is True  "
   ]
  },
  {
   "cell_type": "markdown",
   "id": "e6ae750e",
   "metadata": {},
   "source": [
    "__4. What are the values of the following expressions?__  \n",
    "(5 > 4) and (3 == 5)  \n",
    "not (5 > 4) \n",
    "(5 > 4) or (3 == 5)  \n",
    "not ((5 > 4) or (3 == 5))  \n",
    "(True and True) and (True == False)  \n",
    "(not False) or (not True)  \n"
   ]
  },
  {
   "cell_type": "markdown",
   "id": "72cf8164",
   "metadata": {},
   "source": [
    "__Solution:__  \n",
    "print((5>4)and(3==5)) # False  \n",
    "print(not(5>4)) # False  \n",
    "print((5>4)or(3==5)) # True  \n",
    "print(not((5>4)or(3==5))) # False  \n",
    "print((True and True)and(True==False)) # False  \n",
    "print((not False)or(not True)) # True  "
   ]
  },
  {
   "cell_type": "markdown",
   "id": "a5716118",
   "metadata": {},
   "source": [
    "__5. What are the six comparison operators?__"
   ]
  },
  {
   "cell_type": "markdown",
   "id": "33c68bf9",
   "metadata": {},
   "source": [
    "__Solution:__\n",
    "The Six comparision operators available in python are:  \n",
    "== , != , < , > , <= , =>"
   ]
  },
  {
   "cell_type": "markdown",
   "id": "8ebe2e05",
   "metadata": {},
   "source": [
    "__6. How do you tell the difference between the equal to and assignment operators?Describe a condition and when you would use one.__"
   ]
  },
  {
   "cell_type": "markdown",
   "id": "e3936218",
   "metadata": {},
   "source": [
    "__Solution:__  \n",
    "\"==\" is the equal to operator that compares two values and evaluates to a Boolean, while\" =\" is that assignment operator that stores a value in a variable"
   ]
  },
  {
   "cell_type": "code",
   "execution_count": 6,
   "id": "d4cecf4a",
   "metadata": {},
   "outputs": [
    {
     "name": "stdout",
     "output_type": "stream",
     "text": [
      "True\n"
     ]
    }
   ],
   "source": [
    "a=3 # Assigning operator that stores 3 value in a variable a\n",
    "if a==3:#comparing values of a varible value and 3\n",
    "    print(a==3)  "
   ]
  },
  {
   "cell_type": "markdown",
   "id": "ddf6f3cb",
   "metadata": {},
   "source": [
    "__7. Identify the three blocks in this code:__  \n",
    "spam = 0  \n",
    "if spam == 10:  \n",
    "print('eggs')   \n",
    "if spam > 5:  \n",
    "print('bacon')  \n",
    "else:  \n",
    "print('ham')  \n",
    "print('spam')  \n",
    "print('spam')  "
   ]
  },
  {
   "cell_type": "code",
   "execution_count": 7,
   "id": "52663f72",
   "metadata": {},
   "outputs": [
    {
     "name": "stdout",
     "output_type": "stream",
     "text": [
      "spam\n"
     ]
    }
   ],
   "source": [
    "spam = 0                 # Block 1 \n",
    "if spam == 10:           # Block 1 \n",
    "    print(\"eggs\")        # Block 2\n",
    "    if spam > 5:         # Block 2\n",
    "        print(\"bacon\")   # Block 3 \n",
    "    else:                # Block 2\n",
    "        print(\"ham\")     # Block 3\n",
    "    print(\"spam\")        # Block 2\n",
    "print(\"spam\")            # Block 2"
   ]
  },
  {
   "cell_type": "markdown",
   "id": "6167179d",
   "metadata": {},
   "source": [
    "__8. Write code that prints Hello if 1 is stored in spam, prints Howdy if 2 is stored in spam, and prints Greetings! if anything else is stored in spam.__"
   ]
  },
  {
   "cell_type": "code",
   "execution_count": 10,
   "id": "d23a1be1",
   "metadata": {},
   "outputs": [
    {
     "name": "stdout",
     "output_type": "stream",
     "text": [
      "Hello\n"
     ]
    }
   ],
   "source": [
    "#Solution\n",
    "spam = 1\n",
    "if spam == 1:    \n",
    "    print(\"Hello\");\n",
    "elif spam == 2:\n",
    "    print(\"Howdy\");\n",
    "else:\n",
    "    print(\"Greetings\");"
   ]
  },
  {
   "cell_type": "markdown",
   "id": "75de26c4",
   "metadata": {},
   "source": [
    "__9.If your programme is stuck in an endless loop, what keys you’ll press?__"
   ]
  },
  {
   "cell_type": "markdown",
   "id": "b10a4508",
   "metadata": {},
   "source": [
    "__Solution:__  \n",
    "Ctrl + c"
   ]
  },
  {
   "cell_type": "markdown",
   "id": "89265243",
   "metadata": {},
   "source": [
    "__10. How can you tell the difference between break and continue?__"
   ]
  },
  {
   "cell_type": "markdown",
   "id": "5e6cda5a",
   "metadata": {},
   "source": [
    "__Solution:__  \n",
    "break - statement leads to an immediate exit of the loop.  \n",
    "\n",
    "continue - statement begins the next iteration of the loop  "
   ]
  },
  {
   "cell_type": "markdown",
   "id": "50ac8a3e",
   "metadata": {},
   "source": [
    "__11. In a for loop, what is the difference between range(10), range(0, 10), and range(0, 10, 1)?__"
   ]
  },
  {
   "cell_type": "markdown",
   "id": "d24e6486",
   "metadata": {},
   "source": [
    "__Solution:__  \n",
    "The Differences are as follows:\n",
    "\n",
    "[x]The range(10) call range from 0 to 9 (but not include 10)  \n",
    "[x]The range (0,10) explicitly tells the loop to start at 0  \n",
    "[x]The range(0,10,1) explicitly tells the loop to increase the variable by 1 on each iteration"
   ]
  },
  {
   "cell_type": "markdown",
   "id": "600f0b3e",
   "metadata": {},
   "source": [
    "__12. Write a short program that prints the numbers 1 to 10 using a for loop. Then write an equivalent program that prints the numbers 1 to 10 using a while loop.__"
   ]
  },
  {
   "cell_type": "code",
   "execution_count": 15,
   "id": "7344fb1f",
   "metadata": {},
   "outputs": [
    {
     "name": "stdout",
     "output_type": "stream",
     "text": [
      "Using For Loop:\n",
      "1 2 3 4 5 6 7 8 9 10 \n",
      "\n",
      "Using While Loop:\n",
      "1 2 3 4 5 6 7 8 9 10 "
     ]
    }
   ],
   "source": [
    "print(\"Using For Loop:\")\n",
    "for i in range(1,11):\n",
    "    print(i, end=\" \")\n",
    "print('\\n')\n",
    "print(\"Using While Loop:\") \n",
    "i=1\n",
    "while i<=10:\n",
    "    print(i, end=\" \")\n",
    "    i+=1"
   ]
  },
  {
   "cell_type": "markdown",
   "id": "77418ecc",
   "metadata": {},
   "source": [
    "__13. If you had a function named bacon() inside a module named spam, how would you call it after importing spam?__"
   ]
  },
  {
   "cell_type": "markdown",
   "id": "c7dfac69",
   "metadata": {},
   "source": [
    "__Solution:__  \n",
    "import spam \n",
    "\n",
    "spam.bacon()"
   ]
  },
  {
   "cell_type": "code",
   "execution_count": null,
   "id": "d8bbee5c",
   "metadata": {},
   "outputs": [],
   "source": []
  }
 ],
 "metadata": {
  "kernelspec": {
   "display_name": "Python 3 (ipykernel)",
   "language": "python",
   "name": "python3"
  },
  "language_info": {
   "codemirror_mode": {
    "name": "ipython",
    "version": 3
   },
   "file_extension": ".py",
   "mimetype": "text/x-python",
   "name": "python",
   "nbconvert_exporter": "python",
   "pygments_lexer": "ipython3",
   "version": "3.9.12"
  }
 },
 "nbformat": 4,
 "nbformat_minor": 5
}
