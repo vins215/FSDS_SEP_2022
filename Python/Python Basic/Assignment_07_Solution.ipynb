{
 "cells": [
  {
   "cell_type": "markdown",
   "id": "5538debc",
   "metadata": {},
   "source": [
    "<H1>Assignment 07 Solution </H1>\n",
    "<H4>Name : Vinay C Shekhar </H4>"
   ]
  },
  {
   "cell_type": "markdown",
   "id": "78a233e0",
   "metadata": {},
   "source": [
    "__1. What is the name of the feature responsible for generating Regex objects?__"
   ]
  },
  {
   "cell_type": "markdown",
   "id": "fc0ee7a9",
   "metadata": {},
   "source": [
    "re.compile() is the feature responsible for generation of Regex objects."
   ]
  },
  {
   "cell_type": "markdown",
   "id": "93273a94",
   "metadata": {},
   "source": [
    "__2. Why do raw strings often appear in Regex objects?__"
   ]
  },
  {
   "cell_type": "markdown",
   "id": "f5befc2d",
   "metadata": {},
   "source": [
    "Raw strings are used so that backslashes do not have to be escaped."
   ]
  },
  {
   "cell_type": "markdown",
   "id": "f449bc62",
   "metadata": {},
   "source": [
    "__3. What is the return value of the search() method?__"
   ]
  },
  {
   "cell_type": "markdown",
   "id": "64d1cf36",
   "metadata": {},
   "source": [
    "The re.search() function takes two parameters and returns a match object if there is a match. If no matches are found, the value None is returned"
   ]
  },
  {
   "cell_type": "markdown",
   "id": "5917a6bd",
   "metadata": {},
   "source": [
    "__4. From a Match item, how do you get the actual strings that match the pattern?__"
   ]
  },
  {
   "cell_type": "markdown",
   "id": "6fe5c8a1",
   "metadata": {},
   "source": [
    "For Matched items group() methods returns actual strings that match the pattern"
   ]
  },
  {
   "cell_type": "markdown",
   "id": "876e7758",
   "metadata": {},
   "source": [
    "__5. In the regex which created from the r'(\\d\\d\\d)-(\\d\\d\\d-\\d\\d\\d\\d)', what does group zero cover? Group 2? Group 1?__"
   ]
  },
  {
   "cell_type": "markdown",
   "id": "5051c8cc",
   "metadata": {},
   "source": [
    "In the Regex r'(\\d\\d\\d)-(\\d\\d\\d-\\d\\d\\d\\d)' the zero group covers the entire pattern match where as the first group cover (\\d\\d\\d) and the second group cover (\\d\\d\\d-\\d\\d\\d\\d)"
   ]
  },
  {
   "cell_type": "markdown",
   "id": "d4ca26de",
   "metadata": {},
   "source": [
    "__6. In standard expression syntax, parentheses and intervals have distinct meanings. How can you tell a regex that you want it to fit real parentheses and periods?__"
   ]
  },
  {
   "cell_type": "markdown",
   "id": "8b84794a",
   "metadata": {},
   "source": [
    "The  \\.  \\( and \\) escape characters in the raw string passed to re.compile() will match actual parenthesis characters."
   ]
  },
  {
   "cell_type": "markdown",
   "id": "43c2f2dd",
   "metadata": {},
   "source": [
    "__7. The findall() method returns a string list or a list of string tuples. What causes it to return one of the two options?__"
   ]
  },
  {
   "cell_type": "markdown",
   "id": "bc290cbc",
   "metadata": {},
   "source": [
    "If the regex pattern has no groups, a list of strings matched is returned. if the regex pattern has groups, a list of tuple of strings is returned."
   ]
  },
  {
   "cell_type": "markdown",
   "id": "d7b6d07b",
   "metadata": {},
   "source": [
    "__8. In standard expressions, what does the | character mean?__"
   ]
  },
  {
   "cell_type": "markdown",
   "id": "c443a946",
   "metadata": {},
   "source": [
    "In a Standard Expressions | means OR operator."
   ]
  },
  {
   "cell_type": "markdown",
   "id": "c75771a7",
   "metadata": {},
   "source": [
    "__9. In regular expressions, what does the character stand for?__"
   ]
  },
  {
   "cell_type": "markdown",
   "id": "ae4b4387",
   "metadata": {},
   "source": [
    "I believe this question is incomplete"
   ]
  },
  {
   "cell_type": "markdown",
   "id": "25a4ea6e",
   "metadata": {},
   "source": [
    "__10.In regular expressions, what is the difference between the + and * characters?__"
   ]
  },
  {
   "cell_type": "markdown",
   "id": "95dc8213",
   "metadata": {},
   "source": [
    "In Regular Expressions, * Represents Zero ore more occurances of the preceeding group, whereas + represents one or more occurances of the preceeding group."
   ]
  },
  {
   "cell_type": "markdown",
   "id": "21825533",
   "metadata": {},
   "source": [
    "__11. What is the difference between {4} and {4,5} in regular expression?__"
   ]
  },
  {
   "cell_type": "markdown",
   "id": "e9e2e430",
   "metadata": {},
   "source": [
    "{4} means that its preceeding group should repeat 4 times. where as {4,5} means that its preceeding group should repeat mininum 4 times and maximum 5 times inclusively"
   ]
  },
  {
   "cell_type": "markdown",
   "id": "6c0b9e79",
   "metadata": {},
   "source": [
    "__12. What do you mean by the \\d, \\w, and \\s shorthand character classes signify in regular expressions?__"
   ]
  },
  {
   "cell_type": "markdown",
   "id": "38801ed4",
   "metadata": {},
   "source": [
    "\\d, \\w and \\s are special sequences in regular expresssions in python:\n",
    "\n",
    "\\d – Matches digit character equivalent to [0-9]  \n",
    "\\w – Matches a word character equivalent to [a-zA-Z0-9_]  \n",
    "\\s – Matches whitespace character (space, tab, newline, etc.)  "
   ]
  },
  {
   "cell_type": "markdown",
   "id": "de195a86",
   "metadata": {},
   "source": [
    "__13. What do means by \\D, \\W, and \\S shorthand character classes signify in regular expressions?__"
   ]
  },
  {
   "cell_type": "markdown",
   "id": "0441df9b",
   "metadata": {},
   "source": [
    "\\D, \\W and \\S are special sequences in regular expresssions in python:\n",
    "\n",
    "\\D – Matches any non-digit character, this is equivalent to the set class [^0-9]  \n",
    "\\W – Matches any non-alphanumeric character equivalent to [^a-zA-Z0-9_]  \n",
    "\\S – Matches any non-whitespace character  "
   ]
  },
  {
   "cell_type": "markdown",
   "id": "3edde794",
   "metadata": {},
   "source": [
    "__14. What is the difference between .*? and .*?__"
   ]
  },
  {
   "cell_type": "markdown",
   "id": "a09dee8d",
   "metadata": {},
   "source": [
    ".* is a Greedy mode, which returns the longest string that meets the condition. Whereas .*? is a non greedy mode which returns the shortest string that meets the condition."
   ]
  },
  {
   "cell_type": "markdown",
   "id": "b9107c3d",
   "metadata": {},
   "source": [
    "__15. What is the syntax for matching both numbers and lowercase letters with a character class?__"
   ]
  },
  {
   "cell_type": "markdown",
   "id": "ab7446d3",
   "metadata": {},
   "source": [
    " The Synatax is Either [a-z0-9] or [0-9a-z]"
   ]
  },
  {
   "cell_type": "markdown",
   "id": "e23d14df",
   "metadata": {},
   "source": [
    "__16. What is the procedure for making a normal expression in regax case insensitive?__"
   ]
  },
  {
   "cell_type": "markdown",
   "id": "6a87f946",
   "metadata": {},
   "source": [
    "We can pass re.IGNORECASE as a flag to make a noraml expression case insensitive"
   ]
  },
  {
   "cell_type": "markdown",
   "id": "a1441032",
   "metadata": {},
   "source": [
    "__17. What does the . character normally match? What does it match if re.DOTALL is passed as 2nd argument in re.compile()?__"
   ]
  },
  {
   "cell_type": "markdown",
   "id": "992439d7",
   "metadata": {},
   "source": [
    "Dot . character matches everything in input except newline character .. By passing re.DOTALL as a flag to re.compile(), you can make the dot character match all characters, including the newline character."
   ]
  },
  {
   "cell_type": "markdown",
   "id": "57e25896",
   "metadata": {},
   "source": [
    "__18. If numReg = re.compile(r'\\d+'), what will numRegex.sub('X', '11 drummers, 10 pipers, five rings, 4 hen') return?__"
   ]
  },
  {
   "cell_type": "markdown",
   "id": "4d1ffd66",
   "metadata": {},
   "source": [
    "The Ouput will be 'X drummers, X pipers, five rings, X hen'"
   ]
  },
  {
   "cell_type": "markdown",
   "id": "2c2f583d",
   "metadata": {},
   "source": [
    "__19. What does passing re.VERBOSE as the 2nd argument to re.compile() allow to do?__"
   ]
  },
  {
   "cell_type": "markdown",
   "id": "e5d6a2ff",
   "metadata": {},
   "source": [
    "re.VERBOSE will allow to add whitespace and comments to string passed to re.compile()."
   ]
  },
  {
   "cell_type": "markdown",
   "id": "5d989989",
   "metadata": {},
   "source": [
    "__20. How would you write a regex that match a number with comma for every three digits? It must match the given following:__\n",
    "\n",
    "'42'  \n",
    "'1,234'  \n",
    "'6,368,745'  \n",
    "but not the following:  \n",
    "'12,34,567' (which has only two digits between the commas)  \n",
    "'1234' (which lacks commas)\n"
   ]
  },
  {
   "cell_type": "code",
   "execution_count": 7,
   "id": "5060c521",
   "metadata": {},
   "outputs": [
    {
     "name": "stdout",
     "output_type": "stream",
     "text": [
      "Output: 42 -> <re.Match object; span=(0, 2), match='42'>\n",
      "Output: 1,234 -> <re.Match object; span=(0, 5), match='1,234'>\n",
      "Output: 6,368,745 -> <re.Match object; span=(0, 9), match='6,368,745'>\n",
      "Output: 12,34,567 -> None\n",
      "Output: 1234 -> None\n"
     ]
    }
   ],
   "source": [
    "import re\n",
    "pattern = r'^\\d{1,3}(,\\d{3})*$'\n",
    "pagex = re.compile(pattern)\n",
    "for ele in ['42','1,234', '6,368,745','12,34,567','1234']:\n",
    "    print('Output:',ele, '->', pagex.search(ele))"
   ]
  },
  {
   "cell_type": "markdown",
   "id": "f2c4ad36",
   "metadata": {},
   "source": [
    "__21. How would you write a regex that matches the full name of someone whose last name is Watanabe? You can assume that the first name that comes before it will always be one word that begins with a capital letter. The regex must match the following:__  \n",
    "'Haruto Watanabe'  \n",
    "'Alice Watanabe'  \n",
    "'RoboCop Watanabe'  \n",
    "but not the following:  \n",
    "'haruto Watanabe' (where the first name is not capitalized)  \n",
    "'Mr. Watanabe' (where the preceding word has a nonletter character)  \n",
    "'Watanabe' (which has no first name)  \n",
    "'Haruto watanabe' (where Watanabe is not capitalized)  \n",
    " "
   ]
  },
  {
   "cell_type": "markdown",
   "id": "d87a935b",
   "metadata": {},
   "source": [
    "pattern = __r'[A-Z]{1}[a-z]*\\sWatanabe'__"
   ]
  },
  {
   "cell_type": "code",
   "execution_count": 8,
   "id": "3f584f24",
   "metadata": {},
   "outputs": [
    {
     "name": "stdout",
     "output_type": "stream",
     "text": [
      "Output:  Haruto Watanabe -> <re.Match object; span=(0, 15), match='Haruto Watanabe'>\n",
      "Output:  Alice Watanabe -> <re.Match object; span=(0, 14), match='Alice Watanabe'>\n",
      "Output:  RoboCop Watanabe -> <re.Match object; span=(4, 16), match='Cop Watanabe'>\n",
      "Output:  haruto Watanabe -> None\n",
      "Output:  Mr. Watanabe -> None\n",
      "Output:  Watanabe -> None\n",
      "Output:  Haruto watanabe -> None\n"
     ]
    }
   ],
   "source": [
    "import re\n",
    "pattern = r'[A-Z]{1}[a-z]*\\sWatanabe'\n",
    "namex = re.compile(pattern)\n",
    "for name in ['Haruto Watanabe','Alice Watanabe','RoboCop Watanabe','haruto Watanabe','Mr. Watanabe','Watanabe','Haruto watanabe']:\n",
    "    print('Output: ',name,'->',namex.search(name))"
   ]
  },
  {
   "cell_type": "markdown",
   "id": "6f5f1759",
   "metadata": {},
   "source": [
    "__22. How would you write a regex that matches a sentence where the first word is either Alice, Bob, or Carol; the second word is either eats, pets, or throws; the third word is apples, cats, or baseballs; and the sentence ends with a period? This regex should be case-insensitive. It must match the following:__ \n",
    "'Alice eats apples.'  \n",
    "'Bob pets cats.'  \n",
    "'Carol throws baseballs.'  \n",
    "'Alice throws Apples.'  \n",
    "'BOB EATS CATS.'  \n",
    "but not the following:  \n",
    "'RoboCop eats apples.'  \n",
    "'ALICE THROWS FOOTBALLS.'  \n",
    "'Carol eats 7 cats.'  \n"
   ]
  },
  {
   "cell_type": "markdown",
   "id": "084f2fba",
   "metadata": {},
   "source": [
    "pattern __= r'(Alice|Bob|Carol)\\s(eats|pets|throws)\\s(apples|cats|baseballs)\\.'__"
   ]
  },
  {
   "cell_type": "code",
   "execution_count": 9,
   "id": "c14bf6b5",
   "metadata": {},
   "outputs": [
    {
     "name": "stdout",
     "output_type": "stream",
     "text": [
      "Output:  Alice eats apples. -> <re.Match object; span=(0, 18), match='Alice eats apples.'>\n",
      "Output:  Bob pets cats. -> <re.Match object; span=(0, 14), match='Bob pets cats.'>\n",
      "Output:  Carol throws baseballs. -> <re.Match object; span=(0, 23), match='Carol throws baseballs.'>\n",
      "Output:  Alice throws Apples. -> <re.Match object; span=(0, 20), match='Alice throws Apples.'>\n",
      "Output:  BOB EATS CATS. -> <re.Match object; span=(0, 14), match='BOB EATS CATS.'>\n",
      "Output:  RoboCop eats apples. -> None\n",
      "Output:  ALICE THROWS FOOTBALLS. -> None\n",
      "Output:  Carol eats 7 cats. -> None\n"
     ]
    }
   ],
   "source": [
    "import re\n",
    "pattern = r'(Alice|Bob|Carol)\\s(eats|pets|throws)\\s(apples|cats|baseballs)\\.'\n",
    "casex = re.compile(pattern,re.IGNORECASE)\n",
    "for ele in ['Alice eats apples.','Bob pets cats.','Carol throws baseballs.','Alice throws Apples.','BOB EATS CATS.','RoboCop eats apples.'\n",
    ",'ALICE THROWS FOOTBALLS.','Carol eats 7 cats.']:\n",
    "    print('Output: ',ele,'->',casex.search(ele))"
   ]
  },
  {
   "cell_type": "code",
   "execution_count": null,
   "id": "61d2f2dc",
   "metadata": {},
   "outputs": [],
   "source": []
  }
 ],
 "metadata": {
  "kernelspec": {
   "display_name": "Python 3 (ipykernel)",
   "language": "python",
   "name": "python3"
  },
  "language_info": {
   "codemirror_mode": {
    "name": "ipython",
    "version": 3
   },
   "file_extension": ".py",
   "mimetype": "text/x-python",
   "name": "python",
   "nbconvert_exporter": "python",
   "pygments_lexer": "ipython3",
   "version": "3.9.12"
  }
 },
 "nbformat": 4,
 "nbformat_minor": 5
}
