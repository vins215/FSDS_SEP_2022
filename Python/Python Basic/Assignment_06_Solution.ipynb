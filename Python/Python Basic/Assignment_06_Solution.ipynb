{
 "cells": [
  {
   "cell_type": "markdown",
   "id": "4cdbf8cf",
   "metadata": {},
   "source": [
    "<H1>Assignment 06 Solution</H1>\n",
    "<H4>Name: Vinay C Shekhar </H4>\n",
    "<H4>Email: vinaycshekhar215@gmail.com</H4>"
   ]
  },
  {
   "cell_type": "markdown",
   "id": "c522c257",
   "metadata": {},
   "source": [
    "__1. What are escape characters, and how do you use them?__"
   ]
  },
  {
   "cell_type": "markdown",
   "id": "b10c88a0",
   "metadata": {},
   "source": [
    "Escape characters represent characters in string values that would otherwise be difficult or impossible to type into code. we can use the backslash character to escape a single character or symbol  \n",
    "__example:__ \\t, \\n"
   ]
  },
  {
   "cell_type": "markdown",
   "id": "9336c403",
   "metadata": {},
   "source": [
    "__2. What do the escape characters n and t stand for?__"
   ]
  },
  {
   "cell_type": "markdown",
   "id": "c17344d6",
   "metadata": {},
   "source": [
    "\\n is a newline, \\t is a tab"
   ]
  },
  {
   "cell_type": "markdown",
   "id": "34ba2542",
   "metadata": {},
   "source": [
    "__3. What is the way to include backslash characters in a string?__"
   ]
  },
  {
   "cell_type": "markdown",
   "id": "7b664fb3",
   "metadata": {},
   "source": [
    "\"\\\\\"\n",
    "\n",
    "    text = \"\\\\\"\n",
    "    print(text)"
   ]
  },
  {
   "cell_type": "markdown",
   "id": "d51aaf93",
   "metadata": {},
   "source": [
    "__4. The string \"Howl's Moving Castle\" is a correct value. Why isn't the single quote character in the word Howl's not escaped a problem?__"
   ]
  },
  {
   "cell_type": "markdown",
   "id": "aaf0e45c",
   "metadata": {},
   "source": [
    "Because the string is wrapped with \" \" ."
   ]
  },
  {
   "cell_type": "markdown",
   "id": "0799830d",
   "metadata": {},
   "source": [
    "__5. How do you write a string of newlines if you don't want to use the n character?__"
   ]
  },
  {
   "cell_type": "markdown",
   "id": "7fba5233",
   "metadata": {},
   "source": [
    "Multiline string allow you to use newlines in string without the \\n escape character"
   ]
  },
  {
   "cell_type": "code",
   "execution_count": 2,
   "id": "0a9135c9",
   "metadata": {},
   "outputs": [
    {
     "name": "stdout",
     "output_type": "stream",
     "text": [
      "iNeuron full stack\n",
      "Data Science Course\n"
     ]
    }
   ],
   "source": [
    "a = '''iNeuron full stack\n",
    "Data Science Course'''\n",
    "print(a)"
   ]
  },
  {
   "cell_type": "markdown",
   "id": "5e1855b5",
   "metadata": {},
   "source": [
    "__6. What are the values of the given expressions?__  \n",
    "'Hello, world!'[1]  \n",
    "'Hello, world!'[0:5]  \n",
    "'Hello, world!'[:5]  \n",
    "'Hello, world!'[3:]  \n"
   ]
  },
  {
   "cell_type": "markdown",
   "id": "0c7b7a29",
   "metadata": {},
   "source": [
    " The values for the given expressions are:  \n",
    "'Hello, world!'[1] -> 'e'  \n",
    "'Hello, world!'[0:5] -> 'Hello'  \n",
    "'Hello, world!'[:5] -> 'Hello'  \n",
    "'Hello, world!'[3:] -> 'lo, world!'  "
   ]
  },
  {
   "cell_type": "markdown",
   "id": "7858d18f",
   "metadata": {},
   "source": [
    "__7. What are the values of the following expressions?__  \n",
    "'Hello'.upper()  \n",
    "'Hello'.upper().isupper()  \n",
    "'Hello'.upper().lower()  \n"
   ]
  },
  {
   "cell_type": "markdown",
   "id": "ea36215d",
   "metadata": {},
   "source": [
    "__The values for the given expressions are:__  \n",
    "'Hello'.upper() -> 'HELLO'  \n",
    "'Hello'.upper().isupper() -> True  \n",
    "'Hello'.upper().lower() -> 'hello'  "
   ]
  },
  {
   "cell_type": "markdown",
   "id": "6e1f1d61",
   "metadata": {},
   "source": [
    "__8. What are the values of the following expressions?__  \n",
    "'Remember, remember, the fifth of July.'.split()  \n",
    "'-'.join('There can only one.'.split())\n"
   ]
  },
  {
   "cell_type": "markdown",
   "id": "a699b8e9",
   "metadata": {},
   "source": [
    "__The values for the given expressions are:__  \n",
    "'Remember, remember, the fifith of July.'.split() -> ['Remember,', 'remember,', 'the', 'fifith', 'of', 'July.']  \n",
    "'-'.join('There can only one'.split()) -> 'There-can-only-one'"
   ]
  },
  {
   "cell_type": "markdown",
   "id": "f4213d0d",
   "metadata": {},
   "source": [
    "__9. What are the methods for right-justifying, left-justifying, and centering a string?__"
   ]
  },
  {
   "cell_type": "markdown",
   "id": "38783b72",
   "metadata": {},
   "source": [
    "The rjust(),ljust(),center() string methods, respectively"
   ]
  },
  {
   "cell_type": "markdown",
   "id": "7b0bfd69",
   "metadata": {},
   "source": [
    "__10. What is the best way to remove whitespace characters from the start or end?__"
   ]
  },
  {
   "cell_type": "markdown",
   "id": "4b34f170",
   "metadata": {},
   "source": [
    "The lstrip() and rstrip() methods remove whitesapce characters from the left and right ends of a string respectively"
   ]
  },
  {
   "cell_type": "code",
   "execution_count": null,
   "id": "bef82a7e",
   "metadata": {},
   "outputs": [],
   "source": []
  }
 ],
 "metadata": {
  "kernelspec": {
   "display_name": "Python 3 (ipykernel)",
   "language": "python",
   "name": "python3"
  },
  "language_info": {
   "codemirror_mode": {
    "name": "ipython",
    "version": 3
   },
   "file_extension": ".py",
   "mimetype": "text/x-python",
   "name": "python",
   "nbconvert_exporter": "python",
   "pygments_lexer": "ipython3",
   "version": "3.9.12"
  }
 },
 "nbformat": 4,
 "nbformat_minor": 5
}
