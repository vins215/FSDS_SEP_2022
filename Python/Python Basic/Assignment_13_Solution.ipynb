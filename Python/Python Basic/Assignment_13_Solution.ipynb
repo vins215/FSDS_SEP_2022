{
 "cells": [
  {
   "cell_type": "markdown",
   "id": "d0f4acd2",
   "metadata": {},
   "source": [
    "<H1>Assignment 13 Solution"
   ]
  },
  {
   "cell_type": "markdown",
   "id": "7e526594",
   "metadata": {},
   "source": [
    "__1. What advantages do Excel spreadsheets have over CSV spreadsheets?__"
   ]
  },
  {
   "cell_type": "markdown",
   "id": "7dfe6f39",
   "metadata": {},
   "source": [
    "The Advantages of Excel over CSV are:  \n",
    "\n",
    "Excel (XLS and XLSX) file formats are better for storing and analysing complex data.  \n",
    "An Excel not only stores data but can also do operations on the data using macros, formulas etc  \n",
    "CSV files are plain-text files, Does not contain formatting, formulas, macros, etc. It is also known as flat files  "
   ]
  },
  {
   "cell_type": "markdown",
   "id": "13d6fa12",
   "metadata": {},
   "source": [
    "__2.What do you pass to csv.reader() and csv.writer() to create reader and writer objects?__"
   ]
  },
  {
   "cell_type": "code",
   "execution_count": 2,
   "id": "f4ae45be",
   "metadata": {},
   "outputs": [
    {
     "name": "stdout",
     "output_type": "stream",
     "text": [
      "['John', 'Doe', '120 jefferson st.', 'Riverside', ' NJ', ' 08075']\n",
      "['Jack', 'McGinnis', '220 hobo Av.', 'Phila', ' PA', '09119']\n",
      "['John \"Da Man\"', 'Repici', '120 Jefferson St.', 'Riverside', ' NJ', '08075']\n",
      "['Stephen', 'Tyler', '7452 Terrace \"At the Plaza\" road', 'SomeTown', 'SD', ' 91234']\n",
      "['', 'Blankman', '', 'SomeTown', ' SD', ' 00298']\n",
      "['Joan \"the bone\", Anne', 'Jet', '9th, at Terrace plc', 'Desert City', 'CO', '00123']\n"
     ]
    }
   ],
   "source": [
    "import csv\n",
    "with open('addresses.csv','r') as file:\n",
    "    csv_file = csv.reader(file,delimiter=',')\n",
    "    for ele in csv_file:\n",
    "        print(ele)"
   ]
  },
  {
   "cell_type": "markdown",
   "id": "b0b928d3",
   "metadata": {},
   "source": [
    "__3. What modes do File objects for reader and writer objects need to be opened in?__"
   ]
  },
  {
   "cell_type": "markdown",
   "id": "d684bc01",
   "metadata": {},
   "source": [
    "For csv.reader(iterable_file_object), the file objects needed to be opened in read mode mode=__'r'__ Whereas for csv.writer(iterable_file_object) the file objects needed to be opened in write mode mode=__'w'__"
   ]
  },
  {
   "cell_type": "markdown",
   "id": "02e5899d",
   "metadata": {},
   "source": [
    "__4. What method takes a list argument and writes it to a CSV file?__"
   ]
  },
  {
   "cell_type": "markdown",
   "id": "cf850461",
   "metadata": {},
   "source": [
    "csv.writer class provides two methods for writing to CSV. They are writerow() and writerows(). writerow() method writes a single row at a time. Whereas writerows() method is used to write multiple rows at a time."
   ]
  },
  {
   "cell_type": "code",
   "execution_count": 3,
   "id": "c512fa08",
   "metadata": {},
   "outputs": [],
   "source": [
    "import csv      \n",
    "fields = ['Name', 'Branch', 'Year', 'CGPA'] #column names \n",
    "rows = [ \n",
    "            ['Vinay', 'CSE', '4', '9.0'],  # data rows of csv file \n",
    "            ['Sachin', 'COE', '2', '9.1'], \n",
    "            ['Ravi', 'IT', '2', '9.3']\n",
    "       ] \n",
    "with open(\"university_records.csv\", 'w') as csvfile: \n",
    "    csvwriter = csv.writer(csvfile) # creating a csv writer object \n",
    "    csvwriter.writerow(fields) # writing the fields \n",
    "    csvwriter.writerows(rows) # writing the data rows "
   ]
  },
  {
   "cell_type": "markdown",
   "id": "0a8b63dc",
   "metadata": {},
   "source": [
    "__5. What do the keyword arguments delimiter and line terminator do?__"
   ]
  },
  {
   "cell_type": "markdown",
   "id": "dfb47e91",
   "metadata": {},
   "source": [
    "Lets take the example of a csv file:  \n",
    "First Name, Last Name, Age  \n",
    "Vins, Bins, 24  \n",
    "Gins, dins, 21  \n",
    "Here ',' is Delimiter. We can use any Character as per our needs if required. Similarly Line Terminator comes at end of line by default it is newline and can be changed accourding to Requirement.  "
   ]
  },
  {
   "cell_type": "markdown",
   "id": "e2103daf",
   "metadata": {},
   "source": [
    "__6. What function takes a string of JSON data and returns a Python data structure?__"
   ]
  },
  {
   "cell_type": "markdown",
   "id": "c4d6606a",
   "metadata": {},
   "source": [
    "loads() method takes a string of JSON data and returns a Python data structure"
   ]
  },
  {
   "cell_type": "code",
   "execution_count": 4,
   "id": "4acb63d0",
   "metadata": {},
   "outputs": [
    {
     "name": "stdout",
     "output_type": "stream",
     "text": [
      "{\n",
      "    \"Name\": \"Mano Vishnu\",\n",
      "    \"Qualification\": \"Bachelor of Technology\",\n",
      "    \"Stream\": \"Computer Science and Engineering\"\n",
      "}\n",
      "Type of my_details_json is <class 'str'>\n",
      "{'Name': 'Mano Vishnu', 'Qualification': 'Bachelor of Technology', 'Stream': 'Computer Science and Engineering'}\n",
      "Type of my_details is <class 'dict'>\n"
     ]
    }
   ],
   "source": [
    "import json\n",
    "my_details_json ='''{\n",
    "    \"Name\": \"Vinay C \",\n",
    "    \"Qualification\": \"Bachelor of Technology\",\n",
    "    \"Stream\": \"Computer Science and Engineering\"\n",
    "}'''\n",
    "print(my_details_json)\n",
    "print(f'Type of my_details_json is {type(my_details_json)}')\n",
    "my_details = json.loads(my_details_json)\n",
    "print(my_details)\n",
    "print(f'Type of my_details is {type(my_details)}')"
   ]
  },
  {
   "cell_type": "markdown",
   "id": "f6ebc832",
   "metadata": {},
   "source": [
    "__7. What function takes a Python data structure and returns a string of JSON data?__"
   ]
  },
  {
   "cell_type": "markdown",
   "id": "b0ba4f19",
   "metadata": {},
   "source": [
    "dumps() method takes a python data structure and returns a string of JSON data"
   ]
  },
  {
   "cell_type": "code",
   "execution_count": 5,
   "id": "befb4a24",
   "metadata": {},
   "outputs": [
    {
     "name": "stdout",
     "output_type": "stream",
     "text": [
      "{'Name': 'Mano Vishnu', 'Stream': 'Computer Science and Engineering', 'Qualification': 'Bachelor of Technology'}\n",
      "Type of my_details is <class 'dict'>\n",
      "{\n",
      "    \"Name\": \"Mano Vishnu\",\n",
      "    \"Qualification\": \"Bachelor of Technology\",\n",
      "    \"Stream\": \"Computer Science and Engineering\"\n",
      "}\n",
      "Type of my_details_json is <class 'str'>\n"
     ]
    }
   ],
   "source": [
    "import json\n",
    "my_details = {\n",
    "    'Name':'Vinay C',\n",
    "    'Stream':'Computer Science and Engineering',\n",
    "    'Qualification':'Bachelor of Technology'\n",
    "}\n",
    "print(my_details)\n",
    "print(f'Type of my_details is {type(my_details)}')\n",
    "my_details_json = json.dumps(my_details, indent=4, sort_keys=True)\n",
    "print(my_details_json)\n",
    "print(f'Type of my_details_json is {type(my_details_json)}')"
   ]
  },
  {
   "cell_type": "code",
   "execution_count": null,
   "id": "2f2c8e58",
   "metadata": {},
   "outputs": [],
   "source": []
  }
 ],
 "metadata": {
  "kernelspec": {
   "display_name": "Python 3 (ipykernel)",
   "language": "python",
   "name": "python3"
  },
  "language_info": {
   "codemirror_mode": {
    "name": "ipython",
    "version": 3
   },
   "file_extension": ".py",
   "mimetype": "text/x-python",
   "name": "python",
   "nbconvert_exporter": "python",
   "pygments_lexer": "ipython3",
   "version": "3.9.12"
  }
 },
 "nbformat": 4,
 "nbformat_minor": 5
}
