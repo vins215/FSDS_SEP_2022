{
 "cells": [
  {
   "cell_type": "markdown",
   "id": "b7cf963f",
   "metadata": {},
   "source": [
    "<H1>Assignment 09 Solution</H1>"
   ]
  },
  {
   "cell_type": "markdown",
   "id": "ae0c391c",
   "metadata": {},
   "source": [
    "__1. To what does a relative path refer?__"
   ]
  },
  {
   "cell_type": "markdown",
   "id": "b42c2da0",
   "metadata": {},
   "source": [
    "The relative path is the path to some file with respect to your current working directory (PWD).  \n",
    "__For example:__ if Absolute path to a file called stuff.txt is: \"C:/users/admin/docs/stuff.txt\"  \n",
    "If my PWD is C:/users/admin/ , then the relative path to stuff.txt would be: docs/stuff.txt  \n",
    "__Note:__ PWD + relative path = absolute path "
   ]
  },
  {
   "cell_type": "markdown",
   "id": "083d1cb0",
   "metadata": {},
   "source": [
    "__2. What does an absolute path start with your operating system?__"
   ]
  },
  {
   "cell_type": "markdown",
   "id": "7e0da982",
   "metadata": {},
   "source": [
    "In operating systems the absolute path starts with /"
   ]
  },
  {
   "cell_type": "markdown",
   "id": "97eb9122",
   "metadata": {},
   "source": [
    "__3. What do the functions os.getcwd() and os.chdir() do?__"
   ]
  },
  {
   "cell_type": "markdown",
   "id": "518edd0a",
   "metadata": {},
   "source": [
    "__os.getcwd()__ method tells us the location of current working directory (CWD). Whereas __os.chdir()__ method in Python used to change the current working directory to specified path. These functions are similar to linux commands pwd and cd"
   ]
  },
  {
   "cell_type": "markdown",
   "id": "cde21dfe",
   "metadata": {},
   "source": [
    "__4. What are the . and .. folders?__"
   ]
  },
  {
   "cell_type": "markdown",
   "id": "7a10e4d7",
   "metadata": {},
   "source": [
    "\".\" Represents the Current Directory Whereas \"..\" Represents the Parent Directory of the Current Directory"
   ]
  },
  {
   "cell_type": "markdown",
   "id": "ad18063e",
   "metadata": {},
   "source": [
    "__5. In C:\\bacon\\eggs\\spam.txt, which part is the dir name, and which part is the base name?__"
   ]
  },
  {
   "cell_type": "markdown",
   "id": "190c5712",
   "metadata": {},
   "source": [
    "For C:\\bacon\\eggs\\spam.txt  \n",
    "The dir name is C:\\\\bacon\\\\eggs  \n",
    "The Base name is spam.txt  "
   ]
  },
  {
   "cell_type": "code",
   "execution_count": 3,
   "id": "e25e4143",
   "metadata": {},
   "outputs": [
    {
     "name": "stdout",
     "output_type": "stream",
     "text": [
      "C:\\bacon\\eggs\n",
      "spam.txt\n"
     ]
    }
   ],
   "source": [
    "import os\n",
    "path = r'C:\\bacon\\eggs\\spam.txt'\n",
    "print(os.path.dirname(path))\n",
    "print(os.path.basename(path))"
   ]
  },
  {
   "cell_type": "markdown",
   "id": "68a33638",
   "metadata": {},
   "source": [
    "__6. What are the three “mode” arguments that can be passed to the open() function?__"
   ]
  },
  {
   "cell_type": "markdown",
   "id": "042bd98d",
   "metadata": {},
   "source": [
    "A file can be Accessed in python using open() function. open function takes two arguments filename and mode of operation   if mode is not provided the default mode of opening is read mode  \n",
    "__syntax__ open(filename, mode)  \n",
    "\n",
    "‘r’ – Read Mode: This is the default mode for open(). The file is opened and a pointer is positioned at the beginning of the file’s content.  \n",
    "‘w’ – Write Mode: Using this mode will overwrite any existing content in a file. If the given file does not exist, a new one will be created.  \n",
    "‘r+’ – Read/Write Mode: Use this mode if you need to simultaneously read and write to a file.  \n",
    "‘a’ – Append Mode: With this mode the user can append the data without overwriting any already existing data in the file.  \n",
    "‘a+’ – Append and Read Mode: In this mode you can read and append the data without overwriting the original file.  \n",
    "‘x’ – Exclusive Creating Mode: This mode is for the sole purpose of creating new files. Use this mode if you know the file to be written doesn’t exist beforehand.  "
   ]
  },
  {
   "cell_type": "markdown",
   "id": "39ddcf47",
   "metadata": {},
   "source": [
    "__7. What happens if an existing file is opened in write mode?__"
   ]
  },
  {
   "cell_type": "markdown",
   "id": "055a4f09",
   "metadata": {},
   "source": [
    "its contents are discarded and the file is treated as a new empty file"
   ]
  },
  {
   "cell_type": "markdown",
   "id": "0a48c89e",
   "metadata": {},
   "source": [
    "__8. How do you tell the difference between read() and readlines()?__"
   ]
  },
  {
   "cell_type": "markdown",
   "id": "df765c57",
   "metadata": {},
   "source": [
    "The main difference is that read() will read the whole file at once  \n",
    "Whereas the readline() function, on the other hand, only reads a single line of the file"
   ]
  },
  {
   "cell_type": "markdown",
   "id": "99438850",
   "metadata": {},
   "source": [
    "__9. What data structure does a shelf value resemble?__"
   ]
  },
  {
   "cell_type": "markdown",
   "id": "211cf8fd",
   "metadata": {},
   "source": [
    " It contains key and values it represents dictionary."
   ]
  },
  {
   "cell_type": "code",
   "execution_count": null,
   "id": "0b195513",
   "metadata": {},
   "outputs": [],
   "source": []
  }
 ],
 "metadata": {
  "kernelspec": {
   "display_name": "Python 3 (ipykernel)",
   "language": "python",
   "name": "python3"
  },
  "language_info": {
   "codemirror_mode": {
    "name": "ipython",
    "version": 3
   },
   "file_extension": ".py",
   "mimetype": "text/x-python",
   "name": "python",
   "nbconvert_exporter": "python",
   "pygments_lexer": "ipython3",
   "version": "3.9.12"
  }
 },
 "nbformat": 4,
 "nbformat_minor": 5
}
