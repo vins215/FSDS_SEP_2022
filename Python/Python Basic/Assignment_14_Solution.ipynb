{
 "cells": [
  {
   "cell_type": "markdown",
   "id": "1a09b739",
   "metadata": {},
   "source": [
    "<H1>Assignmetn 14 Solution"
   ]
  },
  {
   "cell_type": "markdown",
   "id": "ce946242",
   "metadata": {},
   "source": [
    "__1. What does RGBA stand for?__"
   ]
  },
  {
   "cell_type": "markdown",
   "id": "120a8791",
   "metadata": {},
   "source": [
    "RGBA is a four-channel format containing data for Red, Green, Blue, and an Alpha value. Where Alpha Represents the Opacity"
   ]
  },
  {
   "cell_type": "markdown",
   "id": "0d8550d1",
   "metadata": {},
   "source": [
    "__2. From the Pillow module, how do you get the RGBA value of any images?__"
   ]
  },
  {
   "cell_type": "markdown",
   "id": "81bbee5e",
   "metadata": {},
   "source": [
    "ImageColor.getcolor() gives rgba value of any image"
   ]
  },
  {
   "cell_type": "markdown",
   "id": "9a273ca5",
   "metadata": {},
   "source": [
    "__3. What is a box tuple, and how does it work?__"
   ]
  },
  {
   "cell_type": "markdown",
   "id": "52062a8b",
   "metadata": {},
   "source": [
    "A box tuple is a tuple value of four integers: the left-edge x-coordinate, the top-edge y-coordinate,the width, and the height, respectively."
   ]
  },
  {
   "cell_type": "markdown",
   "id": "5f5d4806",
   "metadata": {},
   "source": [
    "__4. Use your image and load in notebook then, How can you find out the width and height of an Image object?__"
   ]
  },
  {
   "cell_type": "code",
   "execution_count": 3,
   "id": "4938db5e",
   "metadata": {},
   "outputs": [
    {
     "name": "stdout",
     "output_type": "stream",
     "text": [
      "Width, Height -> (685, 187)\n",
      "Width, Height -> 685,187\n",
      "Width, Height -> 685,187\n"
     ]
    }
   ],
   "source": [
    "from PIL import Image\n",
    "pic = Image.open('pic.png')\n",
    "print(f'Width, Height -> {pic.size}') \n",
    "print(f'Width, Height -> {pic.width},{pic.height}') \n",
    "width,height = pic.size\n",
    "print(f'Width, Height -> {width},{height}')"
   ]
  },
  {
   "cell_type": "markdown",
   "id": "f6db9f01",
   "metadata": {},
   "source": [
    "__5. What method would you call to get Image object for a 100×100 image, excluding the lower-left quarter of it?__"
   ]
  },
  {
   "cell_type": "code",
   "execution_count": 4,
   "id": "93c7fa22",
   "metadata": {},
   "outputs": [],
   "source": [
    "from PIL import Image\n",
    "img = Image.open('pic.png')\n",
    "new_img = img.crop((0,50,50,50))"
   ]
  },
  {
   "cell_type": "markdown",
   "id": "221787fa",
   "metadata": {},
   "source": [
    "__6. After making changes to an Image object, how could you save it as an image file?__"
   ]
  },
  {
   "cell_type": "code",
   "execution_count": 5,
   "id": "bbba1a48",
   "metadata": {},
   "outputs": [],
   "source": [
    "from PIL import Image\n",
    "pic = Image.open('pic.png')\n",
    "pic.save('pic2.png')"
   ]
  },
  {
   "cell_type": "markdown",
   "id": "70dba5bf",
   "metadata": {},
   "source": [
    "__7. What module contains Pillow’s shape-drawing code?__"
   ]
  },
  {
   "cell_type": "markdown",
   "id": "72b27a04",
   "metadata": {},
   "source": [
    "Pillows __ImageDraw module__ contains Shape drawing methods"
   ]
  },
  {
   "cell_type": "markdown",
   "id": "c04ea7f8",
   "metadata": {},
   "source": [
    "__8. Image objects do not have drawing methods. What kind of object does? How do you get this kind of object?__"
   ]
  },
  {
   "cell_type": "markdown",
   "id": "b7799854",
   "metadata": {},
   "source": [
    " ImageDraw objects have shape-drawing methods such as point(), line(), or rectangle().They are returned by passing the Image object to the ImageDraw.Draw() function."
   ]
  },
  {
   "cell_type": "code",
   "execution_count": null,
   "id": "1b6a3f1a",
   "metadata": {},
   "outputs": [],
   "source": []
  }
 ],
 "metadata": {
  "kernelspec": {
   "display_name": "Python 3 (ipykernel)",
   "language": "python",
   "name": "python3"
  },
  "language_info": {
   "codemirror_mode": {
    "name": "ipython",
    "version": 3
   },
   "file_extension": ".py",
   "mimetype": "text/x-python",
   "name": "python",
   "nbconvert_exporter": "python",
   "pygments_lexer": "ipython3",
   "version": "3.9.13"
  }
 },
 "nbformat": 4,
 "nbformat_minor": 5
}
