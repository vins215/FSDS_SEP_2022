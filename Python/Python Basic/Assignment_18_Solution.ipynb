{
 "cells": [
  {
   "cell_type": "markdown",
   "id": "5a8cb63c",
   "metadata": {},
   "source": [
    "<H1>Assignment 18 Solution"
   ]
  },
  {
   "cell_type": "code",
   "execution_count": 1,
   "id": "5e642044",
   "metadata": {},
   "outputs": [
    {
     "name": "stdout",
     "output_type": "stream",
     "text": [
      "def hours():\n",
      "    print(\"Open 9-5 daily\")\n"
     ]
    }
   ],
   "source": [
    "!type zoo.py"
   ]
  },
  {
   "cell_type": "markdown",
   "id": "5a84c2b0",
   "metadata": {},
   "source": [
    "__1. Create a zoo.py file first. Define the hours() function, which prints the string 'Open 9-5 daily'. Then, use the interactive interpreter to import the zoo module and call its hours() function.__"
   ]
  },
  {
   "cell_type": "code",
   "execution_count": 2,
   "id": "0d957b6e",
   "metadata": {},
   "outputs": [
    {
     "name": "stdout",
     "output_type": "stream",
     "text": [
      "Open 9-5 daily\n"
     ]
    }
   ],
   "source": [
    "import zoo\n",
    "zoo.hours()"
   ]
  },
  {
   "cell_type": "markdown",
   "id": "ab997147",
   "metadata": {},
   "source": [
    "__2. In the interactive interpreter, import the zoo module as menagerie and call its hours() function.__"
   ]
  },
  {
   "cell_type": "code",
   "execution_count": 3,
   "id": "0f99b6db",
   "metadata": {},
   "outputs": [
    {
     "name": "stdout",
     "output_type": "stream",
     "text": [
      "Open 9-5 daily\n"
     ]
    }
   ],
   "source": [
    "import zoo as menagerie\n",
    "menagerie.hours()"
   ]
  },
  {
   "cell_type": "markdown",
   "id": "405b4ec3",
   "metadata": {},
   "source": [
    "__3. Using the interpreter, explicitly import and call the hours() function from zoo.__"
   ]
  },
  {
   "cell_type": "code",
   "execution_count": 4,
   "id": "53c541e1",
   "metadata": {},
   "outputs": [
    {
     "name": "stdout",
     "output_type": "stream",
     "text": [
      "Open 9-5 daily\n"
     ]
    }
   ],
   "source": [
    "from zoo import hours\n",
    "hours()"
   ]
  },
  {
   "cell_type": "markdown",
   "id": "3dfcac0a",
   "metadata": {},
   "source": [
    "__4. Import the hours() function as info and call it.__"
   ]
  },
  {
   "cell_type": "code",
   "execution_count": 5,
   "id": "dd383d89",
   "metadata": {},
   "outputs": [
    {
     "name": "stdout",
     "output_type": "stream",
     "text": [
      "Open 9-5 daily\n"
     ]
    }
   ],
   "source": [
    "from zoo import hours as info\n",
    "info()"
   ]
  },
  {
   "cell_type": "markdown",
   "id": "6a3701e9",
   "metadata": {},
   "source": [
    "__5. Create a plain dictionary with the key-value pairs 'a': 1, 'b': 2, and 'c': 3, and print it out.__"
   ]
  },
  {
   "cell_type": "code",
   "execution_count": 6,
   "id": "8b8337c9",
   "metadata": {},
   "outputs": [
    {
     "name": "stdout",
     "output_type": "stream",
     "text": [
      "{'a': 1, 'b': 2, 'c': 3}\n"
     ]
    }
   ],
   "source": [
    "plain_dict = {'a':1,'b':2,'c':3}\n",
    "print(plain_dict)"
   ]
  },
  {
   "cell_type": "markdown",
   "id": "c841b137",
   "metadata": {},
   "source": [
    "__6.Make an OrderedDict called fancy from the same pairs listed in 5 and print it. Did it print in the same order as plain?__"
   ]
  },
  {
   "cell_type": "code",
   "execution_count": 7,
   "id": "e85c4933",
   "metadata": {},
   "outputs": [
    {
     "name": "stdout",
     "output_type": "stream",
     "text": [
      "plain_dict -> {'a': 1, 'b': 2, 'c': 3}\n",
      "fancy -> OrderedDict([('a', 1), ('b', 2), ('c', 3)])\n"
     ]
    }
   ],
   "source": [
    "from collections import OrderedDict\n",
    "fancy = OrderedDict(plain_dict)\n",
    "print(f'plain_dict -> {plain_dict}')\n",
    "print(f'fancy -> {fancy}')"
   ]
  },
  {
   "cell_type": "markdown",
   "id": "442f0979",
   "metadata": {},
   "source": [
    "__7. Make a default dictionary called dict_of_lists and pass it the argument list. Make the list dict_of_lists['a'] and append the value 'something for a' to it in one assignment. Print dict_of_lists['a'].__"
   ]
  },
  {
   "cell_type": "code",
   "execution_count": 8,
   "id": "a5e3b67c",
   "metadata": {},
   "outputs": [
    {
     "name": "stdout",
     "output_type": "stream",
     "text": [
      "['something for a']\n"
     ]
    }
   ],
   "source": [
    "from collections import defaultdict\n",
    "dict_of_lists = defaultdict(list)\n",
    "dict_of_lists['a'].append('something for a')\n",
    "print(dict_of_lists['a'])"
   ]
  },
  {
   "cell_type": "code",
   "execution_count": null,
   "id": "c2f5f085",
   "metadata": {},
   "outputs": [],
   "source": []
  }
 ],
 "metadata": {
  "kernelspec": {
   "display_name": "Python 3 (ipykernel)",
   "language": "python",
   "name": "python3"
  },
  "language_info": {
   "codemirror_mode": {
    "name": "ipython",
    "version": 3
   },
   "file_extension": ".py",
   "mimetype": "text/x-python",
   "name": "python",
   "nbconvert_exporter": "python",
   "pygments_lexer": "ipython3",
   "version": "3.9.13"
  }
 },
 "nbformat": 4,
 "nbformat_minor": 5
}
