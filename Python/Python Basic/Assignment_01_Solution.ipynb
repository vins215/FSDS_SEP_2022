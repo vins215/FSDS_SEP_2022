{
 "cells": [
  {
   "cell_type": "markdown",
   "id": "59db28dc",
   "metadata": {},
   "source": [
    "<H1>Assignment 01 Solutions</h1>  \n",
    "<H4>Name:Vinay C Shekhar</H4>  \n",
    "    <h4>Email:vinaycshekhar215@gmail.com</h4>\n",
    " "
   ]
  },
  {
   "cell_type": "markdown",
   "id": "8d4026f4",
   "metadata": {},
   "source": [
    "__1. In the below elements which of them are values or an expression? eg:- values can be integer or string and expressions will be mathematical operators.__\n",
    "* \n",
    "'hello'\n",
    "-87.8\n",
    "- \n",
    "/ \n",
    "+\t\n",
    "6 "
   ]
  },
  {
   "cell_type": "markdown",
   "id": "b22239f8",
   "metadata": {},
   "source": [
    "__Solution:__  \n",
    "Values => -87.8 , 6 \"hello\"\n",
    "\n",
    "Expression =>  /"
   ]
  },
  {
   "cell_type": "markdown",
   "id": "41d7a95c",
   "metadata": {},
   "source": [
    "__2. What is the difference between string and variable?__\n",
    "\n"
   ]
  },
  {
   "cell_type": "markdown",
   "id": "cc193ed7",
   "metadata": {},
   "source": [
    "__Solution:__  \n",
    "A Variable is a store of information, and a String is a type of information you would store in a Variable. A String is usually words, enclosed with \"\"\n",
    "\n",
    "Eg\n",
    "String V =\"Welcome to iNeuron\"\n",
    "V is the Variable, and we declared it as a String, use the single = to assign the text to it."
   ]
  },
  {
   "cell_type": "markdown",
   "id": "0d5dbc8e",
   "metadata": {},
   "source": [
    "__3. Describe three different data types.__"
   ]
  },
  {
   "cell_type": "markdown",
   "id": "c6e7f701",
   "metadata": {},
   "source": [
    "__Solution:__  \n",
    "char - use to store a character or symbol etc.\n",
    "\n",
    "String - Use to store arrray of character\n",
    "\n",
    "Int - use to store the number\n",
    "\n",
    "Bool - use to store the true or false"
   ]
  },
  {
   "cell_type": "markdown",
   "id": "19cbdc45",
   "metadata": {},
   "source": [
    "__4. What is an expression made up of? What do all expressions do?__"
   ]
  },
  {
   "cell_type": "markdown",
   "id": "0413ccc5",
   "metadata": {},
   "source": [
    "__Solution:__  \n",
    " An expression is a combination of values, variables, operators, and calls to functions. Expressions need to be evaluated.  The interpreter evaluates the expression and displays the result."
   ]
  },
  {
   "cell_type": "markdown",
   "id": "43a360f6",
   "metadata": {},
   "source": [
    "<b>5. This assignment statements, like spam = 10. What is the difference between an expression and a statement?</b>"
   ]
  },
  {
   "cell_type": "markdown",
   "id": "3f7bbed1",
   "metadata": {},
   "source": [
    "__Solution:__  \n",
    "An expression is a combination of values, variables, operators, and calls to functions. Expressions need to be evaluated. If you ask Python to print an expression, the interpreter evaluates the expression and displays the result.\n",
    "\n",
    "A statement is an instruction that the Python interpreter can execute. We have only seen the assignment statement so far. Some other kinds of statements that we’ll see shortly are while statements, for statements, if statements, and import statements"
   ]
  },
  {
   "cell_type": "markdown",
   "id": "9d1ee47d",
   "metadata": {},
   "source": [
    "__6. After running the following code, what does the variable bacon contain?\n",
    "bacon = 22\n",
    "bacon + 1__\n"
   ]
  },
  {
   "cell_type": "markdown",
   "id": "69264080",
   "metadata": {},
   "source": [
    "__Solution :__\n",
    "The variable bacon is set to 22"
   ]
  },
  {
   "cell_type": "code",
   "execution_count": 4,
   "id": "3ba29a2a",
   "metadata": {},
   "outputs": [
    {
     "name": "stdout",
     "output_type": "stream",
     "text": [
      "22\n"
     ]
    }
   ],
   "source": [
    "bacon=22\n",
    "bacon+1\n",
    "print(bacon)"
   ]
  },
  {
   "cell_type": "markdown",
   "id": "9d944484",
   "metadata": {},
   "source": [
    "__7. What should the values of the following two terms be?\n",
    "'spam' + 'spamspam'</n>\n",
    "'spam' * 3__"
   ]
  },
  {
   "cell_type": "markdown",
   "id": "2724e170",
   "metadata": {},
   "source": [
    "__Solution:__\n",
    " Both expressions evaluate to the string 'spamspamspam' Where as the first expression follows __String Concatentation__ and the second expression follows __String Multiplication.__"
   ]
  },
  {
   "cell_type": "code",
   "execution_count": 5,
   "id": "374b3fad",
   "metadata": {},
   "outputs": [
    {
     "name": "stdout",
     "output_type": "stream",
     "text": [
      "spamspamspam\n",
      "spamspamspam\n"
     ]
    }
   ],
   "source": [
    "print('spam'+'spamspam') # string concatenation\n",
    "print('spam'*3) # string multiplication"
   ]
  },
  {
   "cell_type": "markdown",
   "id": "79af30f2",
   "metadata": {},
   "source": [
    "__8. Why is eggs a valid variable name while 100 is invalid?__"
   ]
  },
  {
   "cell_type": "markdown",
   "id": "07181481",
   "metadata": {},
   "source": [
    "__Solution:__\n",
    "Rules for Python variables:\n",
    "\n",
    "A variable name must start with a letter or the underscore character  \n",
    "A variable name cannot start with a number  \n",
    "A variable name can only contain alpha-numeric characters and underscores (A-z, 0-9, and _ )  \n",
    "Variable names are case-sensitive (age, Age and AGE are three different variables)  "
   ]
  },
  {
   "cell_type": "markdown",
   "id": "bae9210a",
   "metadata": {},
   "source": [
    "__9. What three functions can be used to get the integer, floating-point number, or string vemrsion of a value?__"
   ]
  },
  {
   "cell_type": "markdown",
   "id": "cfa82c34",
   "metadata": {},
   "source": [
    "__Solution:__\n",
    "The int(),float(),and str() functions will evaluate to the integer,floating-point number,string version of the value passed to them."
   ]
  },
  {
   "cell_type": "markdown",
   "id": "09d5426c",
   "metadata": {},
   "source": [
    "__10. Why does this expression cause an error? How can you fix it?__   \n",
    "'I have eaten ' + 99 + ' burritos.'\n"
   ]
  },
  {
   "cell_type": "markdown",
   "id": "464198cc",
   "metadata": {},
   "source": [
    "__Solution:__  \n",
    "'I have eaten ' + 99 + ' burritos.'\n",
    "    we can only concatenate string not string and integer.  \n",
    "It can be fixed by converting the integer to string\n"
   ]
  },
  {
   "cell_type": "code",
   "execution_count": 9,
   "id": "d8c2622c",
   "metadata": {},
   "outputs": [
    {
     "name": "stdout",
     "output_type": "stream",
     "text": [
      "I have eaten 99 burritos\n"
     ]
    }
   ],
   "source": [
    "print('I have eaten '+str(99)+' burritos')"
   ]
  },
  {
   "cell_type": "code",
   "execution_count": null,
   "id": "6e280c3c",
   "metadata": {},
   "outputs": [],
   "source": []
  }
 ],
 "metadata": {
  "kernelspec": {
   "display_name": "Python 3 (ipykernel)",
   "language": "python",
   "name": "python3"
  },
  "language_info": {
   "codemirror_mode": {
    "name": "ipython",
    "version": 3
   },
   "file_extension": ".py",
   "mimetype": "text/x-python",
   "name": "python",
   "nbconvert_exporter": "python",
   "pygments_lexer": "ipython3",
   "version": "3.9.12"
  }
 },
 "nbformat": 4,
 "nbformat_minor": 5
}
