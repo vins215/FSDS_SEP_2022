{
 "cells": [
  {
   "cell_type": "markdown",
   "id": "9b96b0b9",
   "metadata": {},
   "source": [
    "<h1>Assignment 17 Solution "
   ]
  },
  {
   "cell_type": "markdown",
   "id": "ba82e646",
   "metadata": {},
   "source": [
    "__1. Assign the value 7 to the variable guess_me. Then, write the conditional tests (if, else, and elif) to print the string 'too low' if guess_me is less than 7, 'too high' if greater than 7, and 'just right' if equal to 7.__"
   ]
  },
  {
   "cell_type": "code",
   "execution_count": 11,
   "id": "301990b0",
   "metadata": {},
   "outputs": [
    {
     "name": "stdout",
     "output_type": "stream",
     "text": [
      "just Right\n",
      "too Low\n",
      "too High\n"
     ]
    }
   ],
   "source": [
    "def guess_me(guess_me):\n",
    "    if guess_me < 7:\n",
    "        print('too Low')\n",
    "    elif guess_me > 7:\n",
    "        print('too High')\n",
    "    else:\n",
    "        print('just Right')\n",
    "\n",
    "guess_me(7)\n",
    "guess_me(5)\n",
    "guess_me(15)"
   ]
  },
  {
   "cell_type": "markdown",
   "id": "f8679efa",
   "metadata": {},
   "source": [
    "__2. Assign the value 7 to the variable guess_me and the value 1 to the variable start. Write a while loop that compares start with guess_me. Print too low if start is less than guess me. If start equals guess_me, print 'found it!' and exit the loop. If start is greater than guess_me, print 'oops' and exit the loop. Increment start at the end of the loop.__"
   ]
  },
  {
   "cell_type": "code",
   "execution_count": 12,
   "id": "2af88471",
   "metadata": {},
   "outputs": [
    {
     "name": "stdout",
     "output_type": "stream",
     "text": [
      "too low\n",
      "too low\n",
      "too low\n",
      "too low\n",
      "too low\n",
      "too low\n",
      "found it\n"
     ]
    }
   ],
   "source": [
    "guess_me = 7\n",
    "start = 1\n",
    "while True:\n",
    "    if start < guess_me:\n",
    "        print('too low')\n",
    "    elif start == guess_me:\n",
    "        print('found it')\n",
    "        break\n",
    "    else:\n",
    "        print('oops')\n",
    "        break\n",
    "    start += 1"
   ]
  },
  {
   "cell_type": "markdown",
   "id": "9a11a136",
   "metadata": {},
   "source": [
    "__3. Print the following values of the list [3, 2, 1, 0] using a for loop.__"
   ]
  },
  {
   "cell_type": "code",
   "execution_count": 16,
   "id": "47b09be6",
   "metadata": {},
   "outputs": [
    {
     "name": "stdout",
     "output_type": "stream",
     "text": [
      "3\n",
      "2\n",
      "1\n",
      "0\n"
     ]
    }
   ],
   "source": [
    "for i in range (3,-1,-1):\n",
    "    print (i)"
   ]
  },
  {
   "cell_type": "markdown",
   "id": "dd85e60a",
   "metadata": {},
   "source": [
    "__4. Use a list comprehension to make a list of the even numbers in range(10)__"
   ]
  },
  {
   "cell_type": "code",
   "execution_count": 19,
   "id": "5661716f",
   "metadata": {},
   "outputs": [
    {
     "data": {
      "text/plain": [
       "[0, 2, 4, 6, 8]"
      ]
     },
     "execution_count": 19,
     "metadata": {},
     "output_type": "execute_result"
    }
   ],
   "source": [
    "[i for i in range(0,10,2)]"
   ]
  },
  {
   "cell_type": "markdown",
   "id": "9ac841f5",
   "metadata": {},
   "source": [
    "__5. Use a dictionary comprehension to create the dictionary squares. Use range(10) to return the keys, and use the square of each key as its value.__"
   ]
  },
  {
   "cell_type": "code",
   "execution_count": 20,
   "id": "dbc139ee",
   "metadata": {},
   "outputs": [
    {
     "data": {
      "text/plain": [
       "{0: 0, 1: 1, 2: 4, 3: 9, 4: 16, 5: 25, 6: 36, 7: 49, 8: 64, 9: 81}"
      ]
     },
     "execution_count": 20,
     "metadata": {},
     "output_type": "execute_result"
    }
   ],
   "source": [
    "({x:x**2 for x in range(10)})"
   ]
  },
  {
   "cell_type": "markdown",
   "id": "3b1c9b24",
   "metadata": {},
   "source": [
    "__6. Construct the set odd from the odd numbers in the range using a set comprehension (10).__"
   ]
  },
  {
   "cell_type": "code",
   "execution_count": 23,
   "id": "1f5b0b3a",
   "metadata": {},
   "outputs": [
    {
     "data": {
      "text/plain": [
       "{1, 3, 5, 7, 9}"
      ]
     },
     "execution_count": 23,
     "metadata": {},
     "output_type": "execute_result"
    }
   ],
   "source": [
    "({x for x in range(1,10,2) })"
   ]
  },
  {
   "cell_type": "markdown",
   "id": "a5c30e94",
   "metadata": {},
   "source": [
    "__7. Use a generator comprehension to return the string 'Got ' and a number for the numbers in range(10). Iterate through this by using a for loop.__"
   ]
  },
  {
   "cell_type": "code",
   "execution_count": 29,
   "id": "9194b71a",
   "metadata": {},
   "outputs": [
    {
     "name": "stdout",
     "output_type": "stream",
     "text": [
      "Got_0 Got_1 Got_2 Got_3 Got_4 Got_5 Got_6 Got_7 Got_8 Got_9 "
     ]
    }
   ],
   "source": [
    "x=('Got_'+str(x) for x in range(10))\n",
    "for i in x:\n",
    "    print (i,end=' ')"
   ]
  },
  {
   "cell_type": "markdown",
   "id": "0038881e",
   "metadata": {},
   "source": [
    "__8. Define a function called good that returns the list ['Harry', 'Ron', 'Hermione'].__"
   ]
  },
  {
   "cell_type": "code",
   "execution_count": 31,
   "id": "dcf6f620",
   "metadata": {},
   "outputs": [
    {
     "name": "stdout",
     "output_type": "stream",
     "text": [
      "['Harry', 'Ron', 'Hermione']\n"
     ]
    }
   ],
   "source": [
    "def good():\n",
    "    x =  ['Harry', 'Ron', 'Hermione']\n",
    "    return x\n",
    "print(good())"
   ]
  },
  {
   "cell_type": "markdown",
   "id": "bc8072af",
   "metadata": {},
   "source": [
    "__9. Define a generator function called get_odds that returns the odd numbers from range(10). Use a for loop to find and print the third value returned.__"
   ]
  },
  {
   "cell_type": "code",
   "execution_count": 33,
   "id": "1c1ac832",
   "metadata": {},
   "outputs": [
    {
     "data": {
      "text/plain": [
       "5"
      ]
     },
     "execution_count": 33,
     "metadata": {},
     "output_type": "execute_result"
    }
   ],
   "source": [
    "def get_odds():\n",
    "    output = []\n",
    "    for ele in range(1,10,2):\n",
    "        output.append(ele)\n",
    "    yield output\n",
    "\n",
    "next(get_odds())[2]"
   ]
  },
  {
   "cell_type": "markdown",
   "id": "1aff6619",
   "metadata": {},
   "source": [
    "__10. Define an exception called OopsException. Raise this exception to see what happens. Then write the code to catch this exception and print 'Caught an oops'.__"
   ]
  },
  {
   "cell_type": "code",
   "execution_count": 34,
   "id": "065b66fa",
   "metadata": {},
   "outputs": [
    {
     "name": "stdout",
     "output_type": "stream",
     "text": [
      "Caught in Oops -> name 'a' is not defined\n"
     ]
    }
   ],
   "source": [
    "class OopsException(Exception):\n",
    "    pass\n",
    "\n",
    "def test(input):\n",
    "    if input <0:\n",
    "        raise OopsException(a)\n",
    "try:\n",
    "    test(-100)\n",
    "except Exception as e:\n",
    "    print('Caught in Oops ->',e)"
   ]
  },
  {
   "cell_type": "markdown",
   "id": "230d8ad0",
   "metadata": {},
   "source": [
    "__11. Use zip() to make a dictionary called movies that pairs these lists: titles = ['Creature of Habit', 'Crewel Fate'] and plots = ['A nun turns into a monster', 'A haunted yarn shop'].__"
   ]
  },
  {
   "cell_type": "code",
   "execution_count": 35,
   "id": "fcf8c3e7",
   "metadata": {},
   "outputs": [
    {
     "name": "stdout",
     "output_type": "stream",
     "text": [
      "{'Creature of Habit': 'A nun turns into a monster', 'Crewel Fate': 'A haunted yarn shop'}\n"
     ]
    }
   ],
   "source": [
    "titles = ['Creature of Habit', 'Crewel Fate']\n",
    "plots = ['A nun turns into a monster', 'A haunted yarn shop']\n",
    "output = dict(zip(titles,plots))\n",
    "print(output)"
   ]
  },
  {
   "cell_type": "code",
   "execution_count": null,
   "id": "35896f3b",
   "metadata": {},
   "outputs": [],
   "source": []
  }
 ],
 "metadata": {
  "kernelspec": {
   "display_name": "Python 3 (ipykernel)",
   "language": "python",
   "name": "python3"
  },
  "language_info": {
   "codemirror_mode": {
    "name": "ipython",
    "version": 3
   },
   "file_extension": ".py",
   "mimetype": "text/x-python",
   "name": "python",
   "nbconvert_exporter": "python",
   "pygments_lexer": "ipython3",
   "version": "3.9.13"
  }
 },
 "nbformat": 4,
 "nbformat_minor": 5
}
