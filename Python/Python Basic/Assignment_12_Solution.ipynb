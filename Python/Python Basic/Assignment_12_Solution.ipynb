{
 "cells": [
  {
   "cell_type": "markdown",
   "id": "8c85d46c",
   "metadata": {},
   "source": [
    "<H1>Assignment 12 Solution"
   ]
  },
  {
   "cell_type": "markdown",
   "id": "996d5194",
   "metadata": {},
   "source": [
    "__1. In what modes should the PdfFileReader() and PdfFileWriter() File objects will be opened?__"
   ]
  },
  {
   "cell_type": "markdown",
   "id": "cb3cd4d9",
   "metadata": {},
   "source": [
    "For PdfFileReader() file objects should be opened in rb -> read binary mode, Whereas for PdfFileWriter() file objects should be opened in wb -> write binary mode"
   ]
  },
  {
   "cell_type": "markdown",
   "id": "6e806a3c",
   "metadata": {},
   "source": [
    "__2. From a PdfFileReader object, how do you get a Page object for page 5?__"
   ]
  },
  {
   "cell_type": "markdown",
   "id": "7bd252c5",
   "metadata": {},
   "source": [
    "PdfFileReader class provides a method called getPage(page_no) to get a page object."
   ]
  },
  {
   "cell_type": "markdown",
   "id": "4543314f",
   "metadata": {},
   "source": [
    "__3. What PdfFileReader variable stores the number of pages in the PDF document?__"
   ]
  },
  {
   "cell_type": "markdown",
   "id": "b3ab4e3d",
   "metadata": {},
   "source": [
    "getNumPages() method of PdfFileReader class stores the no pages in a PDF document"
   ]
  },
  {
   "cell_type": "markdown",
   "id": "b2984852",
   "metadata": {},
   "source": [
    "__4. If a PdfFileReader object’s PDF is encrypted with the password swordfish, what must you do before you can obtain Page objects from it?__"
   ]
  },
  {
   "cell_type": "markdown",
   "id": "f0cd2114",
   "metadata": {},
   "source": [
    "If a PdfFileReader object’s PDF is encrypted with the password swordfish and you're not aware of it. first read the Pdf using the PdfFileReader Class. PdfFileReader class provides a attribute called isEncrypted to check whether a pdf is encrypted or not. the method returns true if a pdf is encrypted and vice versa.\n",
    "if pdf is encrypted use the __decrypt()__ method provided by PdfFileReader class first then try to read the contents/pages of the pdf, else PyPDF2 will raise the following error __PyPDF2.utils.PdfReadError: file has not been decrypted__"
   ]
  },
  {
   "cell_type": "markdown",
   "id": "5a3e1f9c",
   "metadata": {},
   "source": [
    "from PyPDF2 import PdfFileReader  \n",
    "pdf_reader = PdfFileReader(file_path)  \n",
    "if pdf_reader.isEncrypted:   \n",
    "        pdf_reader.decrypt(\"swordfish\")\n",
    "for page in pdf_reader.pages:  \n",
    "        print(page.extractText())  "
   ]
  },
  {
   "cell_type": "markdown",
   "id": "180eeb5c",
   "metadata": {},
   "source": [
    "__5. What methods do you use to rotate a page?__"
   ]
  },
  {
   "cell_type": "markdown",
   "id": "bc7f1fbf",
   "metadata": {},
   "source": [
    "PyPDF2 Package provides 2 methods to rotate a page:\n",
    "\n",
    "rotateClockWise() -> For Clockwise rotation  \n",
    "rotateCounterClockWise() -> For Counter Clockwise rotation"
   ]
  },
  {
   "cell_type": "markdown",
   "id": "7c52ed12",
   "metadata": {},
   "source": [
    "__6. What is the difference between a Run object and a Paragraph object?__"
   ]
  },
  {
   "cell_type": "markdown",
   "id": "5e158eb5",
   "metadata": {},
   "source": [
    "The structure of a document is represented by three different data types in python-Docx. At the highest level, a Document object represents the entire document. The Document object contains a list of __Paragraph__ objects for the paragraphs in the document. (A new paragraph begins whenever the user presses ENTER or RETURN while typing in a Word document.)  \n",
    "Each of these Paragraph objects contains a list of one or more __Run__ objects.\n"
   ]
  },
  {
   "cell_type": "markdown",
   "id": "8ebde691",
   "metadata": {},
   "source": [
    "__7. How do you obtain a list of Paragraph objects for a Document object that’s stored in a variable named doc?__"
   ]
  },
  {
   "cell_type": "code",
   "execution_count": null,
   "id": "032c678e",
   "metadata": {},
   "outputs": [],
   "source": [
    "from docx import Document\n",
    "doc = Document(\"sample_file.docx\") # Path of the Docx file\n",
    "print(doc.paragraphs) # Prints the list of Paragraph objects for a Document\n",
    "for paragraph in doc.paragraphs:\n",
    "    print(paragraph.text) # Prints the text in the paragraph"
   ]
  },
  {
   "cell_type": "markdown",
   "id": "ae4a885a",
   "metadata": {},
   "source": [
    "__8. What type of object has bold, underline, italic, strike, and outline variables?__"
   ]
  },
  {
   "cell_type": "markdown",
   "id": "c7f7b846",
   "metadata": {},
   "source": [
    "Run object has bold, underline, italic, strike, and outline variables."
   ]
  },
  {
   "cell_type": "markdown",
   "id": "6717846f",
   "metadata": {},
   "source": [
    "__9. What is the difference between False, True, and None for the bold variable?__"
   ]
  },
  {
   "cell_type": "code",
   "execution_count": 2,
   "id": "40cbade3",
   "metadata": {},
   "outputs": [],
   "source": [
    "bold = True  # Style Set to Bold\n",
    "bold = False # Style Not Set to Bold\n",
    "bold = None # Style is Not Applicable"
   ]
  },
  {
   "cell_type": "markdown",
   "id": "814b7ea7",
   "metadata": {},
   "source": [
    "__10. How do you create a Document object for a new Word document?__"
   ]
  },
  {
   "cell_type": "code",
   "execution_count": 8,
   "id": "7d9bdaec",
   "metadata": {},
   "outputs": [],
   "source": [
    "from docx import Document\n",
    "document = Document()\n",
    "document.add_paragraph(\"iNeuron Full Stack DataScience Course\")\n",
    "document.save('mydocument.docx')"
   ]
  },
  {
   "cell_type": "markdown",
   "id": "f50d4c8e",
   "metadata": {},
   "source": [
    "__11. How do you add a paragraph with the text 'Hello, there!' to a Document object stored in a variable named doc?__"
   ]
  },
  {
   "cell_type": "code",
   "execution_count": 9,
   "id": "9e41fdde",
   "metadata": {},
   "outputs": [],
   "source": [
    "from docx import Document\n",
    "doc = Document()\n",
    "doc.add_paragraph('Hello, there!')\n",
    "doc.save('hello.docx')"
   ]
  },
  {
   "cell_type": "markdown",
   "id": "985754d0",
   "metadata": {},
   "source": [
    "__12. What integers represent the levels of headings available in Word documents?__"
   ]
  },
  {
   "cell_type": "markdown",
   "id": "b7756784",
   "metadata": {},
   "source": [
    "There are a total of 5 levels statring for 0 t0 4. where level 0 makes a headline with the horizontal line below the text, whereas the heading level 1 is the main heading. Similarly, the other headings are sub-heading with their's font-sizes in decreasing order.\n"
   ]
  },
  {
   "cell_type": "code",
   "execution_count": null,
   "id": "ee2e59e1",
   "metadata": {},
   "outputs": [],
   "source": []
  }
 ],
 "metadata": {
  "kernelspec": {
   "display_name": "Python 3 (ipykernel)",
   "language": "python",
   "name": "python3"
  },
  "language_info": {
   "codemirror_mode": {
    "name": "ipython",
    "version": 3
   },
   "file_extension": ".py",
   "mimetype": "text/x-python",
   "name": "python",
   "nbconvert_exporter": "python",
   "pygments_lexer": "ipython3",
   "version": "3.9.12"
  }
 },
 "nbformat": 4,
 "nbformat_minor": 5
}
