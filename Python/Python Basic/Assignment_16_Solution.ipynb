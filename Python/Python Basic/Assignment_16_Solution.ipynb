{
 "cells": [
  {
   "cell_type": "markdown",
   "id": "437dda5a",
   "metadata": {},
   "source": [
    "<H1>Assignment 16 Solution"
   ]
  },
  {
   "cell_type": "markdown",
   "id": "1b2bd6e3",
   "metadata": {},
   "source": [
    "__1. Create a list called years_list, starting with the year of your birth, and each year thereafter until the year of your fifth birthday. For example, if you were born in 1980. the list would be years_list = [1980, 1981, 1982, 1983, 1984, 1985].__"
   ]
  },
  {
   "cell_type": "code",
   "execution_count": 1,
   "id": "cc1aeee2",
   "metadata": {},
   "outputs": [
    {
     "name": "stdout",
     "output_type": "stream",
     "text": [
      "1999\n",
      "[1999, 2000, 2001, 2002, 2003, 2004]\n"
     ]
    }
   ],
   "source": [
    "n=int(input())\n",
    "years_list = [ele for ele in range(n,n+6)]\n",
    "print(years_list)\n"
   ]
  },
  {
   "cell_type": "markdown",
   "id": "9122ff2d",
   "metadata": {},
   "source": [
    "__2. In which year in years_list was your third birthday? Remember, you were 0 years of age for your first year.__"
   ]
  },
  {
   "cell_type": "code",
   "execution_count": 2,
   "id": "d1350645",
   "metadata": {},
   "outputs": [
    {
     "name": "stdout",
     "output_type": "stream",
     "text": [
      "2002\n"
     ]
    }
   ],
   "source": [
    "print(years_list[3])"
   ]
  },
  {
   "cell_type": "markdown",
   "id": "5eded371",
   "metadata": {},
   "source": [
    "__3.In the years list, which year were you the oldest?__"
   ]
  },
  {
   "cell_type": "code",
   "execution_count": 3,
   "id": "83b3a878",
   "metadata": {},
   "outputs": [
    {
     "name": "stdout",
     "output_type": "stream",
     "text": [
      "2004\n"
     ]
    }
   ],
   "source": [
    "print(years_list[-1])"
   ]
  },
  {
   "cell_type": "markdown",
   "id": "0a188fcb",
   "metadata": {},
   "source": [
    "__4. Make a list called things with these three strings as elements: \"mozzarella\", \"cinderella\", \"salmonella\".__"
   ]
  },
  {
   "cell_type": "code",
   "execution_count": 4,
   "id": "74f8cbe1",
   "metadata": {},
   "outputs": [
    {
     "name": "stdout",
     "output_type": "stream",
     "text": [
      "['mozzarella', 'cinderella', 'salmonella']\n"
     ]
    }
   ],
   "source": [
    "things = [ele+'ella' for ele in ['mozzar','cinder','salmon']]\n",
    "print(things)\n"
   ]
  },
  {
   "cell_type": "markdown",
   "id": "54306e8d",
   "metadata": {},
   "source": [
    "__5. Capitalize the element in things that refers to a person and then print the list. Did it change the element in the list?__"
   ]
  },
  {
   "cell_type": "code",
   "execution_count": 7,
   "id": "35d8bdd1",
   "metadata": {},
   "outputs": [
    {
     "name": "stdout",
     "output_type": "stream",
     "text": [
      "['Mozzarella', 'Cinderella', 'Salmonella']\n"
     ]
    }
   ],
   "source": [
    "for ele in range(len(things)):\n",
    "        things[ele] = things[ele].capitalize()\n",
    "print(things)\n"
   ]
  },
  {
   "cell_type": "markdown",
   "id": "a7341f0f",
   "metadata": {},
   "source": [
    "__6. Make a surprise list with the elements \"Groucho,\" \"Chico,\" and \"Harpo.\"__"
   ]
  },
  {
   "cell_type": "code",
   "execution_count": 8,
   "id": "77d47c46",
   "metadata": {},
   "outputs": [
    {
     "name": "stdout",
     "output_type": "stream",
     "text": [
      "['Groucho', 'Chico', 'Harpo']\n"
     ]
    }
   ],
   "source": [
    "suprise_list = ['Groucho','Chico','Harpo']\n",
    "print(suprise_list)"
   ]
  },
  {
   "cell_type": "markdown",
   "id": "012766bf",
   "metadata": {},
   "source": [
    "__7. Lowercase the last element of the surprise list, reverse it, and then capitalize it.__"
   ]
  },
  {
   "cell_type": "code",
   "execution_count": 9,
   "id": "980909d5",
   "metadata": {},
   "outputs": [
    {
     "name": "stdout",
     "output_type": "stream",
     "text": [
      "Oprah\n"
     ]
    }
   ],
   "source": [
    "print(suprise_list[-1].lower()[::-1].capitalize())"
   ]
  },
  {
   "cell_type": "markdown",
   "id": "7b7f3ded",
   "metadata": {},
   "source": [
    "__8. Make an English-to-French dictionary called e2f and print it. Here are your starter words: dog is chien, cat is chat, and walrus is morse.__"
   ]
  },
  {
   "cell_type": "code",
   "execution_count": 10,
   "id": "30562d5f",
   "metadata": {},
   "outputs": [
    {
     "name": "stdout",
     "output_type": "stream",
     "text": [
      "{'dog': 'chien', 'cat': 'chat', 'walrus': 'morse'}\n"
     ]
    }
   ],
   "source": [
    "e2f = {'dog':'chien','cat':'chat','walrus':'morse'}\n",
    "print(e2f)"
   ]
  },
  {
   "cell_type": "markdown",
   "id": "e29db04f",
   "metadata": {},
   "source": [
    "__9. Write the French word for walrus in your three-word dictionary e2f.__"
   ]
  },
  {
   "cell_type": "code",
   "execution_count": 11,
   "id": "12e749cd",
   "metadata": {},
   "outputs": [
    {
     "name": "stdout",
     "output_type": "stream",
     "text": [
      "morse\n"
     ]
    }
   ],
   "source": [
    "print(e2f.get('walrus'))"
   ]
  },
  {
   "cell_type": "markdown",
   "id": "615fd537",
   "metadata": {},
   "source": [
    "__10. Make a French-to-English dictionary called f2e from e2f. Use the items method.__"
   ]
  },
  {
   "cell_type": "code",
   "execution_count": 12,
   "id": "f78abfbb",
   "metadata": {},
   "outputs": [
    {
     "name": "stdout",
     "output_type": "stream",
     "text": [
      "{'chien': 'dog', 'chat': 'cat', 'morse': 'walrus'}\n"
     ]
    }
   ],
   "source": [
    "f2e = dict([ele[::-1] for ele in e2f.items()])\n",
    "print(f2e)"
   ]
  },
  {
   "cell_type": "markdown",
   "id": "cfa13970",
   "metadata": {},
   "source": [
    "__11. Print the English version of the French word chien using f2e.__"
   ]
  },
  {
   "cell_type": "code",
   "execution_count": 13,
   "id": "bedccf27",
   "metadata": {},
   "outputs": [
    {
     "name": "stdout",
     "output_type": "stream",
     "text": [
      "dog\n"
     ]
    }
   ],
   "source": [
    "print(f2e.get('chien'))"
   ]
  },
  {
   "cell_type": "markdown",
   "id": "d3894add",
   "metadata": {},
   "source": [
    "__12. Make and print a set of English words from the keys in e2f.__"
   ]
  },
  {
   "cell_type": "code",
   "execution_count": 14,
   "id": "b543fee2",
   "metadata": {},
   "outputs": [
    {
     "name": "stdout",
     "output_type": "stream",
     "text": [
      "['dog', 'cat', 'walrus']\n"
     ]
    }
   ],
   "source": [
    "print(list(e2f.keys()))"
   ]
  },
  {
   "cell_type": "markdown",
   "id": "b3fb61ae",
   "metadata": {},
   "source": [
    "__13. Make a multilevel dictionary called life. Use these strings for the topmost keys: 'animals', 'plants', and 'other'. Make the 'animals' key refer to another dictionary with the keys 'cats', 'octopi', and 'emus'. Make the 'cats' key refer to a list of strings with the values 'Henri', 'Grumpy', and 'Lucy'. Make all the other keys refer to empty dictionaries.__"
   ]
  },
  {
   "cell_type": "code",
   "execution_count": 15,
   "id": "0ce49159",
   "metadata": {},
   "outputs": [
    {
     "name": "stdout",
     "output_type": "stream",
     "text": [
      "{'animals': {'cats': ['Henri', 'Grumpy', 'Lucy'], 'octopi': {}, 'emus': {}}, 'plants': {}, 'other': {}}\n"
     ]
    }
   ],
   "source": [
    "life = {\n",
    "    'animals':{\n",
    "        'cats':['Henri','Grumpy','Lucy'],\n",
    "        'octopi':{},\n",
    "        'emus':{}\n",
    "    },\n",
    "    'plants':{},\n",
    "    'other':{}\n",
    "}\n",
    "print(life)\n"
   ]
  },
  {
   "cell_type": "markdown",
   "id": "956c226f",
   "metadata": {},
   "source": [
    "__14. Print the top-level keys of life.__"
   ]
  },
  {
   "cell_type": "code",
   "execution_count": 16,
   "id": "65bdae79",
   "metadata": {},
   "outputs": [
    {
     "name": "stdout",
     "output_type": "stream",
     "text": [
      "['animals', 'plants', 'other']\n"
     ]
    }
   ],
   "source": [
    "print(list(life.keys()))"
   ]
  },
  {
   "cell_type": "markdown",
   "id": "7bc43b5a",
   "metadata": {},
   "source": [
    "__15. Print the keys for life['animals'].__"
   ]
  },
  {
   "cell_type": "code",
   "execution_count": 17,
   "id": "2a58e331",
   "metadata": {},
   "outputs": [
    {
     "name": "stdout",
     "output_type": "stream",
     "text": [
      "['cats', 'octopi', 'emus']\n"
     ]
    }
   ],
   "source": [
    "print(list(life['animals'].keys()))"
   ]
  },
  {
   "cell_type": "markdown",
   "id": "a9c08b8e",
   "metadata": {},
   "source": [
    "__6. Print the values for life['animals']['cats']__"
   ]
  },
  {
   "cell_type": "code",
   "execution_count": 18,
   "id": "9448bce4",
   "metadata": {},
   "outputs": [
    {
     "name": "stdout",
     "output_type": "stream",
     "text": [
      "['Henri', 'Grumpy', 'Lucy']\n"
     ]
    }
   ],
   "source": [
    "print(life['animals']['cats'])"
   ]
  },
  {
   "cell_type": "code",
   "execution_count": null,
   "id": "8a13a325",
   "metadata": {},
   "outputs": [],
   "source": []
  }
 ],
 "metadata": {
  "kernelspec": {
   "display_name": "Python 3 (ipykernel)",
   "language": "python",
   "name": "python3"
  },
  "language_info": {
   "codemirror_mode": {
    "name": "ipython",
    "version": 3
   },
   "file_extension": ".py",
   "mimetype": "text/x-python",
   "name": "python",
   "nbconvert_exporter": "python",
   "pygments_lexer": "ipython3",
   "version": "3.9.13"
  }
 },
 "nbformat": 4,
 "nbformat_minor": 5
}
