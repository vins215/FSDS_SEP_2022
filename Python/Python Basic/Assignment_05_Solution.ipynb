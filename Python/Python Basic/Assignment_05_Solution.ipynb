{
 "cells": [
  {
   "cell_type": "markdown",
   "id": "f53a3310",
   "metadata": {},
   "source": [
    "<H1>Assignment 05 Solution</H1>\n",
    "<H4>Name:Vinay C Shekhar</H4>\n",
    "<H4>Email:vinaycshekhar215@gmail.com</H4>"
   ]
  },
  {
   "cell_type": "markdown",
   "id": "dc684b27",
   "metadata": {},
   "source": [
    "__1. What does an empty dictionary's code look like?__"
   ]
  },
  {
   "cell_type": "markdown",
   "id": "6216477f",
   "metadata": {},
   "source": [
    "An empty dictionary is often represented by two empty curly brackets\n",
    "d = {} or d = dict()"
   ]
  },
  {
   "cell_type": "markdown",
   "id": "1ababff3",
   "metadata": {},
   "source": [
    "__2. What is the value of a dictionary value with the key 'foo' and the value 42?__"
   ]
  },
  {
   "cell_type": "markdown",
   "id": "59ae09ac",
   "metadata": {},
   "source": [
    "{'foo':42}"
   ]
  },
  {
   "cell_type": "markdown",
   "id": "e13602ea",
   "metadata": {},
   "source": [
    "__3. What is the most significant distinction between a dictionary and a list?__"
   ]
  },
  {
   "cell_type": "markdown",
   "id": "1ad114fc",
   "metadata": {},
   "source": [
    "Dictionaries are represented by {} where as listed are represented by []\n",
    "The Items stored in a dictionary are Unordered , while the items in a list are ordered"
   ]
  },
  {
   "cell_type": "markdown",
   "id": "1f184bae",
   "metadata": {},
   "source": [
    "__4. What happens if you try to access spam['foo'] if spam is {'bar': 100}?__"
   ]
  },
  {
   "cell_type": "markdown",
   "id": "f4d7da6b",
   "metadata": {},
   "source": [
    "we will get a keyError KeyError: 'foo'"
   ]
  },
  {
   "cell_type": "markdown",
   "id": "1f6c5de1",
   "metadata": {},
   "source": [
    "__5. If a dictionary is stored in spam, what is the difference between the expressions 'cat' in spam and 'cat' in spam.keys()?__"
   ]
  },
  {
   "cell_type": "markdown",
   "id": "7dcfbcc3",
   "metadata": {},
   "source": [
    "spam.keys() Here 'cat' is a key  \n",
    "\n",
    "spam['cat'] Will return value at key 'cat'"
   ]
  },
  {
   "cell_type": "markdown",
   "id": "2a785c2a",
   "metadata": {},
   "source": [
    "__6. If a dictionary is stored in spam, what is the difference between the expressions 'cat' in spam and 'cat' in spam.values()?__"
   ]
  },
  {
   "cell_type": "markdown",
   "id": "6e558c15",
   "metadata": {},
   "source": [
    "spam.values() Here 'cat' is a value.  \n",
    "\n",
    "spam['cat'] Will return value at key 'cat'"
   ]
  },
  {
   "cell_type": "markdown",
   "id": "c64669b6",
   "metadata": {},
   "source": [
    "__7. What is a shortcut for the following code?__\n",
    "\n",
    "if 'color' not in spam:  \n",
    "spam['color'] = 'black'\n"
   ]
  },
  {
   "cell_type": "markdown",
   "id": "c3ef0581",
   "metadata": {},
   "source": [
    "__Solution:__ spam.setdefault('color','black')"
   ]
  },
  {
   "cell_type": "markdown",
   "id": "62dfd11f",
   "metadata": {},
   "source": [
    "__8. How do you \"pretty print\" dictionary values using which module and function?__"
   ]
  },
  {
   "cell_type": "markdown",
   "id": "877b9bf7",
   "metadata": {},
   "source": [
    "pprint() to Pretty Print a Dictionary in Python"
   ]
  },
  {
   "cell_type": "code",
   "execution_count": 3,
   "id": "41240a66",
   "metadata": {},
   "outputs": [
    {
     "name": "stdout",
     "output_type": "stream",
     "text": [
      "Printing using pprint() funciton\n",
      "[{'Age': '28',\n",
      "  'Name': 'Bhavan',\n",
      "  'Residence': {'City': 'New Delhi', 'Country': 'India'}},\n",
      " {'Age': '44',\n",
      "  'Name': 'Yann',\n",
      "  'Residence': {'City': 'Madrid', 'Country': 'Spain'}},\n",
      " {'Age': '29',\n",
      "  'Name': 'Strange',\n",
      "  'Residence': {'City': 'England', 'Country': 'UK'}},\n",
      " {'Age': '23',\n",
      "  'Name': 'Vin',\n",
      "  'Residence': {'City': 'Banglore', 'Country': 'India'}}]\n"
     ]
    }
   ],
   "source": [
    "import pprint\n",
    "ndict = [\n",
    "  {'Name': 'Bhavan', 'Age': '28', 'Residence': {'Country':'India', 'City': 'New Delhi'}},\n",
    "  {'Name': 'Yann', 'Age': '44', 'Residence': {'Country':'Spain', 'City': 'Madrid'}},\n",
    "  {'Name': 'Strange', 'Age': '29', 'Residence': {'Country':'UK', 'City': 'England'}},\n",
    "  {'Name': 'Vin', 'Age': '23', 'Residence': {'Country':'India', 'City': 'Banglore'}}\n",
    "]\n",
    "\n",
    "\n",
    "print('Printing using pprint() funciton')\n",
    "pprint.pprint(ndict)\n"
   ]
  },
  {
   "cell_type": "code",
   "execution_count": null,
   "id": "a6e597c6",
   "metadata": {},
   "outputs": [],
   "source": []
  }
 ],
 "metadata": {
  "kernelspec": {
   "display_name": "Python 3 (ipykernel)",
   "language": "python",
   "name": "python3"
  },
  "language_info": {
   "codemirror_mode": {
    "name": "ipython",
    "version": 3
   },
   "file_extension": ".py",
   "mimetype": "text/x-python",
   "name": "python",
   "nbconvert_exporter": "python",
   "pygments_lexer": "ipython3",
   "version": "3.9.12"
  }
 },
 "nbformat": 4,
 "nbformat_minor": 5
}
