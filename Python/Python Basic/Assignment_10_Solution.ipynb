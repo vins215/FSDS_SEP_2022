{
 "cells": [
  {
   "cell_type": "markdown",
   "id": "d100a125",
   "metadata": {},
   "source": [
    "<H1>Assignment 10 Solution"
   ]
  },
  {
   "cell_type": "markdown",
   "id": "48c8a1cc",
   "metadata": {},
   "source": [
    "__1. How do you distinguish between shutil.copy() and shutil.copytree()?__"
   ]
  },
  {
   "cell_type": "markdown",
   "id": "21a76986",
   "metadata": {},
   "source": [
    "shutil.copytree() method recursively copies an entire directory tree rooted at source (src) to the destination directory.  \n",
    "\n",
    "\n",
    "shutil.copy() method in Python is used to copy the content of source file to destination file or directory."
   ]
  },
  {
   "cell_type": "markdown",
   "id": "6fd49398",
   "metadata": {},
   "source": [
    "__2. What function is used to rename files??__"
   ]
  },
  {
   "cell_type": "markdown",
   "id": "26f2dc8b",
   "metadata": {},
   "source": [
    "os.rename()"
   ]
  },
  {
   "cell_type": "markdown",
   "id": "145b7c45",
   "metadata": {},
   "source": [
    "__3. What is the difference between the delete functions in the send2trash and shutil modules?__"
   ]
  },
  {
   "cell_type": "markdown",
   "id": "d0e76cfa",
   "metadata": {},
   "source": [
    "The send2trash functions will move a file or folder to the recycle bin, while shutil functions will permanently delete files and folders."
   ]
  },
  {
   "cell_type": "markdown",
   "id": "8adda231",
   "metadata": {},
   "source": [
    "__4.ZipFile objects have a close() method just like File objects’ close() method. What ZipFile method is equivalent to File objects’ open() method?__"
   ]
  },
  {
   "cell_type": "markdown",
   "id": "1a9ed68d",
   "metadata": {},
   "source": [
    "extract()"
   ]
  },
  {
   "cell_type": "markdown",
   "id": "d82a7844",
   "metadata": {},
   "source": [
    "__5. Create a programme that searches a folder tree for files with a certain file extension (such as .pdf or .jpg). Copy these files from whatever location they are in to a new folder.__"
   ]
  },
  {
   "cell_type": "code",
   "execution_count": 5,
   "id": "0f3583a5",
   "metadata": {},
   "outputs": [
    {
     "name": "stdout",
     "output_type": "stream",
     "text": [
      "Folder Name ➞ C:\\Users\\vinay\\old\n",
      "\n",
      "Sub Folders ➞ []\n",
      "\n",
      "Files ➞ ['certificate.pdf']\n",
      "\n",
      "Files copied successfully from C:\\Users\\vinay\\old to C:\\Users\\vinay\\New\n"
     ]
    }
   ],
   "source": [
    "import os\n",
    "import shutil\n",
    "\n",
    "def search_and_copy(source,destination,extensions):\n",
    "    source = os.path.abspath(source)\n",
    "    destination = os.path.abspath(destination)\n",
    "    for foldername, subfolder, filenames in os.walk(source):\n",
    "        print(f'Folder Name ➞ {foldername}',end='\\n\\n')\n",
    "        print(f'Sub Folders ➞ {subfolder}',end='\\n\\n')\n",
    "        print(f'Files ➞ {filenames}',end='\\n\\n')\n",
    "        for filename in filenames:\n",
    "            fileName,extension = os.path.splitext(filename)\n",
    "            if extension in extensions:\n",
    "                targetFile = foldername+os.path.sep+fileName+extension\n",
    "                shutil.copy(targetFile, destination)\n",
    "        print(f'Files copied successfully from {source} to {destination}')\n",
    "    \n",
    "extensions = ['.pdf','.jpg']\n",
    "source = 'C:\\\\Users\\\\vinay\\\\old'\n",
    "destination = 'C:\\\\Users\\\\vinay\\\\New'\n",
    "search_and_copy(source, destination, extensions)"
   ]
  },
  {
   "cell_type": "code",
   "execution_count": null,
   "id": "e3de0a1a",
   "metadata": {},
   "outputs": [],
   "source": []
  }
 ],
 "metadata": {
  "kernelspec": {
   "display_name": "Python 3 (ipykernel)",
   "language": "python",
   "name": "python3"
  },
  "language_info": {
   "codemirror_mode": {
    "name": "ipython",
    "version": 3
   },
   "file_extension": ".py",
   "mimetype": "text/x-python",
   "name": "python",
   "nbconvert_exporter": "python",
   "pygments_lexer": "ipython3",
   "version": "3.9.12"
  }
 },
 "nbformat": 4,
 "nbformat_minor": 5
}
