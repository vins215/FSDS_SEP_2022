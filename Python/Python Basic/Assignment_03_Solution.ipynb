{
 "cells": [
  {
   "cell_type": "markdown",
   "id": "fa657f59",
   "metadata": {},
   "source": [
    "<H1>Assignment 03 Solution </H1>\n",
    "\n",
    "<H4>Name : Vinay C Shekhar </H4>\n",
    "<H4>Email:vinaycshekhar215@gmail.com</H4>"
   ]
  },
  {
   "cell_type": "markdown",
   "id": "dbceb657",
   "metadata": {},
   "source": [
    "__1. Why are functions advantageous to have in your programs?__"
   ]
  },
  {
   "cell_type": "markdown",
   "id": "61fd894d",
   "metadata": {},
   "source": [
    "__Solution:__\n",
    "By using the function we can prevent the repeating of same code block in program  \n",
    "we can return as many outputs we want with different arguments \n"
   ]
  },
  {
   "cell_type": "markdown",
   "id": "0ed3f28d",
   "metadata": {},
   "source": [
    "__2. When does the code in a function run: when it's specified or when it's called?__"
   ]
  },
  {
   "cell_type": "markdown",
   "id": "9dcae7c4",
   "metadata": {},
   "source": [
    "The code of the function will run only when its  called by function name.  \n",
    "Its usually called in the main funtion at last."
   ]
  },
  {
   "cell_type": "markdown",
   "id": "ba14545a",
   "metadata": {},
   "source": [
    "__3. What statement creates a function?__"
   ]
  },
  {
   "cell_type": "code",
   "execution_count": 2,
   "id": "f6fcea24",
   "metadata": {},
   "outputs": [],
   "source": [
    "def function_name(parameters):\n",
    "    pass"
   ]
  },
  {
   "cell_type": "markdown",
   "id": "e28eb6bb",
   "metadata": {},
   "source": [
    "__4. What is the difference between a function and a function call?__"
   ]
  },
  {
   "cell_type": "markdown",
   "id": "56683fe5",
   "metadata": {},
   "source": [
    "Function :\n",
    "A function is a block of code that does a particular operation and returns a result. It usually accepts inputs as parameters and returns a result.\n",
    "\n",
    "Function Call :\n",
    " A function call is the code used to pass control to a function"
   ]
  },
  {
   "cell_type": "markdown",
   "id": "84e2d63c",
   "metadata": {},
   "source": [
    "__5. How many global scopes are there in a Python program? How many local scopes?__"
   ]
  },
  {
   "cell_type": "markdown",
   "id": "baa7007d",
   "metadata": {},
   "source": [
    "There is one global scope in Python program.  \n",
    "There is one local scope in python program."
   ]
  },
  {
   "cell_type": "markdown",
   "id": "d134a642",
   "metadata": {},
   "source": [
    "__6. What happens to variables in a local scope when the function call returns?__"
   ]
  },
  {
   "cell_type": "markdown",
   "id": "e8a818d9",
   "metadata": {},
   "source": [
    "When a function returns, the local scope is destroyed, and all the variables in it are dumped."
   ]
  },
  {
   "cell_type": "markdown",
   "id": "d7984865",
   "metadata": {},
   "source": [
    "__7. What is the concept of a return value? Is it possible to have a return value in an expression?__"
   ]
  },
  {
   "cell_type": "markdown",
   "id": "8ff8dc21",
   "metadata": {},
   "source": [
    "A return value is the value that a function will evaluate and return as the output. Like any value, a return value can be used as part of an expression.\n"
   ]
  },
  {
   "cell_type": "markdown",
   "id": "7dedfc75",
   "metadata": {},
   "source": [
    "__8. If a function does not have a return statement, what is the return value of a call to that function?__"
   ]
  },
  {
   "cell_type": "markdown",
   "id": "bf98b317",
   "metadata": {},
   "source": [
    " If there is no return statement for a function, its return value is None."
   ]
  },
  {
   "cell_type": "markdown",
   "id": "92362cc5",
   "metadata": {},
   "source": [
    "__9. How do you make a function variable refer to the global variable?__"
   ]
  },
  {
   "cell_type": "markdown",
   "id": "52074d8b",
   "metadata": {},
   "source": [
    "By Using the global keyword to declare which variables are global."
   ]
  },
  {
   "cell_type": "markdown",
   "id": "b04ca9eb",
   "metadata": {},
   "source": [
    "__10. What is the data type of None?__"
   ]
  },
  {
   "cell_type": "markdown",
   "id": "afa04b42",
   "metadata": {},
   "source": [
    "The data type of None is NoneType."
   ]
  },
  {
   "cell_type": "markdown",
   "id": "7bb14445",
   "metadata": {},
   "source": [
    "__11. What does the sentence import areallyourpetsnamederic do?__"
   ]
  },
  {
   "cell_type": "markdown",
   "id": "5fb3e207",
   "metadata": {},
   "source": [
    "The import statement imports a module named areallyourpetsnamederic."
   ]
  },
  {
   "cell_type": "markdown",
   "id": "b4f78e90",
   "metadata": {},
   "source": [
    "__12. If you had a bacon() feature in a spam module, what would you call it after importing spam?__"
   ]
  },
  {
   "cell_type": "markdown",
   "id": "ea2cf189",
   "metadata": {},
   "source": [
    "This function can be called with spam.bacon()."
   ]
  },
  {
   "cell_type": "markdown",
   "id": "898b68b2",
   "metadata": {},
   "source": [
    "__13. What can you do to save a programme from crashing if it encounters an error?__"
   ]
  },
  {
   "cell_type": "markdown",
   "id": "dd7c1c6f",
   "metadata": {},
   "source": [
    "Exceptional handelling and using of try catch block in the programme"
   ]
  },
  {
   "cell_type": "markdown",
   "id": "163b6c01",
   "metadata": {},
   "source": [
    "__14. What is the purpose of the try clause? What is the purpose of the except clause?__"
   ]
  },
  {
   "cell_type": "markdown",
   "id": "99a9807f",
   "metadata": {},
   "source": [
    "The try block lets you test a block of code for errors  \n",
    "The except block lets you handle the error."
   ]
  },
  {
   "cell_type": "code",
   "execution_count": null,
   "id": "89561d6a",
   "metadata": {},
   "outputs": [],
   "source": []
  }
 ],
 "metadata": {
  "kernelspec": {
   "display_name": "Python 3 (ipykernel)",
   "language": "python",
   "name": "python3"
  },
  "language_info": {
   "codemirror_mode": {
    "name": "ipython",
    "version": 3
   },
   "file_extension": ".py",
   "mimetype": "text/x-python",
   "name": "python",
   "nbconvert_exporter": "python",
   "pygments_lexer": "ipython3",
   "version": "3.9.12"
  }
 },
 "nbformat": 4,
 "nbformat_minor": 5
}
