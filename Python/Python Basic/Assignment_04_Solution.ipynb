{
 "cells": [
  {
   "cell_type": "markdown",
   "id": "9c616c20",
   "metadata": {},
   "source": [
    "<H1>Assignment 04 Solution<H1>\n",
    "    <H4>Name: Vinay C Shekhar</H4>\n",
    "    <H4>Email:vinaycshekhar215@gmail.com</H4>"
   ]
  },
  {
   "cell_type": "markdown",
   "id": "71f36f29",
   "metadata": {},
   "source": [
    "__1. What exactly is []?__"
   ]
  },
  {
   "cell_type": "markdown",
   "id": "f5060c03",
   "metadata": {},
   "source": [
    "Empty List"
   ]
  },
  {
   "cell_type": "markdown",
   "id": "181b3f5d",
   "metadata": {},
   "source": [
    "__2. In a list of values stored in a variable called spam, how would you assign the value 'hello' as the third value? (Assume [2, 4, 6, 8, 10] are in spam.)__"
   ]
  },
  {
   "cell_type": "markdown",
   "id": "dbb5de8e",
   "metadata": {},
   "source": [
    "spam[2] = 'hello'"
   ]
  },
  {
   "cell_type": "markdown",
   "id": "1acf4e35",
   "metadata": {},
   "source": [
    "<H3>Let's pretend the spam includes the list ['a', 'b', 'c', 'd'] for the next three queries.</H3>"
   ]
  },
  {
   "cell_type": "markdown",
   "id": "3fe16a7a",
   "metadata": {},
   "source": [
    "__3. What is the value of spam[int(int('3' * 2) / 11)]?__"
   ]
  },
  {
   "cell_type": "code",
   "execution_count": 1,
   "id": "16bd3980",
   "metadata": {},
   "outputs": [
    {
     "name": "stdout",
     "output_type": "stream",
     "text": [
      "d\n"
     ]
    }
   ],
   "source": [
    "spam=['a','b','c','d']\n",
    "print(spam[int(int('3'*2)//11)])"
   ]
  },
  {
   "cell_type": "markdown",
   "id": "cbaa4b71",
   "metadata": {},
   "source": [
    "__4. What is the value of spam[-1]?__"
   ]
  },
  {
   "cell_type": "code",
   "execution_count": 2,
   "id": "96db92e8",
   "metadata": {},
   "outputs": [
    {
     "name": "stdout",
     "output_type": "stream",
     "text": [
      "d\n"
     ]
    }
   ],
   "source": [
    "spam=['a','b','c','d']\n",
    "print(spam[-1])"
   ]
  },
  {
   "cell_type": "markdown",
   "id": "76fe7a43",
   "metadata": {},
   "source": [
    "__5. What is the value of spam[:2]?__"
   ]
  },
  {
   "cell_type": "code",
   "execution_count": 3,
   "id": "bf691fb0",
   "metadata": {},
   "outputs": [
    {
     "name": "stdout",
     "output_type": "stream",
     "text": [
      "['a', 'b']\n"
     ]
    }
   ],
   "source": [
    "print(spam[:2])"
   ]
  },
  {
   "cell_type": "markdown",
   "id": "4a3d2ccc",
   "metadata": {},
   "source": [
    "<H3>Let's pretend bacon has the list [3.14, 'cat,' 11, 'cat,' True] for the next three questions.</H3>"
   ]
  },
  {
   "cell_type": "markdown",
   "id": "7f975e84",
   "metadata": {},
   "source": [
    "__6. What is the value of bacon.index('cat')?__"
   ]
  },
  {
   "cell_type": "markdown",
   "id": "f429cffe",
   "metadata": {},
   "source": [
    "The value of bacon.index('cat') is 1"
   ]
  },
  {
   "cell_type": "code",
   "execution_count": 4,
   "id": "0a4102a0",
   "metadata": {},
   "outputs": [
    {
     "name": "stdout",
     "output_type": "stream",
     "text": [
      "1\n"
     ]
    }
   ],
   "source": [
    "bacon=[3.14,'cat',11,'cat',True]\n",
    "print(bacon.index('cat'))"
   ]
  },
  {
   "cell_type": "markdown",
   "id": "ce11124e",
   "metadata": {},
   "source": [
    "__7. How does bacon.append(99) change the look of the list value in bacon?__"
   ]
  },
  {
   "cell_type": "markdown",
   "id": "409097dd",
   "metadata": {},
   "source": [
    "The append method adds new elements to the end of the list"
   ]
  },
  {
   "cell_type": "code",
   "execution_count": 5,
   "id": "f9af2359",
   "metadata": {},
   "outputs": [
    {
     "name": "stdout",
     "output_type": "stream",
     "text": [
      "[3.14, 'cat', 11, 'cat', True, 99]\n"
     ]
    }
   ],
   "source": [
    "bacon.append(99)\n",
    "print(bacon)"
   ]
  },
  {
   "cell_type": "markdown",
   "id": "18dd4a16",
   "metadata": {},
   "source": [
    "__8. How does bacon.remove('cat') change the look of the list in bacon?__"
   ]
  },
  {
   "cell_type": "markdown",
   "id": "e2c03fac",
   "metadata": {},
   "source": [
    " The remove method removes the first occurence of the element in the list"
   ]
  },
  {
   "cell_type": "code",
   "execution_count": 6,
   "id": "5511e514",
   "metadata": {},
   "outputs": [
    {
     "name": "stdout",
     "output_type": "stream",
     "text": [
      "[3.14, 11, 'cat', True, 99]\n"
     ]
    }
   ],
   "source": [
    "bacon.remove('cat')\n",
    "print(bacon)"
   ]
  },
  {
   "cell_type": "markdown",
   "id": "dfc96649",
   "metadata": {},
   "source": [
    "__9. What are the list concatenation and list replication operators?__"
   ]
  },
  {
   "cell_type": "markdown",
   "id": "b0c76a23",
   "metadata": {},
   "source": [
    " The operator for list concatenation is +, while the operator for replication is *."
   ]
  },
  {
   "cell_type": "markdown",
   "id": "b2ace87d",
   "metadata": {},
   "source": [
    "__10. What is difference between the list methods append() and insert()?__"
   ]
  },
  {
   "cell_type": "markdown",
   "id": "ee04a648",
   "metadata": {},
   "source": [
    "While append() will add values only to the end of a list, insert() can add them anywhere in the list."
   ]
  },
  {
   "cell_type": "code",
   "execution_count": 7,
   "id": "63edb135",
   "metadata": {},
   "outputs": [
    {
     "name": "stdout",
     "output_type": "stream",
     "text": [
      "[1, 2, 3, 4, 5, 6]\n",
      "[1, 2, 6, 3, 4, 5, 6]\n"
     ]
    }
   ],
   "source": [
    "list = [1,2,3,4,5]\n",
    "list.append(6)\n",
    "print(list)\n",
    "list.insert(2,6)\n",
    "print(list)"
   ]
  },
  {
   "cell_type": "markdown",
   "id": "e2533b64",
   "metadata": {},
   "source": [
    "__11. What are the two methods for removing items from a list?__"
   ]
  },
  {
   "cell_type": "markdown",
   "id": "b19fc14a",
   "metadata": {},
   "source": [
    "The del statement and the remove() method are two ways to remove values from a list"
   ]
  },
  {
   "cell_type": "markdown",
   "id": "aac0faf6",
   "metadata": {},
   "source": [
    "__12. Describe how list values and string values are identical.__"
   ]
  },
  {
   "cell_type": "markdown",
   "id": "c32125fa",
   "metadata": {},
   "source": [
    "Both lists and strings can be passed to len() function, have indexes and slices, be used in for loops, be concatenated or replicated, and be used with the in and not in operators."
   ]
  },
  {
   "cell_type": "markdown",
   "id": "dbab7339",
   "metadata": {},
   "source": [
    "__13. What's the difference between tuples and lists?__"
   ]
  },
  {
   "cell_type": "markdown",
   "id": "5adadc6b",
   "metadata": {},
   "source": [
    "The key difference between the tuples and lists is that while the tuples are immutable objects the lists are mutable."
   ]
  },
  {
   "cell_type": "markdown",
   "id": "f1d0e8e3",
   "metadata": {},
   "source": [
    "__14. How do you type a tuple value that only contains the integer 42?__"
   ]
  },
  {
   "cell_type": "markdown",
   "id": "e0add9c1",
   "metadata": {},
   "source": [
    "t = (42)"
   ]
  },
  {
   "cell_type": "markdown",
   "id": "a19142d8",
   "metadata": {},
   "source": [
    "__15. How do you get a list value's tuple form? How do you get a tuple value's list form?__"
   ]
  },
  {
   "cell_type": "markdown",
   "id": "85f10554",
   "metadata": {},
   "source": [
    "tuple(list_name) will return list as tuple  \n",
    "\n",
    "list(tuple_name) will return tuple as list"
   ]
  },
  {
   "cell_type": "markdown",
   "id": "9830d5ba",
   "metadata": {},
   "source": [
    "__16. Variables that \"contain\" list values are not necessarily lists themselves. Instead, what do they contain?__"
   ]
  },
  {
   "cell_type": "markdown",
   "id": "9b65c8a9",
   "metadata": {},
   "source": [
    " They contain references to list values."
   ]
  },
  {
   "cell_type": "markdown",
   "id": "32b1ca3d",
   "metadata": {},
   "source": [
    "__17. How do you distinguish between copy.copy() and copy.deepcopy()?__"
   ]
  },
  {
   "cell_type": "markdown",
   "id": "d2a4e197",
   "metadata": {},
   "source": [
    "The copy.copy() function will do a shallow copy of a list, while the copy.deepcopy() function will do a deep copy of a list. That is, only copy.deepcopy() will duplicate any lists inside the list."
   ]
  },
  {
   "cell_type": "code",
   "execution_count": null,
   "id": "144608fe",
   "metadata": {},
   "outputs": [],
   "source": []
  }
 ],
 "metadata": {
  "kernelspec": {
   "display_name": "Python 3 (ipykernel)",
   "language": "python",
   "name": "python3"
  },
  "language_info": {
   "codemirror_mode": {
    "name": "ipython",
    "version": 3
   },
   "file_extension": ".py",
   "mimetype": "text/x-python",
   "name": "python",
   "nbconvert_exporter": "python",
   "pygments_lexer": "ipython3",
   "version": "3.9.12"
  }
 },
 "nbformat": 4,
 "nbformat_minor": 5
}
